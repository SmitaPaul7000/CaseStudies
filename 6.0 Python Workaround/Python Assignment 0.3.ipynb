{
  "nbformat": 4,
  "nbformat_minor": 0,
  "metadata": {
    "colab": {
      "name": "inu_3.0_Assignmnet3",
      "provenance": [],
      "collapsed_sections": [],
      "toc_visible": true,
      "include_colab_link": true
    },
    "kernelspec": {
      "display_name": "Python 3",
      "name": "python3"
    }
  },
  "cells": [
    {
      "cell_type": "markdown",
      "metadata": {
        "id": "view-in-github",
        "colab_type": "text"
      },
      "source": [
        "<a href=\"https://colab.research.google.com/github/SmitaPaul7000/CaseStudies/blob/master/6.0%20Python%20Workaround/Python%20Assignment%200.3.ipynb\" target=\"_parent\"><img src=\"https://colab.research.google.com/assets/colab-badge.svg\" alt=\"Open In Colab\"/></a>"
      ]
    },
    {
      "cell_type": "code",
      "metadata": {
        "id": "FLBmY2B_dEZa",
        "colab_type": "code",
        "colab": {}
      },
      "source": [
        "import numpy as np"
      ],
      "execution_count": 0,
      "outputs": []
    },
    {
      "cell_type": "markdown",
      "metadata": {
        "id": "GcC1-zGRdEmP",
        "colab_type": "text"
      },
      "source": [
        "# Task 1\n",
        "1.\n",
        "Write a function to compute 5/0 and use try/except to catch the exceptions."
      ]
    },
    {
      "cell_type": "code",
      "metadata": {
        "id": "6jAStE43dFza",
        "colab_type": "code",
        "colab": {
          "base_uri": "https://localhost:8080/",
          "height": 51
        },
        "outputId": "dfe31fc5-6664-4b89-d626-69d89ccb7889"
      },
      "source": [
        "def computezrodiv():\n",
        "    return 5/0\n",
        "\n",
        "try:\n",
        "    computezrodiv()\n",
        "except ZeroDivisionError:\n",
        "    print(\"Zero Division...\")\n",
        "finally:\n",
        "    print(\"In finally... \")"
      ],
      "execution_count": 4,
      "outputs": [
        {
          "output_type": "stream",
          "text": [
            "Zero Division...\n",
            "In finally... \n"
          ],
          "name": "stdout"
        }
      ]
    },
    {
      "cell_type": "markdown",
      "metadata": {
        "id": "kcxcEFFHdF7u",
        "colab_type": "text"
      },
      "source": [
        "2.\n",
        "Implement a Python program to generate all sentences where subject is in [\"Americans\",\n",
        "\"Indians\"] and verb is in [\"Play\", \"watch\"] and the object is in [\"Baseball\",\"cricket\"].\n",
        "Hint: Subject,Verb and Object should be declared in the program as shown below.\n",
        "subjects=[\"Americans \",\"Indians\"]\n",
        "verbs=[\"play\",\"watch\"]\n",
        "objects=[\"Baseball\",\"Cricket\"]\n",
        "\n",
        "Output should come as below:\n",
        "Americans play Baseball.\n",
        "Americans play Cricket.\n",
        "Americans watch Baseball.\n",
        "Americans watch Cricket.\n",
        "Indians play Baseball.\n",
        "Indians play Cricket.\n",
        "Indians watch Baseball.\n",
        "Indians watch Cricket."
      ]
    },
    {
      "cell_type": "code",
      "metadata": {
        "id": "Z3fekD1ddGCd",
        "colab_type": "code",
        "colab": {
          "base_uri": "https://localhost:8080/",
          "height": 54
        },
        "outputId": "1cd4f74e-f18a-4e3e-d04b-9e127f79bfbf"
      },
      "source": [
        "subject1 = [\"Americans\", \"Indians\"]\n",
        "verb1 = [\"Play\", \"watch\"]\n",
        "obj1 = [\"Baseball\",\"cricket\"]\n",
        "\n",
        "senlist = [(sub+\" \"+ vb + \" \" + ob) for sub in subject1 for vb in verb1 for ob in obj1]\n",
        "\n",
        "lst = [sentence for sentence in senlist]\n",
        "print(lst)\n"
      ],
      "execution_count": 21,
      "outputs": [
        {
          "output_type": "stream",
          "text": [
            "['Americans Play Baseball', 'Americans Play cricket', 'Americans watch Baseball', 'Americans watch cricket', 'Indians Play Baseball', 'Indians Play cricket', 'Indians watch Baseball', 'Indians watch cricket']\n"
          ],
          "name": "stdout"
        }
      ]
    },
    {
      "cell_type": "markdown",
      "metadata": {
        "id": "1v0pkF25dGId",
        "colab_type": "text"
      },
      "source": [
        "# Task 2:\n",
        "\n",
        "1.\n",
        "Write a function so that the columns of the output matrix are powers of the input vector.\n",
        "The order of the powers is determined by the increasing boolean argument. Specifically, when\n",
        "increasing is False, the i-th output column is the input vector raised element-wise to the power\n",
        "of N - i - 1.\n",
        "\n",
        "\n",
        "HINT: Such a matrix with a geometric progression in each row is named for Alexandre- Theophile Vandermonde.\n",
        "\n",
        "NOTE: The solution shared through Github should contain the source code used and the\n",
        "screenshot of the output."
      ]
    },
    {
      "cell_type": "code",
      "metadata": {
        "id": "8NUCW4N7dGOv",
        "colab_type": "code",
        "colab": {
          "base_uri": "https://localhost:8080/",
          "height": 102
        },
        "outputId": "2d6f7f66-1a9e-494e-835f-0fe784540695"
      },
      "source": [
        "x = np.array([1, 2, 3,4, 5])\n",
        "N = 3\n",
        "np.vander(x, N)"
      ],
      "execution_count": 22,
      "outputs": [
        {
          "output_type": "execute_result",
          "data": {
            "text/plain": [
              "array([[ 1,  1,  1],\n",
              "       [ 4,  2,  1],\n",
              "       [ 9,  3,  1],\n",
              "       [16,  4,  1],\n",
              "       [25,  5,  1]])"
            ]
          },
          "metadata": {
            "tags": []
          },
          "execution_count": 22
        }
      ]
    },
    {
      "cell_type": "code",
      "metadata": {
        "id": "xRvJzyZHfgAH",
        "colab_type": "code",
        "colab": {
          "base_uri": "https://localhost:8080/",
          "height": 799
        },
        "outputId": "4df06d20-cf0f-4d6e-dfa9-bf0144c58521"
      },
      "source": [
        "import numpy as np\n",
        "\n",
        "## Iterate over each number in the input vector n times, n being the number of columns in the o/p matrix and output \n",
        "## an intermediate vector. Use diff order formula based on increasing and decreasing condition.\n",
        "## Reshape the intermediate vector using the size of the input vector (rows) and n (columns) to generate the o/p matrix. \n",
        "   \n",
        "def gen_vander_matrix(ipvector, n, increasing=False):\n",
        "    \n",
        "    if not increasing:\n",
        "        op_matx = np.array([x**(n-1-i) for x in ipvector for i in range(n)]).reshape(ipvector.size,n)\n",
        "    elif increasing:\n",
        "        op_matx = np.array([x**i for x in ipvector for i in range(n)]).reshape(ipvector.size,n)\n",
        "    \n",
        "    return op_matx\n",
        "\n",
        "print(\"------------OUTPUT-------------\\n\")\n",
        "\n",
        "inputvector = np.array([1,2,3,4,5])\n",
        "no_col_opmat = 3\n",
        "op_matx_dec_order = gen_vander_matrix(inputvector,no_col_opmat,False)\n",
        "op_matx_inc_order = gen_vander_matrix(inputvector,no_col_opmat,True)\n",
        "\n",
        "print(\"The input array is:\",inputvector,\"\\n\")\n",
        "print(\"Number of columns in output matrix should be:\",no_col_opmat,\"\\n\")\n",
        "print(\"Vander matrix of the input array in decreasing order of powers:\\n\\n\",op_matx_dec_order,\"\\n\")\n",
        "print(\"Vander matrix of the input array in increasing order of powers:\\n\\n\",op_matx_inc_order,\"\\n\")\n",
        "\n",
        "inputvector = np.array([1,2,4,6,8,10])\n",
        "no_col_opmat = 5\n",
        "op_matx_dec_order = gen_vander_matrix(inputvector,no_col_opmat,False)\n",
        "op_matx_inc_order = gen_vander_matrix(inputvector,no_col_opmat,True)\n",
        "\n",
        "print(\"---------------------------------------------------------------\\n\")\n",
        "print(\"The input array is:\",inputvector,\"\\n\")\n",
        "print(\"Number of columns in output matrix should be:\",no_col_opmat,\"\\n\")\n",
        "print(\"Vander matrix of the input array in decreasing order of powers:\\n\\n\",op_matx_dec_order,\"\\n\")\n",
        "print(\"Vander matrix of the input array in increasing order of powers:\\n\\n\",op_matx_inc_order,\"\\n\")"
      ],
      "execution_count": 10,
      "outputs": [
        {
          "output_type": "stream",
          "text": [
            "------------OUTPUT-------------\n",
            "\n",
            "The input array is: [1 2 3 4 5] \n",
            "\n",
            "Number of columns in output matrix should be: 3 \n",
            "\n",
            "Vander matrix of the input array in decreasing order of powers:\n",
            "\n",
            " [[ 1  1  1]\n",
            " [ 4  2  1]\n",
            " [ 9  3  1]\n",
            " [16  4  1]\n",
            " [25  5  1]] \n",
            "\n",
            "Vander matrix of the input array in increasing order of powers:\n",
            "\n",
            " [[ 1  1  1]\n",
            " [ 1  2  4]\n",
            " [ 1  3  9]\n",
            " [ 1  4 16]\n",
            " [ 1  5 25]] \n",
            "\n",
            "---------------------------------------------------------------\n",
            "\n",
            "The input array is: [ 1  2  4  6  8 10] \n",
            "\n",
            "Number of columns in output matrix should be: 5 \n",
            "\n",
            "Vander matrix of the input array in decreasing order of powers:\n",
            "\n",
            " [[    1     1     1     1     1]\n",
            " [   16     8     4     2     1]\n",
            " [  256    64    16     4     1]\n",
            " [ 1296   216    36     6     1]\n",
            " [ 4096   512    64     8     1]\n",
            " [10000  1000   100    10     1]] \n",
            "\n",
            "Vander matrix of the input array in increasing order of powers:\n",
            "\n",
            " [[    1     1     1     1     1]\n",
            " [    1     2     4     8    16]\n",
            " [    1     4    16    64   256]\n",
            " [    1     6    36   216  1296]\n",
            " [    1     8    64   512  4096]\n",
            " [    1    10   100  1000 10000]] \n",
            "\n"
          ],
          "name": "stdout"
        }
      ]
    }
  ]
}