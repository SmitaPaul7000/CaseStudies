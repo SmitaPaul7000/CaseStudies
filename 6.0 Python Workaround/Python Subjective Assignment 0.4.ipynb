{
  "nbformat": 4,
  "nbformat_minor": 0,
  "metadata": {
    "colab": {
      "name": "inue_1.0_subjective.ipynb",
      "provenance": [],
      "collapsed_sections": [],
      "include_colab_link": true
    },
    "kernelspec": {
      "name": "python3",
      "display_name": "Python 3"
    }
  },
  "cells": [
    {
      "cell_type": "markdown",
      "metadata": {
        "id": "view-in-github",
        "colab_type": "text"
      },
      "source": [
        "<a href=\"https://colab.research.google.com/github/SmitaPaul7000/CaseStudies/blob/master/6.0%20Python%20Workaround/Python%20Subjective%20Assignment%200.4.ipynb\" target=\"_parent\"><img src=\"https://colab.research.google.com/assets/colab-badge.svg\" alt=\"Open In Colab\"/></a>"
      ]
    },
    {
      "cell_type": "code",
      "metadata": {
        "id": "8Wlf2-gDr-I4",
        "colab_type": "code",
        "colab": {}
      },
      "source": [
        "import numpy as np\n",
        "import re\n",
        "import pandas as pd\n",
        "import matplotlib.pyplot as plt\n",
        "import seaborn as sns\n",
        "from pandas import DataFrame\n",
        "import matplotlib as mpl\n",
        "import matplotlib.cm as cm"
      ],
      "execution_count": 0,
      "outputs": []
    },
    {
      "cell_type": "markdown",
      "metadata": {
        "id": "WqvczfDstZZS",
        "colab_type": "text"
      },
      "source": [
        "Q1. Write a Python program to get the string from the given string where all the occurrence of its first char has been changed to \"$\" \n",
        "except first char itself? Sample String: 'prospect' Expected Result : 'pros$ect'\n"
      ]
    },
    {
      "cell_type": "code",
      "metadata": {
        "id": "T4UAizVTtGU3",
        "colab_type": "code",
        "outputId": "f0beb74b-8b2a-46af-b600-15730a22d11c",
        "colab": {
          "base_uri": "https://localhost:8080/",
          "height": 34
        }
      },
      "source": [
        "# take first letter in diff variable and replace remaing string for p to S$.\n",
        "# append first char with replaced string(skip first char)\n",
        "str1 = \"prospectp\"\n",
        "firstOcc = str1[0]\n",
        "newstr1 = firstOcc + str1.replace(firstOcc, '$')[1:]\n",
        "print(newstr1)"
      ],
      "execution_count": 2,
      "outputs": [
        {
          "output_type": "stream",
          "text": [
            "pros$ect$\n"
          ],
          "name": "stdout"
        }
      ]
    },
    {
      "cell_type": "markdown",
      "metadata": {
        "id": "4DnPa-mEtfsF",
        "colab_type": "text"
      },
      "source": [
        "Q2. Write a Python program to get the single string from the two given strings, and separated by the space and swap the first two characters of each string? Sample String : 'abc', 'xyz'. Expected Result: 'xyc abz'\n"
      ]
    },
    {
      "cell_type": "code",
      "metadata": {
        "id": "stTvCD18tGee",
        "colab_type": "code",
        "outputId": "cebf16e5-d1c3-4b3a-fe1c-c271f7f91784",
        "colab": {
          "base_uri": "https://localhost:8080/",
          "height": 34
        }
      },
      "source": [
        "'''\n",
        "first 2 letter from 2nd string and last letter from first string\n",
        "first 2 letter from 1st string and last letter from second string\n",
        "'''\n",
        "str1 = \"abc\"\n",
        "str2 = \"xyz\"\n",
        "print(str2[0:2] + str1[-1]  +  \" \" + str1[0:2] + str2[-1])\n"
      ],
      "execution_count": 3,
      "outputs": [
        {
          "output_type": "stream",
          "text": [
            "xyc abz\n"
          ],
          "name": "stdout"
        }
      ]
    },
    {
      "cell_type": "markdown",
      "metadata": {
        "id": "fEp8K6K8tkLU",
        "colab_type": "text"
      },
      "source": [
        "Q3. Write the Python program to add 'ing' at the end of the given string (length of the string should be at least 3). If given string already ends with 'ing,' then add 'ly' instead. If string length of the given string is less than 3, leave it unchanged?\n",
        "Sample string: ' abc ' Expected result: ' abcing ' Sample string: ' string ' Expected result: ' stringly '\n"
      ]
    },
    {
      "cell_type": "code",
      "metadata": {
        "id": "eXArw4hftGq-",
        "colab_type": "code",
        "outputId": "5f1b5bd7-195c-4355-c3f0-9161e8faf21f",
        "colab": {
          "base_uri": "https://localhost:8080/",
          "height": 68
        }
      },
      "source": [
        "def addSuffix(str1):\n",
        "  if (len(str1) <= 3) & (str1[:3] != \"ing\"):\n",
        "    print (str1 + \"ing\")\n",
        "  else:    \n",
        "    print (str1 + \"ly\")\n",
        "\n",
        "addSuffix('abc')\n",
        "addSuffix('string')\n",
        "addSuffix('ing')"
      ],
      "execution_count": 4,
      "outputs": [
        {
          "output_type": "stream",
          "text": [
            "abcing\n",
            "stringly\n",
            "ingly\n"
          ],
          "name": "stdout"
        }
      ]
    },
    {
      "cell_type": "markdown",
      "metadata": {
        "id": "iqzARxZI2RCY",
        "colab_type": "text"
      },
      "source": [
        "Q4. Write the Python program to find the first appearance of the substring 'not' and 'poor' from the given string, if 'not' follows the 'poor', replace the whole 'not'...' poor' substring with 'good'.Return the resulting string.\n",
        "Sample string: 'The lyrics are not that poor!' 'The lyrics are poor!' Expected Result: 'The lyrics are good!' 'The lyrics are poor!'\n",
        "\n",
        "\n"
      ]
    },
    {
      "cell_type": "code",
      "metadata": {
        "id": "bJ1Qzd6CtGuF",
        "colab_type": "code",
        "outputId": "c84542e4-b64c-49ce-fa59-47af7d80e898",
        "colab": {
          "base_uri": "https://localhost:8080/",
          "height": 51
        }
      },
      "source": [
        "'''\n",
        "str1 = 'The lyrics are not that poor!' 'The lyrics are poor!' \n",
        "Expected Result: 'The lyrics are good!' 'The lyrics are poor!'\n",
        "'''\n",
        "\n",
        "def replacePoor(str1):\n",
        "  notPos = str1.find('not')\n",
        "  poorPos = str1.find('poor')\n",
        "\n",
        "  if (notPos > 0) & (poorPos > 0):\n",
        "    if notPos < poorPos:\n",
        "      str1 = str1.replace(str1[notPos:(poorPos+4)], 'good')\n",
        "    \n",
        "  print (str1)\n",
        "\n",
        "replacePoor('The lyrics are not that poor!')\n",
        "replacePoor('The lyrics are poor!' )"
      ],
      "execution_count": 5,
      "outputs": [
        {
          "output_type": "stream",
          "text": [
            "The lyrics are good!\n",
            "The lyrics are poor!\n"
          ],
          "name": "stdout"
        }
      ]
    },
    {
      "cell_type": "markdown",
      "metadata": {
        "id": "0FGStd_B2TtM",
        "colab_type": "text"
      },
      "source": [
        "Q5. Write the Python program to remove the characters which have odd index values of a given string.\n"
      ]
    },
    {
      "cell_type": "code",
      "metadata": {
        "id": "ZYkayiZrtGwy",
        "colab_type": "code",
        "outputId": "ffc83c80-af80-4946-cd54-4b580b9896ad",
        "colab": {
          "base_uri": "https://localhost:8080/",
          "height": 34
        }
      },
      "source": [
        "str1 = \"TestString Hello\"\n",
        "str2 = \"\"\n",
        "for i in range(0,len(str1)):\n",
        "  if i % 2 == 0:\n",
        "    str2 = str2 + str1[i]\n",
        "\n",
        "print(str2)\n"
      ],
      "execution_count": 6,
      "outputs": [
        {
          "output_type": "stream",
          "text": [
            "TsSrn el\n"
          ],
          "name": "stdout"
        }
      ]
    },
    {
      "cell_type": "markdown",
      "metadata": {
        "id": "JAMFapuJ2WXk",
        "colab_type": "text"
      },
      "source": [
        "Q6. Write the Python function to get a string made of 4 copies of the last two characters of the specified string (length must be at least 2).\n",
        "Sample function and result : insert-end ('Python') -> abababab insert-end('Exercises') -> jkjkjkjk\n"
      ]
    },
    {
      "cell_type": "code",
      "metadata": {
        "id": "uy-WyJa3tGzy",
        "colab_type": "code",
        "outputId": "cb2d78bc-83bc-4744-eca3-98bb0238a8d5",
        "colab": {
          "base_uri": "https://localhost:8080/",
          "height": 51
        }
      },
      "source": [
        "#take last 2 char and make 4 copies outof it\n",
        "def copies4(str1):\n",
        "    if len(str1) > 2:\n",
        "        print(str1[-2:]*4)\n",
        "    \n",
        "copies4('Python')\n",
        "copies4('Exercises')"
      ],
      "execution_count": 7,
      "outputs": [
        {
          "output_type": "stream",
          "text": [
            "onononon\n",
            "eseseses\n"
          ],
          "name": "stdout"
        }
      ]
    },
    {
      "cell_type": "markdown",
      "metadata": {
        "id": "gpNFwbqSGV_5",
        "colab_type": "text"
      },
      "source": [
        "Q7. Write the python function to get a string made of its first three characters of a specified string. If the length of the string is less than 3 then return the original string.\n",
        "Sample function and result : first-three('ipy') -> ipy first-three('python') -> pyt\n"
      ]
    },
    {
      "cell_type": "code",
      "metadata": {
        "id": "0izjnUuWtG2r",
        "colab_type": "code",
        "outputId": "504927d3-2642-4767-c05a-9059aaf1aeaf",
        "colab": {
          "base_uri": "https://localhost:8080/",
          "height": 51
        }
      },
      "source": [
        "\n",
        "def chkLenNreplace(str1):\n",
        "  if len(str1) > 3:\n",
        "      print(str1[0:3])\n",
        "  else:\n",
        "    print(str1)\n",
        "\n",
        "chkLenNreplace('ipy')\n",
        "chkLenNreplace('python')"
      ],
      "execution_count": 8,
      "outputs": [
        {
          "output_type": "stream",
          "text": [
            "ipy\n",
            "pyt\n"
          ],
          "name": "stdout"
        }
      ]
    },
    {
      "cell_type": "markdown",
      "metadata": {
        "id": "iaCphiERLu6z",
        "colab_type": "text"
      },
      "source": [
        "Q8. Write the python program to print the following floating numbers up to 2 decimal places?\n"
      ]
    },
    {
      "cell_type": "code",
      "metadata": {
        "id": "fritiGPetG5q",
        "colab_type": "code",
        "outputId": "6419ba8c-8f77-4576-8a16-89176ecda228",
        "colab": {
          "base_uri": "https://localhost:8080/",
          "height": 34
        }
      },
      "source": [
        "num1 = 78.563\n",
        "print(\"{:.2f}\".format(num1))"
      ],
      "execution_count": 9,
      "outputs": [
        {
          "output_type": "stream",
          "text": [
            "78.56\n"
          ],
          "name": "stdout"
        }
      ]
    },
    {
      "cell_type": "markdown",
      "metadata": {
        "id": "T2BHqRmhY7BN",
        "colab_type": "text"
      },
      "source": [
        "Q9. Write the Python program to format a number with a percentage?"
      ]
    },
    {
      "cell_type": "code",
      "metadata": {
        "id": "MLC3MhW1tG8q",
        "colab_type": "code",
        "outputId": "56dd9041-6000-425a-8d4b-6847cdbdd9e3",
        "colab": {
          "base_uri": "https://localhost:8080/",
          "height": 34
        }
      },
      "source": [
        "num1 = 78\n",
        "new = \"{:%}\".format(num1)\n",
        "print(new)"
      ],
      "execution_count": 10,
      "outputs": [
        {
          "output_type": "stream",
          "text": [
            "7800.000000%\n"
          ],
          "name": "stdout"
        }
      ]
    },
    {
      "cell_type": "markdown",
      "metadata": {
        "id": "dOdMOMuxaxca",
        "colab_type": "text"
      },
      "source": [
        "Q10. Write the Python program to count occurrences of a substring in a String?"
      ]
    },
    {
      "cell_type": "code",
      "metadata": {
        "id": "hN1moOMotG_i",
        "colab_type": "code",
        "outputId": "13187042-a384-42a2-9b4b-73bee6000cf9",
        "colab": {
          "base_uri": "https://localhost:8080/",
          "height": 34
        }
      },
      "source": [
        "str1 = \"ab ab ab test\"\n",
        "substr2 = \"ab\"\n",
        "str1.count(substr2)\n"
      ],
      "execution_count": 11,
      "outputs": [
        {
          "output_type": "execute_result",
          "data": {
            "text/plain": [
              "3"
            ]
          },
          "metadata": {
            "tags": []
          },
          "execution_count": 11
        }
      ]
    },
    {
      "cell_type": "markdown",
      "metadata": {
        "id": "zKKh8lIfbSQl",
        "colab_type": "text"
      },
      "source": [
        "Q11. Write the Python program to count repeated characters in a string.\n",
        "Sample string: ' thequickbrownjumpsoverthelazydog ' Expected output: \n",
        "o 3 \n",
        "e 3 \n",
        "u 2 \n",
        "h 2\n",
        "r 2"
      ]
    },
    {
      "cell_type": "code",
      "metadata": {
        "id": "QxqbEIyVtHCT",
        "colab_type": "code",
        "outputId": "7edffc61-0267-4615-cc5e-7643bb9dc257",
        "colab": {
          "base_uri": "https://localhost:8080/",
          "height": 119
        }
      },
      "source": [
        "str1 =\"thequickbrownjumpsoverthelazydog\"\n",
        "from collections import Counter \n",
        "#Counter is an unordered collection where elements are stored as Dict keys and their count as dict value\n",
        "res = Counter(str1) \n",
        "for val in res:\n",
        "    if res[val] > 1: #take only char who is repeated , means more than 1 \n",
        "        print(val,res[val])\n",
        "\n",
        " "
      ],
      "execution_count": 12,
      "outputs": [
        {
          "output_type": "stream",
          "text": [
            "t 2\n",
            "h 2\n",
            "e 3\n",
            "u 2\n",
            "r 2\n",
            "o 3\n"
          ],
          "name": "stdout"
        }
      ]
    },
    {
      "cell_type": "markdown",
      "metadata": {
        "id": "aeyIs4VZd6fc",
        "colab_type": "text"
      },
      "source": [
        "Q12. Write the Python program to print the square and cube symbol in the area of a rectangle and volume of a cylinder? Sample output- The area of the rectangle is 1256.66cm2 The volume of the cylinder is 1254.725cm3"
      ]
    },
    {
      "cell_type": "code",
      "metadata": {
        "id": "49tbBre9tGOr",
        "colab_type": "code",
        "outputId": "a190a571-5957-4741-8f91-6d5d5374198d",
        "colab": {
          "base_uri": "https://localhost:8080/",
          "height": 51
        }
      },
      "source": [
        "#to print superscript use \\u00b2 or \\u00b3\n",
        "print(f'The area of rectangle is 1256cm\\u00b2')\n",
        "print(f'The volume of cube is 1256cm\\u00b3')"
      ],
      "execution_count": 13,
      "outputs": [
        {
          "output_type": "stream",
          "text": [
            "The area of rectangle is 1256cm²\n",
            "The volume of cube is 1256cm³\n"
          ],
          "name": "stdout"
        }
      ]
    },
    {
      "cell_type": "markdown",
      "metadata": {
        "id": "UD1P2XB2fhfd",
        "colab_type": "text"
      },
      "source": [
        "Q13. Write the Python program to check if a string contains all letters of the alphabet?"
      ]
    },
    {
      "cell_type": "code",
      "metadata": {
        "id": "xp2iVpjSfkgJ",
        "colab_type": "code",
        "outputId": "ba99a5c2-0531-4cc0-f00e-5017deb5ffa5",
        "colab": {
          "base_uri": "https://localhost:8080/",
          "height": 68
        }
      },
      "source": [
        "str1 = \"abcdefghijklmnopqrstuvwxyz\"\n",
        "print(str1.isalpha())\n",
        "\n",
        "str1 = \"12ASD\"\n",
        "print(str1.isalpha())\n",
        "\n",
        "str1 = \"#er$\"\n",
        "print(str1.isalpha())"
      ],
      "execution_count": 14,
      "outputs": [
        {
          "output_type": "stream",
          "text": [
            "True\n",
            "False\n",
            "False\n"
          ],
          "name": "stdout"
        }
      ]
    },
    {
      "cell_type": "markdown",
      "metadata": {
        "id": "H4gASvXwfk4E",
        "colab_type": "text"
      },
      "source": [
        "Q14. Write the Python program to find the second most repeated word in a given string?"
      ]
    },
    {
      "cell_type": "code",
      "metadata": {
        "id": "ptuL3IEmflDx",
        "colab_type": "code",
        "outputId": "30c8fe42-74ff-4736-e046-a788f98b7ba2",
        "colab": {
          "base_uri": "https://localhost:8080/",
          "height": 34
        }
      },
      "source": [
        "str1 = \"how to play cric , cric play play\"\n",
        "words = str1.split(\" \") #split words \n",
        "word_count = {}\n",
        "\n",
        "#take count for each word\n",
        "for word in words:\n",
        "    word_count[word] = words.count(word) \n",
        "\n",
        "#sort it decending \n",
        "sorted_word = sorted(word_count.values(),reverse=True)\n",
        "\n",
        "for (key,val) in word_count.items():\n",
        "    if val == sorted_word[1] :\n",
        "        print(\"{} --> count {}\".format(key,val))\n"
      ],
      "execution_count": 15,
      "outputs": [
        {
          "output_type": "stream",
          "text": [
            "cric --> count 2\n"
          ],
          "name": "stdout"
        }
      ]
    },
    {
      "cell_type": "markdown",
      "metadata": {
        "id": "Lii_lITYflSY",
        "colab_type": "text"
      },
      "source": [
        "Q15. Write the Python program to find the minimum window in the given string, which will contains all the characters of another given strings?\n",
        "Example 1 Input : string1 = \" PRWSOERIUSFK \" string2 = \" OSU \" Output: Minimum window is \"OERIUS\""
      ]
    },
    {
      "cell_type": "code",
      "metadata": {
        "id": "O5ULBdPdfldJ",
        "colab_type": "code",
        "outputId": "ecf43483-3b91-40b7-a75a-d4f43c73e52f",
        "colab": {
          "base_uri": "https://localhost:8080/",
          "height": 34
        }
      },
      "source": [
        "import collections\n",
        "\n",
        "str1 = \"PRWSOERIUSFK\"\n",
        "str2 = \"OSU\"\n",
        "\n",
        "result_char, missing_char = collections.Counter(str2), len(str2)\n",
        "#print(result_char)\n",
        "#print( missing_char)\n",
        "i = p = q = 0\n",
        "for j, c in enumerate(str1, 1):    \n",
        "    missing_char -= result_char[c] > 0\n",
        "    result_char[c] -= 1\n",
        "    if not missing_char:\n",
        "        while i < q and result_char[str1[i]] < 0:\n",
        "            result_char[str1[i]] += 1\n",
        "            i += 1\n",
        "        if not q or j - i <= q - p:\n",
        "            p, q = i, j\n",
        "print(str1[p:q])"
      ],
      "execution_count": 16,
      "outputs": [
        {
          "output_type": "stream",
          "text": [
            "OERIUS\n"
          ],
          "name": "stdout"
        }
      ]
    },
    {
      "cell_type": "markdown",
      "metadata": {
        "id": "nzIM4K4xfllE",
        "colab_type": "text"
      },
      "source": [
        "Q16. Write the Python program to find smallest window that contains all characters of the given string?\n",
        "Original Strings: asdaewsqgtwwsa Smallest window that contains all characters of the said string:\n",
        "Daewsqgt"
      ]
    },
    {
      "cell_type": "code",
      "metadata": {
        "id": "etuincJOfltG",
        "colab_type": "code",
        "outputId": "5b605930-23a9-46ff-f668-7e6f9ab9dc1c",
        "colab": {
          "base_uri": "https://localhost:8080/",
          "height": 34
        }
      },
      "source": [
        "from collections import defaultdict\n",
        "\n",
        "def findSmallestWindow(str) :\n",
        "    str_len = len(str) \n",
        "      \n",
        "    dist_count_char = len(set([x for x in str])) \n",
        "  \n",
        "    ctr, start_pos, start_pos_index, min_len = 0, 0, -1, 9999999999\n",
        "    curr_count = defaultdict(lambda: 0) \n",
        "    for i in range(str_len): \n",
        "        curr_count[str[i]] += 1\n",
        " \n",
        "        if curr_count[str[i]] == 1: \n",
        "            ctr += 1\n",
        "  \n",
        "        if ctr == dist_count_char: \n",
        "            while curr_count[str[start_pos]] > 1: \n",
        "                if curr_count[str[start_pos]] > 1: \n",
        "                    curr_count[str[start_pos]] -= 1\n",
        "                start_pos += 1\n",
        "  \n",
        "            len_window = i - start_pos + 1\n",
        "            if min_len > len_window: \n",
        "                min_len = len_window \n",
        "                start_pos_index = start_pos \n",
        "    return str[start_pos_index: start_pos_index + min_len]  \n",
        "        \n",
        "findSmallestWindow('asdaewsqgtwwsa')"
      ],
      "execution_count": 17,
      "outputs": [
        {
          "output_type": "execute_result",
          "data": {
            "text/plain": [
              "'daewsqgt'"
            ]
          },
          "metadata": {
            "tags": []
          },
          "execution_count": 17
        }
      ]
    },
    {
      "cell_type": "markdown",
      "metadata": {
        "id": "gocX-TWFfl03",
        "colab_type": "text"
      },
      "source": [
        "Q17. Write the Python program to count number of substrings from a given string of lowercase alphabets with exactly k distinct (given) characters?\n",
        "Input a string (lowercase alphabets): wolf Input k: 4 Number of substrings with exactly 4 distinct characters: 1"
      ]
    },
    {
      "cell_type": "code",
      "metadata": {
        "id": "9a9Wx5Lvfl8K",
        "colab_type": "code",
        "outputId": "8e48015f-6019-4b90-a84c-fa4d4da5e38c",
        "colab": {
          "base_uri": "https://localhost:8080/",
          "height": 34
        }
      },
      "source": [
        "def count_k_dist(str1, k): \n",
        "    str_len = len(str1) \n",
        "    #print(str_len)\n",
        "    result = 0\n",
        "    #print(result)\n",
        "    ctr = [0] * 27\n",
        "    #print(ctr)\n",
        "\n",
        "    for i in range(0, str_len): \n",
        "        dist_ctr = 0\n",
        "\n",
        "        ctr = [0] * 27\n",
        "\n",
        "        for j in range(i, str_len): \n",
        "            if(ctr[ord(str1[j]) - 97] == 0): \n",
        "                dist_ctr += 1\n",
        "\n",
        "            ctr[ord(str1[j]) - 97] += 1\n",
        "\n",
        "            if(dist_ctr == k): \n",
        "                result += 1\n",
        "            if(dist_ctr > k): \n",
        "                break\n",
        "\n",
        "    return result\n",
        "\n",
        "\n",
        "count_k_dist('wolf',4)"
      ],
      "execution_count": 18,
      "outputs": [
        {
          "output_type": "execute_result",
          "data": {
            "text/plain": [
              "1"
            ]
          },
          "metadata": {
            "tags": []
          },
          "execution_count": 18
        }
      ]
    },
    {
      "cell_type": "markdown",
      "metadata": {
        "id": "Goje-G1ArAkR",
        "colab_type": "text"
      },
      "source": [
        "Q18. Write the Python program to count number of non-empty substrings of the given string? Input a string: w3resource Number of substrings: 55\n"
      ]
    },
    {
      "cell_type": "code",
      "metadata": {
        "id": "e7vjkx-rrAwX",
        "colab_type": "code",
        "outputId": "f38fb636-d294-4625-fcac-2faa2d362cd1",
        "colab": {
          "base_uri": "https://localhost:8080/",
          "height": 34
        }
      },
      "source": [
        "str = \"w3resource\"\n",
        "str_len = len(str); \n",
        "print(int(str_len * (str_len + 1) / 2))\n"
      ],
      "execution_count": 19,
      "outputs": [
        {
          "output_type": "stream",
          "text": [
            "55\n"
          ],
          "name": "stdout"
        }
      ]
    },
    {
      "cell_type": "markdown",
      "metadata": {
        "id": "tWxzar-ZrBDN",
        "colab_type": "text"
      },
      "source": [
        "Q19. Write the Python program to count number of substrings with same first and last characters of the given string?\n",
        "Input a string: abcd 4\n"
      ]
    },
    {
      "cell_type": "code",
      "metadata": {
        "id": "VtOhCP5LrBNv",
        "colab_type": "code",
        "outputId": "ec81fd5d-19cb-42c6-881c-80ac681c5ac8",
        "colab": {
          "base_uri": "https://localhost:8080/",
          "height": 34
        }
      },
      "source": [
        "str1 = \"abcd\"\n",
        "\n",
        "result = 0; \n",
        "n = len(str1); \n",
        "\n",
        "for i in range(n): \n",
        "  for j in range(i, n):     \n",
        "    if (str1[i] == str1[j]): \n",
        "      result = result + 1\n",
        "print(result )"
      ],
      "execution_count": 20,
      "outputs": [
        {
          "output_type": "stream",
          "text": [
            "4\n"
          ],
          "name": "stdout"
        }
      ]
    },
    {
      "cell_type": "markdown",
      "metadata": {
        "id": "efrYZMj5rBZ1",
        "colab_type": "text"
      },
      "source": [
        "Q20. Write the Python program to count the number of strings where the string length is 2 or more, and first and last character are same from a given list of strings.\n",
        "Sample List : ['abc', 'xyz', 'wxw', '1331'] Expected Result: 2"
      ]
    },
    {
      "cell_type": "code",
      "metadata": {
        "id": "x2kX9CY1rBiT",
        "colab_type": "code",
        "outputId": "93fc9455-1243-477e-e8f2-bc32ca2b92d5",
        "colab": {
          "base_uri": "https://localhost:8080/",
          "height": 34
        }
      },
      "source": [
        "str1 = ['abc', 'xyz', 'aba', '1331']\n",
        "ctr = 0\n",
        "for word in str1:\n",
        "  if len(word) > 2 and word[0] == word[-1]:\n",
        "    ctr += 1\n",
        "print (ctr)\n"
      ],
      "execution_count": 21,
      "outputs": [
        {
          "output_type": "stream",
          "text": [
            "2\n"
          ],
          "name": "stdout"
        }
      ]
    },
    {
      "cell_type": "markdown",
      "metadata": {
        "id": "t8LPQkIxffgw",
        "colab_type": "text"
      },
      "source": [
        "Q21. Write the Python program to get a list, sorted in increasing order by the last element in each tuple from the given list of non-empty tuples?\n",
        "Sample List - [ (2, 5), (1, 2), (4, 4), (2, 3), (2, 1) ] Expected Result - [ (2, 1), (1, 2), (2, 3), (4, 4), (2, 5) ]"
      ]
    },
    {
      "cell_type": "code",
      "metadata": {
        "id": "u2fH7_yUffpU",
        "colab_type": "code",
        "outputId": "99b01d74-45bb-453d-cb9c-066331dc4e3f",
        "colab": {
          "base_uri": "https://localhost:8080/",
          "height": 34
        }
      },
      "source": [
        "def last(n): return n[-1]\n",
        "\n",
        "str1= [(2, 5), (1, 2), (4, 4), (2, 3), (2, 1)]\n",
        "print(sorted(str1, key=last))\n",
        "\n"
      ],
      "execution_count": 22,
      "outputs": [
        {
          "output_type": "stream",
          "text": [
            "[(2, 1), (1, 2), (2, 3), (4, 4), (2, 5)]\n"
          ],
          "name": "stdout"
        }
      ]
    },
    {
      "cell_type": "markdown",
      "metadata": {
        "id": "qMLDpo6bffx8",
        "colab_type": "text"
      },
      "source": [
        "Q22. Write the Python program to remove duplicates from a list?"
      ]
    },
    {
      "cell_type": "code",
      "metadata": {
        "id": "WDvuCdDKff5V",
        "colab_type": "code",
        "outputId": "58d26ac7-a674-4880-cf78-4b4d995abd6c",
        "colab": {
          "base_uri": "https://localhost:8080/",
          "height": 34
        }
      },
      "source": [
        "a = [10,20,30,20,10,50,60,40,80,50,40]\n",
        "\n",
        "dup_items = set()\n",
        "uniq_items = []\n",
        "for x in a:\n",
        "    if x not in dup_items:\n",
        "        uniq_items.append(x)\n",
        "        dup_items.add(x)\n",
        "\n",
        "print(dup_items)"
      ],
      "execution_count": 23,
      "outputs": [
        {
          "output_type": "stream",
          "text": [
            "{40, 10, 80, 50, 20, 60, 30}\n"
          ],
          "name": "stdout"
        }
      ]
    },
    {
      "cell_type": "markdown",
      "metadata": {
        "id": "NkenCedAfgAU",
        "colab_type": "text"
      },
      "source": [
        "Q23. Write the Python program to find the list of words that are longer than n from a given list of words?"
      ]
    },
    {
      "cell_type": "code",
      "metadata": {
        "id": "DFNccwyofgHm",
        "colab_type": "code",
        "outputId": "ad48bc0b-95ca-454d-cdb5-29c2b83793dc",
        "colab": {
          "base_uri": "https://localhost:8080/",
          "height": 34
        }
      },
      "source": [
        "str1= \"The quick brown fox jumps over the lazy dog\"\n",
        "n=3\n",
        "print([word for word in str1.split(\" \") if len(word) > n])\n"
      ],
      "execution_count": 24,
      "outputs": [
        {
          "output_type": "stream",
          "text": [
            "['quick', 'brown', 'jumps', 'over', 'lazy']\n"
          ],
          "name": "stdout"
        }
      ]
    },
    {
      "cell_type": "markdown",
      "metadata": {
        "id": "TesGV4hyg3vL",
        "colab_type": "text"
      },
      "source": [
        "Q24. Write the Python program to print a specified list after removing the 0th, 4th, and 5th elements?\n",
        "Sample List - ['Red', 'Green', 'White', 'Black', 'Pink', 'Yellow'] Expected Output - ['Green', 'White', 'Black']"
      ]
    },
    {
      "cell_type": "code",
      "metadata": {
        "id": "SJjSs1U_g32N",
        "colab_type": "code",
        "outputId": "ac5012dc-3bf7-4b72-d91c-3d32d5c1281c",
        "colab": {
          "base_uri": "https://localhost:8080/",
          "height": 34
        }
      },
      "source": [
        "lists= ['Red', 'Green', 'White', 'Black', 'Pink', 'Yellow']\n",
        "lists= [x for (i,x) in enumerate(lists) if i not in (0,4,5)]\n",
        "lists"
      ],
      "execution_count": 25,
      "outputs": [
        {
          "output_type": "execute_result",
          "data": {
            "text/plain": [
              "['Green', 'White', 'Black']"
            ]
          },
          "metadata": {
            "tags": []
          },
          "execution_count": 25
        }
      ]
    },
    {
      "cell_type": "markdown",
      "metadata": {
        "id": "N_FQrvz_g39G",
        "colab_type": "text"
      },
      "source": [
        "Q25. Write the Python program to generate all permutations of a list in Python?"
      ]
    },
    {
      "cell_type": "code",
      "metadata": {
        "id": "sadhbCk1g4DN",
        "colab_type": "code",
        "outputId": "962eaee0-000e-4a96-b89d-be6f8e203d68",
        "colab": {
          "base_uri": "https://localhost:8080/",
          "height": 34
        }
      },
      "source": [
        "import itertools\n",
        "print(list(itertools.permutations([9,8,7])))"
      ],
      "execution_count": 26,
      "outputs": [
        {
          "output_type": "stream",
          "text": [
            "[(9, 8, 7), (9, 7, 8), (8, 9, 7), (8, 7, 9), (7, 9, 8), (7, 8, 9)]\n"
          ],
          "name": "stdout"
        }
      ]
    },
    {
      "cell_type": "markdown",
      "metadata": {
        "id": "jMDuteqdg4KO",
        "colab_type": "text"
      },
      "source": [
        "Q26. Write the Python program to convert a pair of values into a sorted unique array? Original List- [ (1, 2), (3, 4), (1, 2), (5, 6), (7, 8), (1, 2), (3, 4), (3, 4), (7, 8), (9, 10) ] Sorted Unique Data- [ 1, 2, 3, 4, 5, 6, 7, 8, 9, 10 ]"
      ]
    },
    {
      "cell_type": "code",
      "metadata": {
        "id": "OTSZMGg7g4QW",
        "colab_type": "code",
        "outputId": "2f020427-ee41-4b0d-e1a1-b1c8b19f156b",
        "colab": {
          "base_uri": "https://localhost:8080/",
          "height": 34
        }
      },
      "source": [
        "L =[ (1, 2), (3, 4), (1, 2), (5, 6), (7, 8), (1, 2), (3, 4), (3, 4), (7, 8), (9, 10) ]\n",
        "print(\"Sorted Unique Data:\",sorted(set().union(*L)))"
      ],
      "execution_count": 27,
      "outputs": [
        {
          "output_type": "stream",
          "text": [
            "Sorted Unique Data: [1, 2, 3, 4, 5, 6, 7, 8, 9, 10]\n"
          ],
          "name": "stdout"
        }
      ]
    },
    {
      "cell_type": "markdown",
      "metadata": {
        "id": "9ChFVMNBk4rk",
        "colab_type": "text"
      },
      "source": [
        "Q27. Write the Python class to convert an integer to a roman numeral?"
      ]
    },
    {
      "cell_type": "code",
      "metadata": {
        "id": "NDXpKsHXk5EL",
        "colab_type": "code",
        "outputId": "53bed84c-24f2-43ce-df7c-da75964a3bb2",
        "colab": {
          "base_uri": "https://localhost:8080/",
          "height": 85
        }
      },
      "source": [
        "from collections import OrderedDict\n",
        "\n",
        "def write_roman(num):\n",
        "\t\n",
        "\troman = OrderedDict()\n",
        "\troman[1000] = \"M\"\n",
        "\troman[900] = \"CM\"\n",
        "\troman[500] = \"D\"\n",
        "\troman[400] = \"CD\"\n",
        "\troman[100] = \"C\"\n",
        "\troman[90] = \"XC\"\n",
        "\troman[50] = \"L\"\n",
        "\troman[40] = \"XL\"\n",
        "\troman[10] = \"X\"\n",
        "\troman[9] = \"IX\"\n",
        "\troman[5] = \"V\"\n",
        "\troman[4] = \"IV\"\n",
        "\troman[1] = \"I\"\n",
        "\n",
        "\tdef roman_num(num):\n",
        "\t\tfor r in roman.keys(): # Iterate over the keys of the OrderedDict.\n",
        "\t\t\tx, y = divmod(num, r)\n",
        "\t\t\tyield roman[r] * x\n",
        "\t\t\tnum -= (r * x)\n",
        "\t\t\tif num > 0: # If there is a remainder, recurse.\n",
        "\t\t\t\troman_num(num)\n",
        "\t\t\telse:\n",
        "\t\t\t\tbreak\n",
        "\n",
        "\treturn \"\".join([a for a in roman_num(num)])\n",
        "\n",
        "num = 3\n",
        "print (write_roman(num))\n",
        "\n",
        "num = 994\n",
        "print (write_roman(num))\n",
        "\n",
        "num = 1995\n",
        "print (write_roman(num))\n",
        "\n",
        "num = 901\n",
        "print (write_roman(num))"
      ],
      "execution_count": 28,
      "outputs": [
        {
          "output_type": "stream",
          "text": [
            "III\n",
            "CMXCIV\n",
            "MCMXCV\n",
            "CMI\n"
          ],
          "name": "stdout"
        }
      ]
    },
    {
      "cell_type": "markdown",
      "metadata": {
        "id": "2m3f2IiAk5K1",
        "colab_type": "text"
      },
      "source": [
        "Q29. Write the Python class to find the validity of the string of the parentheses, '(', ')', '{', '}', '[' and '] and the brackets must be closed in the correct order, example - \"()\" and \"()[]{}\" are valid but \"[)\", \"({[)]\" and \"{{{\" are invalid."
      ]
    },
    {
      "cell_type": "code",
      "metadata": {
        "id": "GqK_P9xYk5Ry",
        "colab_type": "code",
        "outputId": "1b77cb62-9c67-4c2c-c1a3-2917f24eb436",
        "colab": {
          "base_uri": "https://localhost:8080/",
          "height": 102
        }
      },
      "source": [
        "class pchkPatan:\n",
        "   def is_valid_parenthese(self, str1):\n",
        "        stack, pchar = [], {\"(\": \")\", \"{\": \"}\", \"[\": \"]\"}\n",
        "        for parenthese in str1:\n",
        "            if parenthese in pchar:\n",
        "                stack.append(parenthese)\n",
        "            elif len(stack) == 0 or pchar[stack.pop()] != parenthese:\n",
        "                return False\n",
        "        return len(stack) == 0\n",
        "\n",
        "print(pchkPatan().is_valid_parenthese(\"()\"))\n",
        "print(pchkPatan().is_valid_parenthese(\"()[]{}\"))\n",
        "print(pchkPatan().is_valid_parenthese(\"[)\"))\n",
        "print(pchkPatan().is_valid_parenthese(\"({[)]\"))\n",
        "print(pchkPatan().is_valid_parenthese(\"{{{\"))\n"
      ],
      "execution_count": 29,
      "outputs": [
        {
          "output_type": "stream",
          "text": [
            "True\n",
            "True\n",
            "False\n",
            "False\n",
            "False\n"
          ],
          "name": "stdout"
        }
      ]
    },
    {
      "cell_type": "markdown",
      "metadata": {
        "id": "C5r4ocrYk5X0",
        "colab_type": "text"
      },
      "source": [
        "Q30. Write the Python class to get all possible unique subsets from a set of distinct integers?\n",
        "Input - [4, 5, 6] Output - [[], [6], [5], [5, 6], [4], [4, 6], [4, 5], [4, 5, 6]]"
      ]
    },
    {
      "cell_type": "code",
      "metadata": {
        "id": "F2S0-utEk5e1",
        "colab_type": "code",
        "outputId": "759bb704-a86f-4bee-b367-20fc6d9af6ee",
        "colab": {
          "base_uri": "https://localhost:8080/",
          "height": 34
        }
      },
      "source": [
        "class py_solution:\n",
        "    def sub_sets(self, sset):\n",
        "        return self.subsetsRecur([], sorted(sset))\n",
        "    \n",
        "    def subsetsRecur(self, current, sset):\n",
        "        if sset:\n",
        "            return self.subsetsRecur(current, sset[1:]) + self.subsetsRecur(current + [sset[0]], sset[1:])\n",
        "        return [current]\n",
        "\n",
        "print(py_solution().sub_sets([4,5,6]))"
      ],
      "execution_count": 30,
      "outputs": [
        {
          "output_type": "stream",
          "text": [
            "[[], [6], [5], [5, 6], [4], [4, 6], [4, 5], [4, 5, 6]]\n"
          ],
          "name": "stdout"
        }
      ]
    },
    {
      "cell_type": "markdown",
      "metadata": {
        "id": "NbRfsuLjk5k7",
        "colab_type": "text"
      },
      "source": [
        "Q31. Write the Python class to find a pair of elements (indices of the two numbers) from a given array whose sum equals the specific target number?\n",
        "Input: numbers- [10,20,10,40,50,60,70], target=50 Output- 3, 4\n"
      ]
    },
    {
      "cell_type": "code",
      "metadata": {
        "id": "L_RF9B56k5r8",
        "colab_type": "code",
        "outputId": "1430e1e4-c812-424c-bce2-689776037c88",
        "colab": {
          "base_uri": "https://localhost:8080/",
          "height": 34
        }
      },
      "source": [
        "class py_solution:\n",
        "   def twoSum(self, nums, target):\n",
        "        lookup = {}\n",
        "        for i, num in enumerate(nums):\n",
        "            if target - num in lookup:\n",
        "                return (lookup[target - num], i )\n",
        "            lookup[num] = i\n",
        "print(\"Output-\",py_solution().twoSum((10,20,10,40,50,60,70),50))"
      ],
      "execution_count": 31,
      "outputs": [
        {
          "output_type": "stream",
          "text": [
            "Output- (2, 3)\n"
          ],
          "name": "stdout"
        }
      ]
    },
    {
      "cell_type": "markdown",
      "metadata": {
        "id": "OF0YtB_yk5yN",
        "colab_type": "text"
      },
      "source": [
        "Q32. Write the Python class to find the three elements that sum to zero from the set of n real numbers?\n",
        "Input array- [-25, -10, -7, -3, 2, 4, 8, 10] Output - [[-10, 2, 8], [-7, -3, 10]]"
      ]
    },
    {
      "cell_type": "code",
      "metadata": {
        "id": "6sf8KEk0k56R",
        "colab_type": "code",
        "outputId": "5612a653-4ef3-4dd5-d999-6f013dfb4f13",
        "colab": {
          "base_uri": "https://localhost:8080/",
          "height": 34
        }
      },
      "source": [
        "class py_solution:\n",
        " def threeSum(self, nums):\n",
        "        nums, result, i = sorted(nums), [], 0\n",
        "        while i < len(nums) - 2:\n",
        "            j, k = i + 1, len(nums) - 1\n",
        "            while j < k:\n",
        "                if nums[i] + nums[j] + nums[k] < 0:\n",
        "                    j += 1\n",
        "                elif nums[i] + nums[j] + nums[k] > 0:\n",
        "                    k -= 1\n",
        "                else:\n",
        "                    result.append([nums[i], nums[j], nums[k]])\n",
        "                    j, k = j + 1, k - 1\n",
        "                    while j < k and nums[j] == nums[j - 1]:\n",
        "                        j += 1\n",
        "                    while j < k and nums[k] == nums[k + 1]:\n",
        "                        k -= 1\n",
        "            i += 1\n",
        "            while i < len(nums) - 2 and nums[i] == nums[i - 1]:\n",
        "                i += 1\n",
        "        return result\n",
        "\n",
        "print(py_solution().threeSum([-25, -10, -7, -3, 2, 4, 8, 10]))"
      ],
      "execution_count": 32,
      "outputs": [
        {
          "output_type": "stream",
          "text": [
            "[[-10, 2, 8], [-7, -3, 10]]\n"
          ],
          "name": "stdout"
        }
      ]
    },
    {
      "cell_type": "markdown",
      "metadata": {
        "id": "DpAMvXgxk6C0",
        "colab_type": "text"
      },
      "source": [
        "Q33. Write the Python class to implement pow(x, n)?"
      ]
    },
    {
      "cell_type": "code",
      "metadata": {
        "id": "fqtjT9Sik6S4",
        "colab_type": "code",
        "outputId": "78c57311-3ffc-407e-a184-e4f95bdbbaf0",
        "colab": {
          "base_uri": "https://localhost:8080/",
          "height": 68
        }
      },
      "source": [
        "class py_solution:\n",
        "   def pow(self, x, n):\n",
        "        if x==0 or x==1 or n==1:\n",
        "            return x \n",
        "\n",
        "        if x==-1:\n",
        "            if n%2 ==0:\n",
        "                return 1\n",
        "            else:\n",
        "                return -1\n",
        "        if n==0:\n",
        "            return 1\n",
        "        if n<0:\n",
        "            return 1/self.pow(x,-n)\n",
        "        val = self.pow(x,n//2)\n",
        "        if n%2 ==0:\n",
        "            return val*val\n",
        "        return val*val*x\n",
        "\n",
        "print(py_solution().pow(2, -3));\n",
        "print(py_solution().pow(3, 5));\n",
        "print(py_solution().pow(100, 0));"
      ],
      "execution_count": 33,
      "outputs": [
        {
          "output_type": "stream",
          "text": [
            "0.125\n",
            "243\n",
            "1\n"
          ],
          "name": "stdout"
        }
      ]
    },
    {
      "cell_type": "markdown",
      "metadata": {
        "id": "CUETxm4foihV",
        "colab_type": "text"
      },
      "source": [
        "Q34. Write the Python class which has two methods get_String and print_String. get_String accept the string from the user and print_String print the string in upper case."
      ]
    },
    {
      "cell_type": "code",
      "metadata": {
        "id": "kAIfrWcZoipQ",
        "colab_type": "code",
        "outputId": "de7da2d2-55c9-43d4-e1bb-04d5f4ff21af",
        "colab": {
          "base_uri": "https://localhost:8080/",
          "height": 34
        }
      },
      "source": [
        "class IOString():\n",
        "    def __init__(self):\n",
        "        self.str1 = \"\"\n",
        "\n",
        "    def get_String(self):\n",
        "        #self.str1 = input()\n",
        "        self.str1 = \"test string\"\n",
        "\n",
        "    def print_String(self):\n",
        "        print(self.str1.upper())\n",
        "\n",
        "str1 = IOString()\n",
        "str1.get_String()\n",
        "str1.print_String()"
      ],
      "execution_count": 34,
      "outputs": [
        {
          "output_type": "stream",
          "text": [
            "TEST STRING\n"
          ],
          "name": "stdout"
        }
      ]
    },
    {
      "cell_type": "markdown",
      "metadata": {
        "id": "56R2loKToivf",
        "colab_type": "text"
      },
      "source": [
        "Q35. Write the Python class named Rectangle constructed by a length and width and the method which will compute the area of the rectangle?\n"
      ]
    },
    {
      "cell_type": "code",
      "metadata": {
        "id": "HNWmIcrToi01",
        "colab_type": "code",
        "outputId": "05889fe0-3ec5-4498-9795-52a15d85fc62",
        "colab": {
          "base_uri": "https://localhost:8080/",
          "height": 34
        }
      },
      "source": [
        "class Rectangle():\n",
        "    def __init__(self, l, w):\n",
        "        self.length = l\n",
        "        self.width  = w\n",
        "\n",
        "    def rectangle_area(self):\n",
        "        return self.length*self.width\n",
        "\n",
        "newRectangle = Rectangle(12, 10)\n",
        "print(newRectangle.rectangle_area())"
      ],
      "execution_count": 35,
      "outputs": [
        {
          "output_type": "stream",
          "text": [
            "120\n"
          ],
          "name": "stdout"
        }
      ]
    },
    {
      "cell_type": "markdown",
      "metadata": {
        "id": "5nUkCUZHoi6W",
        "colab_type": "text"
      },
      "source": [
        "Q36. Write the Python class named Circle constructed by the radius and two methods which will compute the area and perimeter of the circle?"
      ]
    },
    {
      "cell_type": "code",
      "metadata": {
        "id": "wi0J72EKojBh",
        "colab_type": "code",
        "outputId": "766568a8-cbe3-4cca-b4f5-b86b1bcffff6",
        "colab": {
          "base_uri": "https://localhost:8080/",
          "height": 51
        }
      },
      "source": [
        "class Circle():\n",
        "    def __init__(self, r):\n",
        "        self.radius = r\n",
        "\n",
        "    def area(self):\n",
        "        return self.radius**2*3.14\n",
        "    \n",
        "    def perimeter(self):\n",
        "        return 2*self.radius*3.14\n",
        "\n",
        "NewCircle = Circle(8)\n",
        "print(NewCircle.area())\n",
        "print(NewCircle.perimeter())"
      ],
      "execution_count": 36,
      "outputs": [
        {
          "output_type": "stream",
          "text": [
            "200.96\n",
            "50.24\n"
          ],
          "name": "stdout"
        }
      ]
    },
    {
      "cell_type": "markdown",
      "metadata": {
        "id": "XhX6nf46ojGh",
        "colab_type": "text"
      },
      "source": [
        "Q37. Write the Python program to get the class name of an instance in Python?\n"
      ]
    },
    {
      "cell_type": "code",
      "metadata": {
        "id": "eSXQ-lMLojL_",
        "colab_type": "code",
        "outputId": "561f9867-3eb9-4136-f427-1f994e636e41",
        "colab": {
          "base_uri": "https://localhost:8080/",
          "height": 34
        }
      },
      "source": [
        "import itertools\n",
        "x = itertools.cycle('ABCD')\n",
        "print(type(x).__name__)"
      ],
      "execution_count": 37,
      "outputs": [
        {
          "output_type": "stream",
          "text": [
            "cycle\n"
          ],
          "name": "stdout"
        }
      ]
    },
    {
      "cell_type": "markdown",
      "metadata": {
        "id": "XgXG6IOxojRn",
        "colab_type": "text"
      },
      "source": [
        "Q38. Write the Python program to count the number of students of individual class?\n",
        "Sample data- classes = ( ('V', 1), ('VI', 1), ('V', 2), ('VI', 2), ('VI', 3), ('VII', 1), ) Expected Output- Counter({'VI': 3, 'V': 2, 'VII': 1})"
      ]
    },
    {
      "cell_type": "code",
      "metadata": {
        "id": "nmHXmEkoojXH",
        "colab_type": "code",
        "outputId": "a0f46e24-3312-414b-f95a-b568d5474cdd",
        "colab": {
          "base_uri": "https://localhost:8080/",
          "height": 34
        }
      },
      "source": [
        "from collections import Counter\n",
        "classes = (\n",
        "    ('V', 1),\n",
        "    ('VI', 1),\n",
        "    ('V', 2),\n",
        "    ('VI', 2),\n",
        "    ('VI', 3),\n",
        "    ('VII', 1),\n",
        ")\n",
        "students = Counter(class_name for class_name, no_students in classes)\n",
        "print(students)"
      ],
      "execution_count": 38,
      "outputs": [
        {
          "output_type": "stream",
          "text": [
            "Counter({'VI': 3, 'V': 2, 'VII': 1})\n"
          ],
          "name": "stdout"
        }
      ]
    },
    {
      "cell_type": "markdown",
      "metadata": {
        "id": "Zgt7I3qfojc8",
        "colab_type": "text"
      },
      "source": [
        "Q39. Write the Python program to create an instance of an OrderedDict\n",
        "using the given dictionary and sort dictionary during the creation and print members of the dictionary in reverse order?\n",
        "\n",
        "Expected Output- Angola 244. Andorra 376. Algeria 213. Afghanistan 93. Albania 355. In reverse order- Albania 355. Afghanistan 93. Algeria 213. Andorra 376. Angola 244."
      ]
    },
    {
      "cell_type": "code",
      "metadata": {
        "id": "NImZhAvlojiR",
        "colab_type": "code",
        "outputId": "c36d7adb-c4ae-4377-f520-48c0b306c23e",
        "colab": {
          "base_uri": "https://localhost:8080/",
          "height": 221
        }
      },
      "source": [
        "from collections import OrderedDict\n",
        "dict = {'Afghanistan': 93, 'Albania': 355, 'Algeria': 213, 'Andorra': 376, 'Angola': 244}\n",
        "new_dict = OrderedDict(dict.items())\n",
        "for key in new_dict:\n",
        "    print (key, new_dict[key])\n",
        "\n",
        "print(\"\\nIn reverse order:\")\n",
        "for key in reversed(new_dict):\n",
        "    print (key, new_dict[key])"
      ],
      "execution_count": 39,
      "outputs": [
        {
          "output_type": "stream",
          "text": [
            "Afghanistan 93\n",
            "Albania 355\n",
            "Algeria 213\n",
            "Andorra 376\n",
            "Angola 244\n",
            "\n",
            "In reverse order:\n",
            "Angola 244\n",
            "Andorra 376\n",
            "Algeria 213\n",
            "Albania 355\n",
            "Afghanistan 93\n"
          ],
          "name": "stdout"
        }
      ]
    },
    {
      "cell_type": "markdown",
      "metadata": {
        "id": "JkzKrHLiojoV",
        "colab_type": "text"
      },
      "source": [
        "Q40. Write the Python program to compare two unordered lists (not sets)?\n",
        "Expected Output: False\n"
      ]
    },
    {
      "cell_type": "code",
      "metadata": {
        "id": "Msle2ibNojvR",
        "colab_type": "code",
        "outputId": "26989e84-ae18-4235-eec3-a401dd5bdfb1",
        "colab": {
          "base_uri": "https://localhost:8080/",
          "height": 34
        }
      },
      "source": [
        "from collections import Counter\n",
        "def compare_lists(x, y):\n",
        "    return Counter(x) == Counter(y)\n",
        "n1 = [20, 10, 30, 10, 20, 30]\n",
        "n2 = [30, 20, 10, 30, 20, 50]\n",
        "print(compare_lists(n1, n2))"
      ],
      "execution_count": 40,
      "outputs": [
        {
          "output_type": "stream",
          "text": [
            "False\n"
          ],
          "name": "stdout"
        }
      ]
    },
    {
      "cell_type": "markdown",
      "metadata": {
        "id": "nic2FiTAoj0n",
        "colab_type": "text"
      },
      "source": [
        "Q41. Write the Python program to get an array buffer information? Expected Output- Array buffer start address in memory and number of elements. (25855056, 2)"
      ]
    },
    {
      "cell_type": "code",
      "metadata": {
        "id": "rkicBb8toj7b",
        "colab_type": "code",
        "outputId": "90730ea2-476b-4583-8680-c63f2d2faf7d",
        "colab": {
          "base_uri": "https://localhost:8080/",
          "height": 51
        }
      },
      "source": [
        "from array import array\n",
        "a = array(\"I\", (12,25))\n",
        "print(\"Array buffer start address in memory and number of elements.\")\n",
        "print(a.buffer_info())"
      ],
      "execution_count": 41,
      "outputs": [
        {
          "output_type": "stream",
          "text": [
            "Array buffer start address in memory and number of elements.\n",
            "(139744549820472, 2)\n"
          ],
          "name": "stdout"
        }
      ]
    },
    {
      "cell_type": "markdown",
      "metadata": {
        "id": "2dp9k-gCokA0",
        "colab_type": "text"
      },
      "source": [
        "Q42. Write the Python program to convert an array to an array of machine values and return the bytes representation?\n",
        "Expected Output- Original array- A1: array('i', [1, 2, 3, 4, 5, 6]) Array of bytes: b'010000000200000003000000040000000500000006000000'"
      ]
    },
    {
      "cell_type": "code",
      "metadata": {
        "id": "Wsjv3RX4okKC",
        "colab_type": "code",
        "outputId": "5e8727a7-3470-4eef-9f2a-6ac4c8e7702e",
        "colab": {
          "base_uri": "https://localhost:8080/",
          "height": 34
        }
      },
      "source": [
        "from array import *\n",
        "import binascii\n",
        "x = array('i', [1, 2, 3, 4, 5, 6])\n",
        "s = x.tobytes()\n",
        "print('Array of bytes:', binascii.hexlify(s))\n"
      ],
      "execution_count": 42,
      "outputs": [
        {
          "output_type": "stream",
          "text": [
            "Array of bytes: b'010000000200000003000000040000000500000006000000'\n"
          ],
          "name": "stdout"
        }
      ]
    },
    {
      "cell_type": "markdown",
      "metadata": {
        "id": "V1oY9dfUwUNT",
        "colab_type": "text"
      },
      "source": [
        "Q43. Write the Python program to read a string and interpreting the string as an array of machine values?\n",
        "Expected Output- array1- array('i', [7, 8, 9, 10]) Bytes- b'0700000008000000090000000a000000' array2- array('i', [7, 8, 9, 10])"
      ]
    },
    {
      "cell_type": "code",
      "metadata": {
        "id": "xRcHvwrSwUTc",
        "colab_type": "code",
        "outputId": "81bfff8e-332c-44fc-b2db-695a0aecb523",
        "colab": {
          "base_uri": "https://localhost:8080/",
          "height": 68
        }
      },
      "source": [
        "from array import array\n",
        "import binascii\n",
        "array1 = array('i', [7, 8, 9, 10])\n",
        "print('array1:', array1)\n",
        "as_bytes = array1.tobytes()\n",
        "print('Bytes:', binascii.hexlify(as_bytes))\n",
        "array2 = array('i')\n",
        "array2.frombytes(as_bytes)\n",
        "print('array2:', array2)"
      ],
      "execution_count": 43,
      "outputs": [
        {
          "output_type": "stream",
          "text": [
            "array1: array('i', [7, 8, 9, 10])\n",
            "Bytes: b'0700000008000000090000000a000000'\n",
            "array2: array('i', [7, 8, 9, 10])\n"
          ],
          "name": "stdout"
        }
      ]
    },
    {
      "cell_type": "markdown",
      "metadata": {
        "id": "rQ33khdNwUaN",
        "colab_type": "text"
      },
      "source": [
        "Q44. Write the Python program to push three items into the heap and return the smallest item from the heap. Also, return and pop the smallest item from the heap?\n",
        "Expected Output- Items in the heap- ('VI', 1). ('VII', 3). ('VIII', 2). ---------------------- The smallest item in the heap: ('VI', 1). ---------------------- Pop the smallest item in the heap: ('VII', 2). ('VIII', 3)."
      ]
    },
    {
      "cell_type": "code",
      "metadata": {
        "id": "DKr0mR2nwUuf",
        "colab_type": "code",
        "outputId": "cff9af48-8be0-4d72-9b12-d463c2d4508f",
        "colab": {
          "base_uri": "https://localhost:8080/",
          "height": 204
        }
      },
      "source": [
        "import heapq\n",
        "heap = []\n",
        "heapq.heappush(heap, ('VI', 1))\n",
        "heapq.heappush(heap, ('VII', 2))\n",
        "heapq.heappush(heap, ('VIII', 3))\n",
        "print(\"Items in the heap:\")\n",
        "for a in heap:\n",
        "\tprint(a)\n",
        "print(\"----------------------\")\n",
        "print(\"The smallest item in the heap:\")\n",
        "print(heap[0])\n",
        "print(\"----------------------\")\n",
        "print(\"Pop the smallest item in the heap:\")\n",
        "heapq.heappop(heap)\n",
        "for a in heap:\n",
        "\tprint(a)"
      ],
      "execution_count": 44,
      "outputs": [
        {
          "output_type": "stream",
          "text": [
            "Items in the heap:\n",
            "('VI', 1)\n",
            "('VII', 2)\n",
            "('VIII', 3)\n",
            "----------------------\n",
            "The smallest item in the heap:\n",
            "('VI', 1)\n",
            "----------------------\n",
            "Pop the smallest item in the heap:\n",
            "('VII', 2)\n",
            "('VIII', 3)\n"
          ],
          "name": "stdout"
        }
      ]
    },
    {
      "cell_type": "markdown",
      "metadata": {
        "id": "merFgWUswU1k",
        "colab_type": "text"
      },
      "source": [
        "Q45. Write the Python program to locate the left insertion point for a specified value in sorted order? Expected Output: 4 2\n",
        "\n"
      ]
    },
    {
      "cell_type": "code",
      "metadata": {
        "id": "bzgk2DWJwU8T",
        "colab_type": "code",
        "outputId": "4fb245a5-9b0d-48fc-a708-3bd58b7b56ce",
        "colab": {
          "base_uri": "https://localhost:8080/",
          "height": 51
        }
      },
      "source": [
        "import bisect\n",
        "def index(a, x):\n",
        "    i = bisect.bisect_left(a, x)\n",
        "    return i\n",
        "    \n",
        "a = [1,2,4,5]\n",
        "print(index(a, 6))\n",
        "print(index(a, 3))"
      ],
      "execution_count": 45,
      "outputs": [
        {
          "output_type": "stream",
          "text": [
            "4\n",
            "2\n"
          ],
          "name": "stdout"
        }
      ]
    },
    {
      "cell_type": "markdown",
      "metadata": {
        "id": "Xds2CTqRwVCi",
        "colab_type": "text"
      },
      "source": [
        "Q46. Write the Python program to create the FIFO queue? Expected Output: 0 1 2 3"
      ]
    },
    {
      "cell_type": "code",
      "metadata": {
        "id": "45xa_A4XwVJX",
        "colab_type": "code",
        "outputId": "a3ebaac5-bcc2-4cee-ebc9-a031d1baed01",
        "colab": {
          "base_uri": "https://localhost:8080/",
          "height": 51
        }
      },
      "source": [
        "import queue\n",
        "q = queue.Queue()\n",
        "#insert items at the end of the queue \n",
        "for x in range(4):\n",
        "    q.put(x)\n",
        "#remove items from the head of the queue \n",
        "while not q.empty():\n",
        "    print(q.get(), end=\" \")\n",
        "print(\"\\n\")"
      ],
      "execution_count": 46,
      "outputs": [
        {
          "output_type": "stream",
          "text": [
            "0 1 2 3 \n",
            "\n"
          ],
          "name": "stdout"
        }
      ]
    },
    {
      "cell_type": "markdown",
      "metadata": {
        "id": "GHVMfvrAwVPT",
        "colab_type": "text"
      },
      "source": [
        "Q47. Write the Python program to calculate the harmonic sum of n-1. Note: The harmonic sum is the sum of reciprocals of the positive Integers?\n",
        "Example -\n"
      ]
    },
    {
      "cell_type": "code",
      "metadata": {
        "id": "1zenPLgUwVVe",
        "colab_type": "code",
        "outputId": "b7150ed4-1fdc-40de-e494-4fd20f1128ef",
        "colab": {
          "base_uri": "https://localhost:8080/",
          "height": 51
        }
      },
      "source": [
        "def harmonic_sum(n):\n",
        "  if n < 2:\n",
        "    return 1\n",
        "  else:\n",
        "    return 1 / n + (harmonic_sum(n - 1))\n",
        "    \n",
        "print(harmonic_sum(7))\n",
        "print(harmonic_sum(4))"
      ],
      "execution_count": 47,
      "outputs": [
        {
          "output_type": "stream",
          "text": [
            "2.5928571428571425\n",
            "2.083333333333333\n"
          ],
          "name": "stdout"
        }
      ]
    },
    {
      "cell_type": "markdown",
      "metadata": {
        "id": "I_v-Tf0JwVb7",
        "colab_type": "text"
      },
      "source": [
        "Q48. Write the NumPy program to create a 2d array with 6 on the border and 0 inside?\n",
        "Expected Output- Original array- [ [6 6 6 6 6] [ 6 6 6 6 6] [ 6 6 6 6 6 ] [ 6 6 6 6 6 ] [ 6 6 6 6 ] ].\n",
        "6 on the border and 0 inside in the array- [[ 6 6 6 6 6] [ 6 0 0 0 6] [ 6 0 0 0 6] [ 6 0 0 0 6] [ 6 6 6 6 6]]."
      ]
    },
    {
      "cell_type": "code",
      "metadata": {
        "id": "bSaHiqJrkUNs",
        "colab_type": "code",
        "outputId": "97733f34-24fe-4182-f374-e9ec2820284c",
        "colab": {
          "base_uri": "https://localhost:8080/",
          "height": 238
        }
      },
      "source": [
        "arr1 = np.full((5,5), 6)\n",
        "print(\"Original array-\\n\", arr1)\n",
        "arr1[1:-1,1:-1] = 0\n",
        "print(\"\\n6 on the border and 0 inside in the array\")\n",
        "arr1"
      ],
      "execution_count": 48,
      "outputs": [
        {
          "output_type": "stream",
          "text": [
            "Original array-\n",
            " [[6 6 6 6 6]\n",
            " [6 6 6 6 6]\n",
            " [6 6 6 6 6]\n",
            " [6 6 6 6 6]\n",
            " [6 6 6 6 6]]\n",
            "\n",
            "6 on the border and 0 inside in the array\n"
          ],
          "name": "stdout"
        },
        {
          "output_type": "execute_result",
          "data": {
            "text/plain": [
              "array([[6, 6, 6, 6, 6],\n",
              "       [6, 0, 0, 0, 6],\n",
              "       [6, 0, 0, 0, 6],\n",
              "       [6, 0, 0, 0, 6],\n",
              "       [6, 6, 6, 6, 6]])"
            ]
          },
          "metadata": {
            "tags": []
          },
          "execution_count": 48
        }
      ]
    },
    {
      "cell_type": "markdown",
      "metadata": {
        "id": "WRDtjBCTwVo1",
        "colab_type": "text"
      },
      "source": [
        "Q49. Write the NumPy program to create a 8x8 matrix and fill it with the checkerboard pattern?\n",
        "Checkerboard pattern- [[3 9 3 9 3 9 3 9] [9 3 9 3 9 3 9 3] [3 9 3 9 3 9 3 9] [9 3 9 3 9 3 9 3] [3 9 3 9 3 9 3 9] [9 3 9 3 9 3 9 3] [3 9 3 9 3 9 3 9] [9 3 9 3 9 3 9 3]]."
      ]
    },
    {
      "cell_type": "code",
      "metadata": {
        "id": "_9Rj4aj8wVui",
        "colab_type": "code",
        "outputId": "58b30491-5d41-4618-830c-8525c16528d6",
        "colab": {
          "base_uri": "https://localhost:8080/",
          "height": 153
        }
      },
      "source": [
        "arr1 = np.full((8,8), 3)\n",
        "arr1[1::2,::2] = 9\n",
        "arr1[::2,1::2] = 9\n",
        "arr1"
      ],
      "execution_count": 49,
      "outputs": [
        {
          "output_type": "execute_result",
          "data": {
            "text/plain": [
              "array([[3, 9, 3, 9, 3, 9, 3, 9],\n",
              "       [9, 3, 9, 3, 9, 3, 9, 3],\n",
              "       [3, 9, 3, 9, 3, 9, 3, 9],\n",
              "       [9, 3, 9, 3, 9, 3, 9, 3],\n",
              "       [3, 9, 3, 9, 3, 9, 3, 9],\n",
              "       [9, 3, 9, 3, 9, 3, 9, 3],\n",
              "       [3, 9, 3, 9, 3, 9, 3, 9],\n",
              "       [9, 3, 9, 3, 9, 3, 9, 3]])"
            ]
          },
          "metadata": {
            "tags": []
          },
          "execution_count": 49
        }
      ]
    },
    {
      "cell_type": "markdown",
      "metadata": {
        "id": "qf_NbjuY0i8x",
        "colab_type": "text"
      },
      "source": [
        "Q50. Write the NumPy program to create an empty and a full array. Expected Output- [[4.45057637e-308 1.78021527e-306 8.45549797e-307 1.37962049e-306] [1.11260619e-306 1.78010255e-306 9.79054228e-307 4.45057637e-308] [8.45596650e-307 9.34602321e-307 4.94065646e-322 0.00000000e+000]] [[6 6 6] [6 6 6] [6 6 6]]"
      ]
    },
    {
      "cell_type": "code",
      "metadata": {
        "id": "D8qhNSrN0jHl",
        "colab_type": "code",
        "outputId": "31a44468-7faf-4b9d-aacb-908844b1de7b",
        "colab": {
          "base_uri": "https://localhost:8080/",
          "height": 119
        }
      },
      "source": [
        "#empty array\n",
        "arr1 = np.empty((3,4))\n",
        "print(arr1)\n",
        "\n",
        "#full array\n",
        "arr1 = np.full((3,3),6)\n",
        "print(arr1)"
      ],
      "execution_count": 50,
      "outputs": [
        {
          "output_type": "stream",
          "text": [
            "[[2.44144476e-316 3.11261357e-322 2.12199579e-314 3.44620186e-085]\n",
            " [4.34900767e+199 1.87422380e+261 4.56782417e-085 1.98678556e+161]\n",
            " [9.30534527e+199 9.08367203e+223 1.72561845e-306 0.00000000e+000]]\n",
            "[[6 6 6]\n",
            " [6 6 6]\n",
            " [6 6 6]]\n"
          ],
          "name": "stdout"
        }
      ]
    },
    {
      "cell_type": "markdown",
      "metadata": {
        "id": "KxqlQR_ymZQf",
        "colab_type": "text"
      },
      "source": [
        "Q51. Write the NumPy program to convert the values of Centigrade degrees into the Fahrenheit degrees and the centigrade values are stored in the NumPy array.\n",
        "\n",
        "Sample Array -[0, 12, 45.21 ,34, 99.91] \n",
        "\n",
        "Expected Output- Values in Fahrenheit degrees- [ 0. 12. 45.21 34. 99.91] \n",
        "\n",
        "Values in Centigrade degrees- [-17.77777778 -11.11111111 7.33888889 1.11111111 37.72777778]"
      ]
    },
    {
      "cell_type": "code",
      "metadata": {
        "id": "2ADVVAzgmZZ-",
        "colab_type": "code",
        "outputId": "cee13095-ba89-4934-8267-86d55e4878a9",
        "colab": {
          "base_uri": "https://localhost:8080/",
          "height": 85
        }
      },
      "source": [
        "fvalues = [0, 12, 45.21, 34, 99.91]\n",
        "F = np.array(fvalues)\n",
        "print(\"Values in Fahrenheit degrees:\")\n",
        "print(F)\n",
        "print(\"Values in  Centigrade degrees:\") \n",
        "print(5*F/9 - 5*32/9)"
      ],
      "execution_count": 51,
      "outputs": [
        {
          "output_type": "stream",
          "text": [
            "Values in Fahrenheit degrees:\n",
            "[ 0.   12.   45.21 34.   99.91]\n",
            "Values in  Centigrade degrees:\n",
            "[-17.77777778 -11.11111111   7.33888889   1.11111111  37.72777778]\n"
          ],
          "name": "stdout"
        }
      ]
    },
    {
      "cell_type": "markdown",
      "metadata": {
        "id": "3Y3vfubFmZhn",
        "colab_type": "text"
      },
      "source": [
        "Q52. Write the NumPy program to find the real and imaginary parts of an array of complex numbers?\n",
        "\n",
        "Expected Output- Original array [ 1.00000000+0.j 0.70710678+0.70710678j] \n",
        "\n",
        "Real part of the array- [ 1. 0.70710678] \n",
        "\n",
        "Imaginary part of the array- [ 0. 0.70710678]"
      ]
    },
    {
      "cell_type": "code",
      "metadata": {
        "id": "pt0NheX9mZnQ",
        "colab_type": "code",
        "outputId": "5183322d-1104-48f1-f55a-bd64bac1bec0",
        "colab": {
          "base_uri": "https://localhost:8080/",
          "height": 187
        }
      },
      "source": [
        "x = np.sqrt([1+0j])\n",
        "y = np.sqrt([0+1j])\n",
        "\n",
        "print(\"Original array:x \",x)\n",
        "print(\"Original array:y \",y)\n",
        "print(\"\\nReal part of the array:\")\n",
        "print(x.real)\n",
        "print(y.real)\n",
        "print(\"\\nImaginary part of the array:\")\n",
        "print(x.imag)\n",
        "print(y.imag)"
      ],
      "execution_count": 52,
      "outputs": [
        {
          "output_type": "stream",
          "text": [
            "Original array:x  [1.+0.j]\n",
            "Original array:y  [0.70710678+0.70710678j]\n",
            "\n",
            "Real part of the array:\n",
            "[1.]\n",
            "[0.70710678]\n",
            "\n",
            "Imaginary part of the array:\n",
            "[0.]\n",
            "[0.70710678]\n"
          ],
          "name": "stdout"
        }
      ]
    },
    {
      "cell_type": "markdown",
      "metadata": {
        "id": "YecO9pyQmZtg",
        "colab_type": "text"
      },
      "source": [
        "Q53. Write the NumPy program to test whether each element of a 1-D array is also present in the second array?\n",
        "Expected Output- Array1: [ 0 10 20 40 60] Array2: [0, 40] Compare each element of array1 and array2 [ True False False True False]"
      ]
    },
    {
      "cell_type": "code",
      "metadata": {
        "id": "rht2SP23mZz9",
        "colab_type": "code",
        "outputId": "97ff29ca-5cef-4843-9b77-49f25d5ff355",
        "colab": {
          "base_uri": "https://localhost:8080/",
          "height": 102
        }
      },
      "source": [
        "import numpy as np\n",
        "array1 = np.array([0, 10, 20, 40, 60])\n",
        "print(\"Array1: \",array1)\n",
        "array2 = [0, 40]\n",
        "print(\"Array2: \",array2)\n",
        "print(\"\\nCompare each element of array1 and array2\")\n",
        "print(np.in1d(array1, array2))"
      ],
      "execution_count": 53,
      "outputs": [
        {
          "output_type": "stream",
          "text": [
            "Array1:  [ 0 10 20 40 60]\n",
            "Array2:  [0, 40]\n",
            "\n",
            "Compare each element of array1 and array2\n",
            "[ True False False  True False]\n"
          ],
          "name": "stdout"
        }
      ]
    },
    {
      "cell_type": "markdown",
      "metadata": {
        "id": "T24x_VAEmZ6Q",
        "colab_type": "text"
      },
      "source": [
        "Q54. Write the NumPy program to find common values between two arrays? Expected Output- Array1: [ 0 10 20 40 60] Array2: [10, 30, 40] Common values between two arrays- [10 40]\n"
      ]
    },
    {
      "cell_type": "code",
      "metadata": {
        "id": "13cHRyuSmaAo",
        "colab_type": "code",
        "outputId": "0ef6a7ad-c3af-4bde-d030-6f8f674e4f61",
        "colab": {
          "base_uri": "https://localhost:8080/",
          "height": 102
        }
      },
      "source": [
        "array1 = np.array([0, 10, 20, 40, 60])\n",
        "print(\"Array1: \",array1)\n",
        "array2 = [10, 30, 40]\n",
        "print(\"Array2: \",array2)\n",
        "print(\"\\nCommon values between two arrays:\")\n",
        "print(np.intersect1d(array1, array2))"
      ],
      "execution_count": 54,
      "outputs": [
        {
          "output_type": "stream",
          "text": [
            "Array1:  [ 0 10 20 40 60]\n",
            "Array2:  [10, 30, 40]\n",
            "\n",
            "Common values between two arrays:\n",
            "[10 40]\n"
          ],
          "name": "stdout"
        }
      ]
    },
    {
      "cell_type": "markdown",
      "metadata": {
        "id": "5UJIDadSmaM5",
        "colab_type": "text"
      },
      "source": [
        "Q55. Write the NumPy program to get the unique elements of an array?\n",
        "Expected Output- Original array- [10 10 20 20 30 30] Unique elements of the above array- [10 20 30]\n",
        "Original array- [[1 1] [2 3]] Unique elements of the above array- [1 2 3]\n"
      ]
    },
    {
      "cell_type": "code",
      "metadata": {
        "id": "LA_zy7BYmaT6",
        "colab_type": "code",
        "outputId": "fce015ec-78a3-49fc-99ac-2fdf3613b13d",
        "colab": {
          "base_uri": "https://localhost:8080/",
          "height": 221
        }
      },
      "source": [
        "x = np.array([10, 10, 20, 20, 30, 30])\n",
        "print(\"Original array:\")\n",
        "print(x)\n",
        "print(\"\\nUnique elements of the above array:\")\n",
        "print(np.unique(x))\n",
        "\n",
        "x = np.array([[1, 1], [2, 3]])\n",
        "print(\"\\nOriginal array:\")\n",
        "print(x)\n",
        "print(\"\\nUnique elements of the above array:\")\n",
        "print(np.unique(x))"
      ],
      "execution_count": 55,
      "outputs": [
        {
          "output_type": "stream",
          "text": [
            "Original array:\n",
            "[10 10 20 20 30 30]\n",
            "\n",
            "Unique elements of the above array:\n",
            "[10 20 30]\n",
            "\n",
            "Original array:\n",
            "[[1 1]\n",
            " [2 3]]\n",
            "\n",
            "Unique elements of the above array:\n",
            "[1 2 3]\n"
          ],
          "name": "stdout"
        }
      ]
    },
    {
      "cell_type": "markdown",
      "metadata": {
        "id": "5RiGDF1smaZx",
        "colab_type": "text"
      },
      "source": [
        "Q56. Write the NumPy program to find the set exclusive-or of two arrays. Set exclusive-or will return the sorted, unique values that are in only one (not both) of the input arrays?\n",
        "Array1- [ 0 10 20 40 60 80] Array2- [10, 30, 40, 50, 70] Unique values that are in only one (not both) of the input arrays- [ 0 20 30 50 60 70 80]"
      ]
    },
    {
      "cell_type": "code",
      "metadata": {
        "id": "2qeXF3AnmagQ",
        "colab_type": "code",
        "outputId": "decec741-aa83-4eb2-9426-6af2fb9428e1",
        "colab": {
          "base_uri": "https://localhost:8080/",
          "height": 102
        }
      },
      "source": [
        "array1 = np.array([0, 10, 20, 40, 60, 80])\n",
        "print(\"Array1: \",array1)\n",
        "array2 = [10, 30, 40, 50, 70]\n",
        "print(\"Array2: \",array2)\n",
        "print(\"\\nUnique values that are in only one (not both) of the input arrays:\")\n",
        "print(np.setxor1d(array1, array2))#Return the sorted, unique values that are in only one (not both) of the input arrays."
      ],
      "execution_count": 56,
      "outputs": [
        {
          "output_type": "stream",
          "text": [
            "Array1:  [ 0 10 20 40 60 80]\n",
            "Array2:  [10, 30, 40, 50, 70]\n",
            "\n",
            "Unique values that are in only one (not both) of the input arrays:\n",
            "[ 0 20 30 50 60 70 80]\n"
          ],
          "name": "stdout"
        }
      ]
    },
    {
      "cell_type": "markdown",
      "metadata": {
        "id": "0tZzq0T2mamQ",
        "colab_type": "text"
      },
      "source": [
        "Q57. Write the NumPy program to test if all elements in an array evaluate to True ? Note: 0 evaluates to False in NumPy."
      ]
    },
    {
      "cell_type": "code",
      "metadata": {
        "id": "TaLcDmz9masW",
        "colab_type": "code",
        "outputId": "bdd5d964-e3bd-4c99-9f12-8237dc1f7729",
        "colab": {
          "base_uri": "https://localhost:8080/",
          "height": 51
        }
      },
      "source": [
        "print(np.all([[True,False],[True,True]]))\n",
        "print(np.all([[True,True],[True,True]]))\n",
        "\n"
      ],
      "execution_count": 57,
      "outputs": [
        {
          "output_type": "stream",
          "text": [
            "False\n",
            "True\n"
          ],
          "name": "stdout"
        }
      ]
    },
    {
      "cell_type": "markdown",
      "metadata": {
        "id": "cMe6IND1mayW",
        "colab_type": "text"
      },
      "source": [
        "Q58 Write the NumPy program to test whether any array element along the given axis evaluates to True? Note: 0 evaluates to False in NumPy.\n"
      ]
    },
    {
      "cell_type": "code",
      "metadata": {
        "id": "jlShFkXyma5R",
        "colab_type": "code",
        "outputId": "f184435c-47af-4469-8f8b-14c7598a3aa4",
        "colab": {
          "base_uri": "https://localhost:8080/",
          "height": 51
        }
      },
      "source": [
        "print(np.all([10, 20, -2, 1]))\n",
        "print(np.all([10, 20, 0]))"
      ],
      "execution_count": 58,
      "outputs": [
        {
          "output_type": "stream",
          "text": [
            "True\n",
            "False\n"
          ],
          "name": "stdout"
        }
      ]
    },
    {
      "cell_type": "markdown",
      "metadata": {
        "id": "2XTMF2eFpadi",
        "colab_type": "text"
      },
      "source": [
        "Q59. Write the NumPy program to construct an array by repeating? Sample array- [1, 2, 3, 4] Expected Output- Original array [1, 2, 3, 4] Repeating 2 times [1 2 3 4 1 2 3 4]\n",
        "P a g e 15 | 44\n",
        "Repeating 3 times [1 2 3 4 1 2 3 4 1 2 3 4]"
      ]
    },
    {
      "cell_type": "code",
      "metadata": {
        "id": "j0A492W4pamS",
        "colab_type": "code",
        "outputId": "2d22f9f6-a2ef-4e8b-9103-2ee5406bfbf4",
        "colab": {
          "base_uri": "https://localhost:8080/",
          "height": 119
        }
      },
      "source": [
        "\n",
        "a = [1, 2, 3, 4]\n",
        "print(\"Original array\")\n",
        "print(a)\n",
        "print(\"Repeating 2 times\")\n",
        "x = np.tile(a, 2)\n",
        "print(x)\n",
        "print(\"Repeating 3 times\")\n",
        "x = np.tile(a, 3)\n",
        "print(x)"
      ],
      "execution_count": 59,
      "outputs": [
        {
          "output_type": "stream",
          "text": [
            "Original array\n",
            "[1, 2, 3, 4]\n",
            "Repeating 2 times\n",
            "[1 2 3 4 1 2 3 4]\n",
            "Repeating 3 times\n",
            "[1 2 3 4 1 2 3 4 1 2 3 4]\n"
          ],
          "name": "stdout"
        }
      ]
    },
    {
      "cell_type": "markdown",
      "metadata": {
        "id": "cVYGki5hpatm",
        "colab_type": "text"
      },
      "source": [
        "Q60. Write the NumPy program to find the indices of the maximum and minimum values with the given axis of an array?\n",
        "Original array- [1 2 3 4 5 6] Maximum Values- 5 Minimum Values- 0"
      ]
    },
    {
      "cell_type": "code",
      "metadata": {
        "id": "yys1hhrgpa1g",
        "colab_type": "code",
        "outputId": "c0e7217f-2779-42e4-a4db-30e30402c0c1",
        "colab": {
          "base_uri": "https://localhost:8080/",
          "height": 68
        }
      },
      "source": [
        "x = np.array([1, 2, 3, 4, 5, 6])\n",
        "print(\"Original array: \",x)\n",
        "print(\"Maximum Values: \",np.argmax(x))\n",
        "print(\"Minimum Values: \",np.argmin(x))"
      ],
      "execution_count": 60,
      "outputs": [
        {
          "output_type": "stream",
          "text": [
            "Original array:  [1 2 3 4 5 6]\n",
            "Maximum Values:  5\n",
            "Minimum Values:  0\n"
          ],
          "name": "stdout"
        }
      ]
    },
    {
      "cell_type": "markdown",
      "metadata": {
        "id": "T0LaKMsmCc9n",
        "colab_type": "text"
      },
      "source": [
        "Q61. Write the NumPy program compare two arrays using numpy?\n",
        "Array a- [1 2] Array b- [4 5] a > b [False False] a >= b [False False] a < b [ True True] a <= b [ True True]"
      ]
    },
    {
      "cell_type": "code",
      "metadata": {
        "id": "X90ikoK_CdFM",
        "colab_type": "code",
        "outputId": "63958f2b-41f1-43a2-8c64-5c5ad9eb2a40",
        "colab": {
          "base_uri": "https://localhost:8080/",
          "height": 187
        }
      },
      "source": [
        "\n",
        "a = np.array([1, 2])\n",
        "b = np.array([4, 5])\n",
        "print(\"Array a: \",a)\n",
        "print(\"Array b: \",b)\n",
        "print(\"a > b\")\n",
        "print(np.greater(a, b))\n",
        "print(\"a >= b\")\n",
        "print(np.greater_equal(a, b))\n",
        "print(\"a < b\")\n",
        "print(np.less(a, b))\n",
        "print(\"a <= b\")\n",
        "print(np.less_equal(a, b))"
      ],
      "execution_count": 61,
      "outputs": [
        {
          "output_type": "stream",
          "text": [
            "Array a:  [1 2]\n",
            "Array b:  [4 5]\n",
            "a > b\n",
            "[False False]\n",
            "a >= b\n",
            "[False False]\n",
            "a < b\n",
            "[ True  True]\n",
            "a <= b\n",
            "[ True  True]\n"
          ],
          "name": "stdout"
        }
      ]
    },
    {
      "cell_type": "markdown",
      "metadata": {
        "id": "OzTQPCUsCdMn",
        "colab_type": "text"
      },
      "source": [
        "Q62. Write the NumPy program to sort an along the first, last axis of an array? Sample array- [[2,5],[4,4]] Expected Output- Original array: [[4 6] [2 1]] Sort along the first axis: [[2 1] [4 6]]\n",
        "P a g e 16 | 44\n",
        "Sort along the last axis- [[1 2] [4 6]]"
      ]
    },
    {
      "cell_type": "code",
      "metadata": {
        "id": "VAE6-UTTCdSv",
        "colab_type": "code",
        "outputId": "6cb80fc2-3d34-45a3-c603-f22704646ac5",
        "colab": {
          "base_uri": "https://localhost:8080/",
          "height": 170
        }
      },
      "source": [
        "\n",
        "a = np.array([[4, 6],[2, 1]])\n",
        "print(\"Original array: \")\n",
        "print(a)\n",
        "print(\"Sort along the first axis: \")\n",
        "x = np.sort(a, axis=0)\n",
        "print(x)\n",
        "print(\"Sort along the last axis: \")\n",
        "y = np.sort(x, axis=1)\n",
        "print(y)"
      ],
      "execution_count": 62,
      "outputs": [
        {
          "output_type": "stream",
          "text": [
            "Original array: \n",
            "[[4 6]\n",
            " [2 1]]\n",
            "Sort along the first axis: \n",
            "[[2 1]\n",
            " [4 6]]\n",
            "Sort along the last axis: \n",
            "[[1 2]\n",
            " [4 6]]\n"
          ],
          "name": "stdout"
        }
      ]
    },
    {
      "cell_type": "markdown",
      "metadata": {
        "id": "NoC3xy7TCdYe",
        "colab_type": "text"
      },
      "source": [
        "Q63. Write the NumPy program to sort pairs of first name and last name return their indices (first by last name, then by first name).\n",
        "first_names - ( Betsey, Shelley, Lanell, Genesis, Margery ) last_names - ( Battle, Brien, Plotner, Stahl, Woolum ) Expected Output- [1 3 2 4 0]"
      ]
    },
    {
      "cell_type": "code",
      "metadata": {
        "id": "0B0H0ydGCdgx",
        "colab_type": "code",
        "outputId": "9fa0c261-4a1a-43e0-fe25-7bd349108433",
        "colab": {
          "base_uri": "https://localhost:8080/",
          "height": 34
        }
      },
      "source": [
        "first_names =    ('Margery', 'Betsey', 'Shelley', 'Lanell', 'Genesis')\n",
        "last_names = ('Woolum', 'Battle', 'Plotner', 'Brien', 'Stahl')\n",
        "x = np.lexsort((first_names, last_names))\n",
        "print(x)"
      ],
      "execution_count": 63,
      "outputs": [
        {
          "output_type": "stream",
          "text": [
            "[1 3 2 4 0]\n"
          ],
          "name": "stdout"
        }
      ]
    },
    {
      "cell_type": "markdown",
      "metadata": {
        "id": "BPLsMzZ8CdnW",
        "colab_type": "text"
      },
      "source": [
        "Q64. Write the NumPy program to get the values and indices of the elements that are bigger than 10 in the given array? Original array- [[ 0 10 20] [20 30 40]] Values bigger than 10 = [20 20 30 40] Their indices are (array([0, 1, 1, 1]), array([2, 0, 1, 2]))"
      ]
    },
    {
      "cell_type": "code",
      "metadata": {
        "id": "1xjAlI9_Cdt-",
        "colab_type": "code",
        "outputId": "66c525eb-2f3d-415a-92ed-3354779a4cc7",
        "colab": {
          "base_uri": "https://localhost:8080/",
          "height": 102
        }
      },
      "source": [
        "x = np.array([[0, 10, 20], [20, 30, 40]])\n",
        "print(\"Original array: \")\n",
        "print(x)\n",
        "print(\"Values bigger than 10 =\", x[x>10])\n",
        "print(\"Their indices are \", np.nonzero(x > 10))"
      ],
      "execution_count": 64,
      "outputs": [
        {
          "output_type": "stream",
          "text": [
            "Original array: \n",
            "[[ 0 10 20]\n",
            " [20 30 40]]\n",
            "Values bigger than 10 = [20 20 30 40]\n",
            "Their indices are  (array([0, 1, 1, 1]), array([2, 0, 1, 2]))\n"
          ],
          "name": "stdout"
        }
      ]
    },
    {
      "cell_type": "markdown",
      "metadata": {
        "id": "k_VeoG4UCdz9",
        "colab_type": "text"
      },
      "source": [
        "Q65. Write the NumPy program to find the memory size of a NumPy array?\n",
        "Expected Output- 128 bytes"
      ]
    },
    {
      "cell_type": "code",
      "metadata": {
        "id": "fgPpe6u5Cd9P",
        "colab_type": "code",
        "outputId": "174ee0dd-b61e-4742-a229-0a9d6bb14e1c",
        "colab": {
          "base_uri": "https://localhost:8080/",
          "height": 34
        }
      },
      "source": [
        "n = np.zeros((4,4))\n",
        "print(\"%d bytes\" % (n.size * n.itemsize))"
      ],
      "execution_count": 65,
      "outputs": [
        {
          "output_type": "stream",
          "text": [
            "128 bytes\n"
          ],
          "name": "stdout"
        }
      ]
    },
    {
      "cell_type": "markdown",
      "metadata": {
        "id": "0Bw95XDGCeDW",
        "colab_type": "text"
      },
      "source": [
        "Q66. Write the NumPy program to create an array of ones and an array of zeros?\n",
        "Expected Output- Create an array of zeros Default type is float\n",
        "\n",
        "[[ 0. 0.]] Type changes to int [[0 0]] Create an array of ones Default type is float [[ 1. 1.]] Type changes to int [[1 1]]"
      ]
    },
    {
      "cell_type": "code",
      "metadata": {
        "id": "RuUvuUXBEWpZ",
        "colab_type": "code",
        "outputId": "967c18d7-94c6-4501-a970-2f28bc80e1a4",
        "colab": {
          "base_uri": "https://localhost:8080/",
          "height": 187
        }
      },
      "source": [
        "print(\"Create an array of zeros\")\n",
        "x = np.zeros((1,2))\n",
        "print(\"Default type is float\")\n",
        "print(x)\n",
        "print(\"Type changes to int\")\n",
        "x = np.zeros((1,2), dtype = np.int)\n",
        "print(x)\n",
        "print(\"Create an array of ones\")\n",
        "y= np.ones((1,2)) \n",
        "print(\"Default type is float\")\n",
        "print(y)\n",
        "print(\"Type changes to int\")\n",
        "y = np.ones((1,2), dtype = np.int)\n",
        "print(y)"
      ],
      "execution_count": 66,
      "outputs": [
        {
          "output_type": "stream",
          "text": [
            "Create an array of zeros\n",
            "Default type is float\n",
            "[[0. 0.]]\n",
            "Type changes to int\n",
            "[[0 0]]\n",
            "Create an array of ones\n",
            "Default type is float\n",
            "[[1. 1.]]\n",
            "Type changes to int\n",
            "[[1 1]]\n"
          ],
          "name": "stdout"
        }
      ]
    },
    {
      "cell_type": "markdown",
      "metadata": {
        "id": "c2h2O_uYEbxK",
        "colab_type": "text"
      },
      "source": [
        "Q67. Write the NumPy program to change the dimension of an array? Expected Output- 6 rows and 0 columns (6,) (3, 3) -> 3 rows and 3 columns [[1 2 3] [4 5 6] [7 8 9]] Change array shape to (3, 3) -> 3 rows and 3 columns [[1 2 3] [4 5 6] [7 8 9]]"
      ]
    },
    {
      "cell_type": "code",
      "metadata": {
        "id": "GzAC9dyEEb5A",
        "colab_type": "code",
        "outputId": "f235b6b8-060d-45db-86c1-4340cd5084d8",
        "colab": {
          "base_uri": "https://localhost:8080/",
          "height": 187
        }
      },
      "source": [
        "\n",
        "x = np.array([1, 2, 3, 4, 5, 6])\n",
        "print(\"6 rows and 0 columns\")\n",
        "print(x.shape)\n",
        "\n",
        "y = np.array([[1, 2, 3],[4, 5, 6],[7,8,9]])\n",
        "print(\"(3, 3) -> 3 rows and 3 columns \")\n",
        "print(y)\n",
        "\n",
        "x = np.array([1,2,3,4,5,6,7,8,9])\n",
        "print(\"Change array shape to (3, 3) -> 3 rows and 3 columns \")\n",
        "x.shape = (3, 3)\n",
        "print(x)"
      ],
      "execution_count": 67,
      "outputs": [
        {
          "output_type": "stream",
          "text": [
            "6 rows and 0 columns\n",
            "(6,)\n",
            "(3, 3) -> 3 rows and 3 columns \n",
            "[[1 2 3]\n",
            " [4 5 6]\n",
            " [7 8 9]]\n",
            "Change array shape to (3, 3) -> 3 rows and 3 columns \n",
            "[[1 2 3]\n",
            " [4 5 6]\n",
            " [7 8 9]]\n"
          ],
          "name": "stdout"
        }
      ]
    },
    {
      "cell_type": "markdown",
      "metadata": {
        "id": "vQ7t1KGWEcCz",
        "colab_type": "text"
      },
      "source": [
        "Q68. Write the NumPy program to create a new shape to an array without changing its data ? Reshape 3x2- [[1 2] [3 4] [5 6]] Reshape 2x3- [[1 2 3] [4 5 6]]"
      ]
    },
    {
      "cell_type": "code",
      "metadata": {
        "id": "60PLYt5REcJM",
        "colab_type": "code",
        "outputId": "e548da93-baf9-4cb0-b187-cffc8f1f4fb5",
        "colab": {
          "base_uri": "https://localhost:8080/",
          "height": 136
        }
      },
      "source": [
        "x = np.array([1, 2, 3, 4, 5, 6])\n",
        "y = np.reshape(x,(3,2))\n",
        "print(\"Reshape 3x2:\")\n",
        "print(y)\n",
        "z = np.reshape(x,(2,3))\n",
        "print(\"Reshape 2x3:\")\n",
        "print(z)"
      ],
      "execution_count": 68,
      "outputs": [
        {
          "output_type": "stream",
          "text": [
            "Reshape 3x2:\n",
            "[[1 2]\n",
            " [3 4]\n",
            " [5 6]]\n",
            "Reshape 2x3:\n",
            "[[1 2 3]\n",
            " [4 5 6]]\n"
          ],
          "name": "stdout"
        }
      ]
    },
    {
      "cell_type": "markdown",
      "metadata": {
        "id": "MxCGAdagEcPP",
        "colab_type": "text"
      },
      "source": [
        "Q69. Write the NumPy program to create a new array of 3*5, filled with 2?\n",
        "Expected Output- [[2 2 2 2 2] [2 2 2 2 2] [2 2 2 2 2]] [[2 2 2 2 2] [2 2 2 2 2] [2 2 2 2 2]]"
      ]
    },
    {
      "cell_type": "code",
      "metadata": {
        "id": "Pw2VmLbhEcWv",
        "colab_type": "code",
        "outputId": "f669757b-e858-4cbd-f80e-cfc22738ef61",
        "colab": {
          "base_uri": "https://localhost:8080/",
          "height": 119
        }
      },
      "source": [
        "\n",
        "#using no.full\n",
        "x = np.full((3, 5), 2, dtype=np.uint)\n",
        "print(x)\n",
        "#using no.ones\n",
        "y = np.ones([3, 5], dtype=np.uint) *2\n",
        "print(y)"
      ],
      "execution_count": 69,
      "outputs": [
        {
          "output_type": "stream",
          "text": [
            "[[2 2 2 2 2]\n",
            " [2 2 2 2 2]\n",
            " [2 2 2 2 2]]\n",
            "[[2 2 2 2 2]\n",
            " [2 2 2 2 2]\n",
            " [2 2 2 2 2]]\n"
          ],
          "name": "stdout"
        }
      ]
    },
    {
      "cell_type": "markdown",
      "metadata": {
        "id": "ub0PTe1EEccn",
        "colab_type": "text"
      },
      "source": [
        "Q70. Write the NumPy program to create a 3-D array with ones on a diagonal and zeros elsewhere? Expected Output- [[ 1. 0. 0.] [ 0. 1. 0.] [ 0. 0. 1.]]"
      ]
    },
    {
      "cell_type": "code",
      "metadata": {
        "id": "ewqhWgluEcjR",
        "colab_type": "code",
        "outputId": "b91134f4-f14c-4427-c790-2e1ada34e8f1",
        "colab": {
          "base_uri": "https://localhost:8080/",
          "height": 68
        }
      },
      "source": [
        "\n",
        "x = np.eye(3)\n",
        "print(x)"
      ],
      "execution_count": 70,
      "outputs": [
        {
          "output_type": "stream",
          "text": [
            "[[1. 0. 0.]\n",
            " [0. 1. 0.]\n",
            " [0. 0. 1.]]\n"
          ],
          "name": "stdout"
        }
      ]
    },
    {
      "cell_type": "markdown",
      "metadata": {
        "id": "g-94bChYEc2r",
        "colab_type": "text"
      },
      "source": [
        "Q71. Write the NumPy program to split an array of 14 elements into the 3 arrays and each of which has 2, 4, and 8 elements in original order?\n",
        "Expected Output- Original array- [ 1 2 3 4 5 6 7 8 9 10 11 12 13 14] After splitting- [array([1, 2]), array([3, 4, 5, 6]), array([ 7, 8, 9, 10, 11, 12, 13, 14])]\n"
      ]
    },
    {
      "cell_type": "code",
      "metadata": {
        "id": "xsZLa9_rEc9S",
        "colab_type": "code",
        "outputId": "b1b90168-519e-4481-a5f1-2e0ce7c92b34",
        "colab": {
          "base_uri": "https://localhost:8080/",
          "height": 68
        }
      },
      "source": [
        "x = np.arange(1, 15)\n",
        "print(\"Original array:\",x)\n",
        "print(\"After splitting:\")\n",
        "print(np.split(x, [2, 6]))"
      ],
      "execution_count": 71,
      "outputs": [
        {
          "output_type": "stream",
          "text": [
            "Original array: [ 1  2  3  4  5  6  7  8  9 10 11 12 13 14]\n",
            "After splitting:\n",
            "[array([1, 2]), array([3, 4, 5, 6]), array([ 7,  8,  9, 10, 11, 12, 13, 14])]\n"
          ],
          "name": "stdout"
        }
      ]
    },
    {
      "cell_type": "markdown",
      "metadata": {
        "id": "ec1HgcFiEdEK",
        "colab_type": "text"
      },
      "source": [
        "Q72. Write the NumPy program to split of an array of shape 4x4 it into two arrays along the second axis ? Sample array - [[ 0 1 2 3] [ 4 5 6 7] [ 8 9 10 11] [12 13 14 15]] Expected Output-\n",
        "[array([[ 0, 1], [ 4, 5], [ 8, 9], [12, 13]]), array([[ 2, 3], [ 6, 7], [10, 11], [14, 15]]), array([], shape=(4, 0), dtype=int64)]"
      ]
    },
    {
      "cell_type": "code",
      "metadata": {
        "id": "1tsk_PgUEdK0",
        "colab_type": "code",
        "outputId": "fc5ff3d0-e0cb-4ec8-b2d1-3dc627151386",
        "colab": {
          "base_uri": "https://localhost:8080/",
          "height": 221
        }
      },
      "source": [
        "x = np.arange(16).reshape((4, 4))\n",
        "print(\"Original array:\",x)\n",
        "print(\"After splitting horizontally:\")\n",
        "print(np.hsplit(x, [2, 6]))"
      ],
      "execution_count": 72,
      "outputs": [
        {
          "output_type": "stream",
          "text": [
            "Original array: [[ 0  1  2  3]\n",
            " [ 4  5  6  7]\n",
            " [ 8  9 10 11]\n",
            " [12 13 14 15]]\n",
            "After splitting horizontally:\n",
            "[array([[ 0,  1],\n",
            "       [ 4,  5],\n",
            "       [ 8,  9],\n",
            "       [12, 13]]), array([[ 2,  3],\n",
            "       [ 6,  7],\n",
            "       [10, 11],\n",
            "       [14, 15]]), array([], shape=(4, 0), dtype=int64)]\n"
          ],
          "name": "stdout"
        }
      ]
    },
    {
      "cell_type": "markdown",
      "metadata": {
        "id": "dfZGMOgaEdSy",
        "colab_type": "text"
      },
      "source": [
        "Q73. Write the NumPy program to create a 5x5 matrix with row values ranging from 0 to 4?\n",
        "Original array- [[ 0. 0. 0. 0. 0.] [ 0. 0. 0. 0. 0.] [ 0. 0. 0. 0. 0.] [ 0. 0. 0. 0. 0.] [ 0. 0. 0. 0. 0.]] Row values ranging from 0 to 4. [[ 0. 1. 2. 3. 4.] [ 0. 1. 2. 3. 4.] [ 0. 1. 2. 3. 4.] [ 0. 1. 2. 3. 4.] [ 0. 1. 2. 3. 4.]]"
      ]
    },
    {
      "cell_type": "code",
      "metadata": {
        "id": "0p9KYY-mEdZC",
        "colab_type": "code",
        "outputId": "1726fe23-333d-4159-abc3-c6a2593b2682",
        "colab": {
          "base_uri": "https://localhost:8080/",
          "height": 221
        }
      },
      "source": [
        "x = np.zeros((5,5))\n",
        "print(\"Original array:\")\n",
        "print(x)\n",
        "print(\"Row values ranging from 0 to 4.\")\n",
        "x += np.arange(5)\n",
        "print(x)"
      ],
      "execution_count": 73,
      "outputs": [
        {
          "output_type": "stream",
          "text": [
            "Original array:\n",
            "[[0. 0. 0. 0. 0.]\n",
            " [0. 0. 0. 0. 0.]\n",
            " [0. 0. 0. 0. 0.]\n",
            " [0. 0. 0. 0. 0.]\n",
            " [0. 0. 0. 0. 0.]]\n",
            "Row values ranging from 0 to 4.\n",
            "[[0. 1. 2. 3. 4.]\n",
            " [0. 1. 2. 3. 4.]\n",
            " [0. 1. 2. 3. 4.]\n",
            " [0. 1. 2. 3. 4.]\n",
            " [0. 1. 2. 3. 4.]]\n"
          ],
          "name": "stdout"
        }
      ]
    },
    {
      "cell_type": "markdown",
      "metadata": {
        "id": "cdZddYnjEd3F",
        "colab_type": "text"
      },
      "source": [
        "Q74. Write the NumPy program to create an array of zeros and three column types (integer, float, character)?\n",
        "Expected Output- [(1, 2., b'Albert Einstein') (2, 2., b'Edmond Halley') (3, 3., b'Gertrude B. Elion')]"
      ]
    },
    {
      "cell_type": "code",
      "metadata": {
        "id": "7N-crCohEd-v",
        "colab_type": "code",
        "outputId": "a4db0848-6915-488f-9b52-8adebd655b49",
        "colab": {
          "base_uri": "https://localhost:8080/",
          "height": 51
        }
      },
      "source": [
        "x = np.zeros((3,), dtype=('i4,f4,a40'))\n",
        "new_data = [(1, 2., \"Albert Einstein\"), (2, 2., \"Edmond Halley\"), (3, 3., \"Gertrude B. Elion\")]\n",
        "x[:] = new_data\n",
        "print(x)"
      ],
      "execution_count": 74,
      "outputs": [
        {
          "output_type": "stream",
          "text": [
            "[(1, 2., b'Albert Einstein') (2, 2., b'Edmond Halley')\n",
            " (3, 3., b'Gertrude B. Elion')]\n"
          ],
          "name": "stdout"
        }
      ]
    },
    {
      "cell_type": "markdown",
      "metadata": {
        "id": "UsbMKvatGYJn",
        "colab_type": "text"
      },
      "source": [
        "Q75. Write the NumPy program to remove the negative values in the numpy array with 0?\n",
        "Expected Output- Original array: [-1 -4 0 2 3 4 5 -6] Replace the negative values of the said array with 0- [0 0 0 2 3 4 5 0]"
      ]
    },
    {
      "cell_type": "code",
      "metadata": {
        "id": "r9FpV4zvGYRp",
        "colab_type": "code",
        "outputId": "b345a290-96d1-4ac9-bcb6-ab86ad6ff2b0",
        "colab": {
          "base_uri": "https://localhost:8080/",
          "height": 85
        }
      },
      "source": [
        "x = np.array([-1, -4, 0, 2, 3, 4, 5, -6])\n",
        "print(\"Original array:\")\n",
        "print(x)\n",
        "print(\"Replace the negative values of the said array with 0:\")\n",
        "x[x < 0] = 0\n",
        "print(x)"
      ],
      "execution_count": 75,
      "outputs": [
        {
          "output_type": "stream",
          "text": [
            "Original array:\n",
            "[-1 -4  0  2  3  4  5 -6]\n",
            "Replace the negative values of the said array with 0:\n",
            "[0 0 0 2 3 4 5 0]\n"
          ],
          "name": "stdout"
        }
      ]
    },
    {
      "cell_type": "markdown",
      "metadata": {
        "id": "bssH-f-kGYXv",
        "colab_type": "text"
      },
      "source": [
        "Q76. Write the NumPy program to compute the histogram of a set of data?"
      ]
    },
    {
      "cell_type": "code",
      "metadata": {
        "id": "huThNy4wGYeR",
        "colab_type": "code",
        "outputId": "8a1ab919-ddc6-47b9-df21-88344d9692fd",
        "colab": {
          "base_uri": "https://localhost:8080/",
          "height": 265
        }
      },
      "source": [
        "import matplotlib.pyplot as plt\n",
        "plt.hist([1, 2, 1], bins=[0, 1, 2, 3, 5])\n",
        "plt.show()"
      ],
      "execution_count": 76,
      "outputs": [
        {
          "output_type": "display_data",
          "data": {
            "image/png": "[encoded data removed]",
            "text/plain": [
              "<Figure size 432x288 with 1 Axes>"
            ]
          },
          "metadata": {
            "tags": []
          }
        }
      ]
    },
    {
      "cell_type": "markdown",
      "metadata": {
        "id": "ZQPqnpmXGYvE",
        "colab_type": "text"
      },
      "source": [
        "Q77. Write the NumPy program to compute the line graph of a set of data?\n"
      ]
    },
    {
      "cell_type": "code",
      "metadata": {
        "id": "q7cApIWSGY2v",
        "colab_type": "code",
        "outputId": "08c5029c-a99b-45f1-d82f-f19f742d067b",
        "colab": {
          "base_uri": "https://localhost:8080/",
          "height": 265
        }
      },
      "source": [
        "arr = np.random.randint(1, 50, 10)\n",
        "y, x = np.histogram(arr, bins=np.arange(51))\n",
        "fig, ax = plt.subplots()\n",
        "ax.plot(x[:-1], y)\n",
        "fig.show()"
      ],
      "execution_count": 77,
      "outputs": [
        {
          "output_type": "display_data",
          "data": {
            "image/png": "[encoded data removed]",
            "text/plain": [
              "<Figure size 432x288 with 1 Axes>"
            ]
          },
          "metadata": {
            "tags": []
          }
        }
      ]
    },
    {
      "cell_type": "markdown",
      "metadata": {
        "id": "t4HBVOEnGY8m",
        "colab_type": "text"
      },
      "source": [
        "Q78. Write the NumPy program to extracts all the elements from second row from given (4x4) array?\n",
        "Sample Output- Original array- [[ 0 1 2 3] [ 4 5 6 7] [ 8 9 10 11] [12 13 14 15]] Extracted data- Second row [4 5 6 7]"
      ]
    },
    {
      "cell_type": "code",
      "metadata": {
        "id": "Tun3Q1HCGZQA",
        "colab_type": "code",
        "outputId": "fe6e8019-f3c2-41c8-ead2-5e260877ff2a",
        "colab": {
          "base_uri": "https://localhost:8080/",
          "height": 153
        }
      },
      "source": [
        "arra_data = np.arange(0,16).reshape((4, 4))\n",
        "print(\"Original array:\")\n",
        "print(arra_data)\n",
        "print(\"\\nExtracted data: Second row\")\n",
        "print(arra_data[1,:])"
      ],
      "execution_count": 78,
      "outputs": [
        {
          "output_type": "stream",
          "text": [
            "Original array:\n",
            "[[ 0  1  2  3]\n",
            " [ 4  5  6  7]\n",
            " [ 8  9 10 11]\n",
            " [12 13 14 15]]\n",
            "\n",
            "Extracted data: Second row\n",
            "[4 5 6 7]\n"
          ],
          "name": "stdout"
        }
      ]
    },
    {
      "cell_type": "markdown",
      "metadata": {
        "id": "SgxOrPoYGZlJ",
        "colab_type": "text"
      },
      "source": [
        "Q79. Write the NumPy program to extract first element of the second row and fourth element of fourth row from a given (4x4) array? Sample Output- Original array- [[ 0 1 2 3] [ 4 5 6 7] [ 8 9 10 11] [12 13 14 15]] Extracted data- First element of the second row and fourth element of fourth row [ 4 15]"
      ]
    },
    {
      "cell_type": "code",
      "metadata": {
        "id": "mWeQ6ruYGZtX",
        "colab_type": "code",
        "outputId": "74f41135-9dd9-4e03-ebe0-282ba0309b4b",
        "colab": {
          "base_uri": "https://localhost:8080/",
          "height": 153
        }
      },
      "source": [
        "arra_data = np.arange(0,16).reshape((4, 4))\n",
        "print(\"Original array:\")\n",
        "print(arra_data)\n",
        "print(\"\\nExtracted data: First element of the second row and fourth element of fourth row  \")\n",
        "print(arra_data[[1,3], [0,3]])"
      ],
      "execution_count": 79,
      "outputs": [
        {
          "output_type": "stream",
          "text": [
            "Original array:\n",
            "[[ 0  1  2  3]\n",
            " [ 4  5  6  7]\n",
            " [ 8  9 10 11]\n",
            " [12 13 14 15]]\n",
            "\n",
            "Extracted data: First element of the second row and fourth element of fourth row  \n",
            "[ 4 15]\n"
          ],
          "name": "stdout"
        }
      ]
    },
    {
      "cell_type": "markdown",
      "metadata": {
        "id": "-Kf8kszVGZzz",
        "colab_type": "text"
      },
      "source": [
        "Q80. Write the NumPy program to add two arrays A and B of sizes (3,3) and (,3)?\n",
        "Sample Output- Original array- Array-1 [[1 1 1] [1 1 1] [1 1 1]] Array-2 [0 1 2] A + B: [[1 2 3]\n",
        "P a g e 22 | 44\n",
        "[1 2 3] [1 2 3]]"
      ]
    },
    {
      "cell_type": "code",
      "metadata": {
        "id": "Nnx7OOmAGZ7x",
        "colab_type": "code",
        "outputId": "7266b663-1dfd-4e6f-eb51-c821c2d56357",
        "colab": {
          "base_uri": "https://localhost:8080/",
          "height": 204
        }
      },
      "source": [
        "A = np.ones((3,3))\n",
        "B = np.arange(3)\n",
        "print(\"Original array:\")\n",
        "print(\"Array-1\")\n",
        "print(A)\n",
        "print(\"Array-2\")\n",
        "print(B)\n",
        "print(\"A + B:\")\n",
        "new_array = A + B\n",
        "print(new_array)"
      ],
      "execution_count": 80,
      "outputs": [
        {
          "output_type": "stream",
          "text": [
            "Original array:\n",
            "Array-1\n",
            "[[1. 1. 1.]\n",
            " [1. 1. 1.]\n",
            " [1. 1. 1.]]\n",
            "Array-2\n",
            "[0 1 2]\n",
            "A + B:\n",
            "[[1. 2. 3.]\n",
            " [1. 2. 3.]\n",
            " [1. 2. 3.]]\n"
          ],
          "name": "stdout"
        }
      ]
    },
    {
      "cell_type": "markdown",
      "metadata": {
        "id": "MOZrFmk9GaCm",
        "colab_type": "text"
      },
      "source": [
        "Q81. Write the NumPy program to copy data from a given array to another array?\n",
        "Sample Output- Original array- [24 27 30 29 18 14] Copy of the said array- [24 27 30 29 18 14]"
      ]
    },
    {
      "cell_type": "code",
      "metadata": {
        "id": "swlvpGzeGaKA",
        "colab_type": "code",
        "outputId": "a1a3c43f-168c-4927-ed2b-49a8847ec719",
        "colab": {
          "base_uri": "https://localhost:8080/",
          "height": 102
        }
      },
      "source": [
        "x = np.array([24, 27, 30, 29, 18, 14])\n",
        "print(\"Original array:\")\n",
        "print(x)\n",
        "y = np.empty_like (x)\n",
        "y[:] = x\n",
        "print(\"\\nCopy of the said array:\")\n",
        "print(y)"
      ],
      "execution_count": 81,
      "outputs": [
        {
          "output_type": "stream",
          "text": [
            "Original array:\n",
            "[24 27 30 29 18 14]\n",
            "\n",
            "Copy of the said array:\n",
            "[24 27 30 29 18 14]\n"
          ],
          "name": "stdout"
        }
      ]
    },
    {
      "cell_type": "markdown",
      "metadata": {
        "id": "74GthsPDGacf",
        "colab_type": "text"
      },
      "source": [
        "Q82. Write the NumPy program to calculate the sum of all columns of the 2D numpy array? Sample Output- Original array- [[ 0 1 2 3 4 5 6 7 8] [ 9 10 11 12 13 14 15 16 17] [18 19 20 21 22 23 24 25 26] [27 28 29 30 31 32 33 34 35]] Sum of all columns- [54 58 62 66 70 74 78 82 86]"
      ]
    },
    {
      "cell_type": "code",
      "metadata": {
        "id": "D-56ebKDJPOI",
        "colab_type": "code",
        "outputId": "766ca6bc-33d7-474a-f4e0-755df9afb954",
        "colab": {
          "base_uri": "https://localhost:8080/",
          "height": 153
        }
      },
      "source": [
        "num = np.arange(36)\n",
        "arr1 = np.reshape(num, [4, 9])\n",
        "print(\"Original array:\")\n",
        "print(arr1)\n",
        "result  = arr1.sum(axis=0)\n",
        "print(\"\\nSum of all columns:\")\n",
        "print(result)"
      ],
      "execution_count": 82,
      "outputs": [
        {
          "output_type": "stream",
          "text": [
            "Original array:\n",
            "[[ 0  1  2  3  4  5  6  7  8]\n",
            " [ 9 10 11 12 13 14 15 16 17]\n",
            " [18 19 20 21 22 23 24 25 26]\n",
            " [27 28 29 30 31 32 33 34 35]]\n",
            "\n",
            "Sum of all columns:\n",
            "[54 58 62 66 70 74 78 82 86]\n"
          ],
          "name": "stdout"
        }
      ]
    },
    {
      "cell_type": "markdown",
      "metadata": {
        "id": "AIYDkQSEGan0",
        "colab_type": "text"
      },
      "source": [
        "Q83. Write the NumPy program to calculate averages without NaNs along the given array?\n",
        "Sample Output- Original array- [[10. 20. 30.] [40. 50. nan] [nan 6. nan] [nan nan nan]]\n",
        "P a g e 23 | 44\n",
        "Averages without NaNs along the said array- [20. 45. 6. nan]"
      ]
    },
    {
      "cell_type": "code",
      "metadata": {
        "id": "ConGKFfTGawc",
        "colab_type": "code",
        "outputId": "1e9f8519-2a4d-48a6-d31c-694ea385cbbd",
        "colab": {
          "base_uri": "https://localhost:8080/",
          "height": 136
        }
      },
      "source": [
        "arr1 = np.array([[10, 20 ,30], [40, 50, np.nan], [np.nan, 6, np.nan], [np.nan, np.nan, np.nan]])\n",
        "print(\"Original array:\")\n",
        "print(arr1)\n",
        "temp = np.ma.masked_array(arr1,np.isnan(arr1))\n",
        "result = np.mean(temp, axis=1)\n",
        "print(\"Averages without NaNs along the said array:\")\n",
        "print(result.filled(np.nan))"
      ],
      "execution_count": 83,
      "outputs": [
        {
          "output_type": "stream",
          "text": [
            "Original array:\n",
            "[[10. 20. 30.]\n",
            " [40. 50. nan]\n",
            " [nan  6. nan]\n",
            " [nan nan nan]]\n",
            "Averages without NaNs along the said array:\n",
            "[20. 45.  6. nan]\n"
          ],
          "name": "stdout"
        }
      ]
    },
    {
      "cell_type": "markdown",
      "metadata": {
        "id": "0ECZpbhHJglX",
        "colab_type": "text"
      },
      "source": [
        "Q84. Create two arrays of six elements. Write the NumPy program to count the number of instances of a value occurring in one array on the condition of another array.\n",
        "Sample Output- Original arrays- [ 10 -10 10 -10 -10 10] [0.85 0.45 0.9 0.8 0.12 0.6 ] Number of instances of a value occurring in one array on the condition of another array: 3"
      ]
    },
    {
      "cell_type": "code",
      "metadata": {
        "id": "PXP_POatGak_",
        "colab_type": "code",
        "outputId": "8d2a679a-cfde-4769-91e6-ad2a5f46ff26",
        "colab": {
          "base_uri": "https://localhost:8080/",
          "height": 119
        }
      },
      "source": [
        "x = np.array([10,-10,10,-10,-10,10])\n",
        "y = np.array([.85,.45,.9,.8,.12,.6])\n",
        "print(\"Original arrays:\")\n",
        "print(x)\n",
        "print(y)\n",
        "result = np.sum((x == 10) & (y > .5))\n",
        "print(\"\\nNumber of instances of a value occurring in one array on the condition of another array:\")\n",
        "print(result)"
      ],
      "execution_count": 84,
      "outputs": [
        {
          "output_type": "stream",
          "text": [
            "Original arrays:\n",
            "[ 10 -10  10 -10 -10  10]\n",
            "[0.85 0.45 0.9  0.8  0.12 0.6 ]\n",
            "\n",
            "Number of instances of a value occurring in one array on the condition of another array:\n",
            "3\n"
          ],
          "name": "stdout"
        }
      ]
    },
    {
      "cell_type": "markdown",
      "metadata": {
        "id": "2gQ59FAgGaQ9",
        "colab_type": "text"
      },
      "source": [
        "Q85. Write the NumPy program to convert a Python dictionary to a Numpy ndarray ?\n",
        "Original dictionary- {'column0': {'a': 1, 'b': 0.0, 'c': 0.0, 'd': 2.0}, 'column1': {'a': 3.0, 'b': 1, 'c': 0.0, 'd': -1.0}, 'column2': {'a': 4, 'b': 1, 'c': 5.0, 'd': -1.0}, 'column3': {'a': 3.0, 'b': -1.0, 'c': -1.0, 'd': -1.0}} Type: <class 'dict'> ndarray- [[ 1. 0. 0. 2.] [ 3. 1. 0. -1.] [ 4. 1. 5. -1.] [ 3. -1. -1. -1.]] Type: <class 'numpy.ndarray'>"
      ]
    },
    {
      "cell_type": "code",
      "metadata": {
        "id": "d0uL0znFJ2mu",
        "colab_type": "code",
        "outputId": "38564d3f-080f-4122-fbf1-b5bd34e64ee8",
        "colab": {
          "base_uri": "https://localhost:8080/",
          "height": 224
        }
      },
      "source": [
        "from ast import literal_eval\n",
        "udict = \"\"\"{\"column0\":{\"a\":1,\"b\":0.0,\"c\":0.0,\"d\":2.0},\n",
        "   \"column1\":{\"a\":3.0,\"b\":1,\"c\":0.0,\"d\":-1.0},\n",
        "   \"column2\":{\"a\":4,\"b\":1,\"c\":5.0,\"d\":-1.0},\n",
        "   \"column3\":{\"a\":3.0,\"b\":-1.0,\"c\":-1.0,\"d\":-1.0}\n",
        "  }\"\"\"\n",
        "t = literal_eval(udict)\n",
        "print(\"\\nOriginal dictionary:\")\n",
        "print(t)\n",
        "print(\"Type: \",type(t))\n",
        "result_nparra = np.array([[v[j] for j in ['a', 'b', 'c', 'd']] for k, v in t.items()])\n",
        "print(\"\\nndarray:\")\n",
        "print(result_nparra)\n",
        "print(\"Type: \",type(result_nparra))"
      ],
      "execution_count": 85,
      "outputs": [
        {
          "output_type": "stream",
          "text": [
            "\n",
            "Original dictionary:\n",
            "{'column0': {'a': 1, 'b': 0.0, 'c': 0.0, 'd': 2.0}, 'column1': {'a': 3.0, 'b': 1, 'c': 0.0, 'd': -1.0}, 'column2': {'a': 4, 'b': 1, 'c': 5.0, 'd': -1.0}, 'column3': {'a': 3.0, 'b': -1.0, 'c': -1.0, 'd': -1.0}}\n",
            "Type:  <class 'dict'>\n",
            "\n",
            "ndarray:\n",
            "[[ 1.  0.  0.  2.]\n",
            " [ 3.  1.  0. -1.]\n",
            " [ 4.  1.  5. -1.]\n",
            " [ 3. -1. -1. -1.]]\n",
            "Type:  <class 'numpy.ndarray'>\n"
          ],
          "name": "stdout"
        }
      ]
    },
    {
      "cell_type": "markdown",
      "metadata": {
        "id": "rkkMQ_FFGZI2",
        "colab_type": "text"
      },
      "source": [
        "Q86. Write the Numpy program to find and store the non-zero unique rows in an array after comparing each row with other row in the given matrix?\n",
        "P a g e 24 | 44\n",
        "Original array- [[ 1 1 0] [ 0 0 0] [ 0 2 3] [ 0 0 0] [ 0 -1 1] [ 0 0 0]] Non-zero unique rows- [[ 1 1 0] [ 0 2 3] [ 0 -1 1]]"
      ]
    },
    {
      "cell_type": "code",
      "metadata": {
        "id": "4HZpF1HRGZEP",
        "colab_type": "code",
        "outputId": "7bbe4088-426c-4a22-f2b2-fd25232cbfb2",
        "colab": {
          "base_uri": "https://localhost:8080/",
          "height": 221
        }
      },
      "source": [
        "arra = np.array([[ 1,  1,  0],\n",
        "                 [ 0,  0,  0],\n",
        "                 [ 0,  2,  3],\n",
        "                 [ 0,  0,  0],\n",
        "                 [ 0, -1,  1],\n",
        "                 [ 0,  0,  0]])\n",
        "\n",
        "print(\"Original array:\")\n",
        "print(arra)\n",
        "temp = {(0, 0, 0)}\n",
        "result = []\n",
        "for idx, row in enumerate(map(tuple, arra)):\n",
        "    if row not in temp:\n",
        "        result.append(idx)\n",
        "print(\"\\nNon-zero unique rows:\")\n",
        "print(arra[result])"
      ],
      "execution_count": 86,
      "outputs": [
        {
          "output_type": "stream",
          "text": [
            "Original array:\n",
            "[[ 1  1  0]\n",
            " [ 0  0  0]\n",
            " [ 0  2  3]\n",
            " [ 0  0  0]\n",
            " [ 0 -1  1]\n",
            " [ 0  0  0]]\n",
            "\n",
            "Non-zero unique rows:\n",
            "[[ 1  1  0]\n",
            " [ 0  2  3]\n",
            " [ 0 -1  1]]\n"
          ],
          "name": "stdout"
        }
      ]
    },
    {
      "cell_type": "markdown",
      "metadata": {
        "id": "b_vITIpbKD07",
        "colab_type": "text"
      },
      "source": [
        "Q87. Write the NumPy program to multiply the matrix by another matrix of complex numbers and create a new matrix of complex numbers? Sample output- First array- [ 1.+2.j 3.+4.j] Second array- [ 5.+6.j 7.+8.j] Product of above two arrays- (70-8j)"
      ]
    },
    {
      "cell_type": "code",
      "metadata": {
        "id": "wlEigVTdKEG5",
        "colab_type": "code",
        "outputId": "0d2ceb13-c135-4793-8811-6da151556bc5",
        "colab": {
          "base_uri": "https://localhost:8080/",
          "height": 119
        }
      },
      "source": [
        "x = np.array([1+2j,3+4j])\n",
        "print(\"First array:\")\n",
        "print(x)\n",
        "y = np.array([5+6j,7+8j])\n",
        "print(\"Second array:\")\n",
        "print(y)\n",
        "z = np.vdot(x, y)\n",
        "print(\"Product of above two arrays:\")\n",
        "print(z)"
      ],
      "execution_count": 87,
      "outputs": [
        {
          "output_type": "stream",
          "text": [
            "First array:\n",
            "[1.+2.j 3.+4.j]\n",
            "Second array:\n",
            "[5.+6.j 7.+8.j]\n",
            "Product of above two arrays:\n",
            "(70-8j)\n"
          ],
          "name": "stdout"
        }
      ]
    },
    {
      "cell_type": "markdown",
      "metadata": {
        "id": "1u2w4FehKEOw",
        "colab_type": "text"
      },
      "source": [
        "Q88. Write a NumPy program to generate the matrix product of two Arrays?\n",
        "Sample Output- Matrices and vectors. x- [[1, 0], [1, 1]] y- [[3, 1], [2, 2]] Matrix product of above two arrays-\n",
        "P a g e 25 | 44\n",
        "[[3 1] [5 3]]"
      ]
    },
    {
      "cell_type": "code",
      "metadata": {
        "id": "ENleeAriKEXO",
        "colab_type": "code",
        "outputId": "dca0ce5e-6031-4e30-9f68-6690bc8c65bd",
        "colab": {
          "base_uri": "https://localhost:8080/",
          "height": 153
        }
      },
      "source": [
        "x = [[1, 0], [1, 1]]\n",
        "y = [[3, 1], [2, 2]]\n",
        "print(\"Matrices and vectors.\")\n",
        "print(\"x:\")\n",
        "print(x)\n",
        "print(\"y:\")\n",
        "print(y)\n",
        "print(\"Matrix product of above two arrays:\")\n",
        "print(np.matmul(x, y))"
      ],
      "execution_count": 88,
      "outputs": [
        {
          "output_type": "stream",
          "text": [
            "Matrices and vectors.\n",
            "x:\n",
            "[[1, 0], [1, 1]]\n",
            "y:\n",
            "[[3, 1], [2, 2]]\n",
            "Matrix product of above two arrays:\n",
            "[[3 1]\n",
            " [5 3]]\n"
          ],
          "name": "stdout"
        }
      ]
    },
    {
      "cell_type": "markdown",
      "metadata": {
        "id": "PCmtgbUAKEeh",
        "colab_type": "text"
      },
      "source": [
        "Q89. Write the NumPy program to find roots of the following Polynomials? a) (x2 - 4x + 7) b) x4 - 11x3 + 9x2 + 11x ? 10 Sample output- Roots of the first polynomial- [ 1. 1.] Roots of the second polynomial- [ 11.04461946+0.j -0.87114210+0.j 0.91326132+0.4531004j 0.91326132-0.4531004j ]"
      ]
    },
    {
      "cell_type": "code",
      "metadata": {
        "id": "1-pimgNrKb46",
        "colab_type": "code",
        "outputId": "3318eef3-5d85-486e-fcb7-d3bcb3d8b662",
        "colab": {
          "base_uri": "https://localhost:8080/",
          "height": 102
        }
      },
      "source": [
        "print(\"Roots of the first polynomial:\")\n",
        "print(np.roots([1, -2, 1]))\n",
        "print(\"Roots of the second polynomial:\")\n",
        "print(np.roots([1, -12, 10, 7, -10]))"
      ],
      "execution_count": 89,
      "outputs": [
        {
          "output_type": "stream",
          "text": [
            "Roots of the first polynomial:\n",
            "[1. 1.]\n",
            "Roots of the second polynomial:\n",
            "[11.04461946+0.j        -0.8711421 +0.j         0.91326132+0.4531004j\n",
            "  0.91326132-0.4531004j]\n"
          ],
          "name": "stdout"
        }
      ]
    },
    {
      "cell_type": "markdown",
      "metadata": {
        "id": "NH8-jPwUKEpI",
        "colab_type": "text"
      },
      "source": [
        "Q90. Write the NumPy program to calculate inverse of sine, cosine, and inverse tangent for all elements in a given array?\n",
        "Sample output- Inverse sine- [-1.57079633 0. 1.57079633] Inverse cosine- [3.14159265 1.57079633 0. ] Inverse tangent- [-0.78539816 0. 0.78539816]"
      ]
    },
    {
      "cell_type": "code",
      "metadata": {
        "id": "L7FxaVVIKEx2",
        "colab_type": "code",
        "outputId": "25093558-8a79-4f6c-96ab-4956580df300",
        "colab": {
          "base_uri": "https://localhost:8080/",
          "height": 68
        }
      },
      "source": [
        "x = np.array([-1., 0, 1.])\n",
        "print(\"Inverse sine:\", np.arcsin(x))\n",
        "print(\"Inverse cosine:\", np.arccos(x))\n",
        "print(\"Inverse tangent:\", np.arctan(x))"
      ],
      "execution_count": 90,
      "outputs": [
        {
          "output_type": "stream",
          "text": [
            "Inverse sine: [-1.57079633  0.          1.57079633]\n",
            "Inverse cosine: [3.14159265 1.57079633 0.        ]\n",
            "Inverse tangent: [-0.78539816  0.          0.78539816]\n"
          ],
          "name": "stdout"
        }
      ]
    },
    {
      "cell_type": "markdown",
      "metadata": {
        "id": "_R9Bw2teivJI",
        "colab_type": "text"
      },
      "source": [
        "\n",
        "Q91. Write the NumPy program to calculate the difference between in neighbouring elements, element-wise of a given array? Sample output- Original array- [1 3 5 7 0] Difference between neighbouring elements, element-wise of the said array- [ 2 2 2 -7]"
      ]
    },
    {
      "cell_type": "code",
      "metadata": {
        "id": "CYJMp-yoKEmK",
        "colab_type": "code",
        "outputId": "448f10b2-593f-4073-c234-82020df51a91",
        "colab": {
          "base_uri": "https://localhost:8080/",
          "height": 85
        }
      },
      "source": [
        "x = np.array([1, 3, 5, 7, 0])\n",
        "print(\"Original array: \")\n",
        "print(x)\n",
        "print(\"Difference between neighboring elements, element-wise of the said array.\")\n",
        "print(np.diff(x))"
      ],
      "execution_count": 91,
      "outputs": [
        {
          "output_type": "stream",
          "text": [
            "Original array: \n",
            "[1 3 5 7 0]\n",
            "Difference between neighboring elements, element-wise of the said array.\n",
            "[ 2  2  2 -7]\n"
          ],
          "name": "stdout"
        }
      ]
    },
    {
      "cell_type": "markdown",
      "metadata": {
        "id": "X2sGCTdwKEDa",
        "colab_type": "text"
      },
      "source": [
        "Q92. Write the Python program to find the maximum and the minimum value of a given flattened array?\n",
        "Expected Output- Original flattened array- [[0 1] [2 3]] Maximum value of the above flattened array- 3 Minimum value of the above flattened array- 0"
      ]
    },
    {
      "cell_type": "code",
      "metadata": {
        "id": "HForYT6wKD9D",
        "colab_type": "code",
        "outputId": "37b80a5d-e5da-4473-d32e-b206a0b74c41",
        "colab": {
          "base_uri": "https://localhost:8080/",
          "height": 136
        }
      },
      "source": [
        "a = np.arange(4).reshape((2,2))\n",
        "print(\"Original flattened array:\")\n",
        "print(a)\n",
        "print(\"Maximum value of the above flattened array:\")\n",
        "print(np.amax(a))\n",
        "print(\"Minimum value of the above flattened array:\")\n",
        "print(np.amin(a))"
      ],
      "execution_count": 92,
      "outputs": [
        {
          "output_type": "stream",
          "text": [
            "Original flattened array:\n",
            "[[0 1]\n",
            " [2 3]]\n",
            "Maximum value of the above flattened array:\n",
            "3\n",
            "Minimum value of the above flattened array:\n",
            "0\n"
          ],
          "name": "stdout"
        }
      ]
    },
    {
      "cell_type": "markdown",
      "metadata": {
        "id": "inK7bN_Tiw4H",
        "colab_type": "text"
      },
      "source": [
        "Q93. Write the NumPy program to calculate the difference between in the maximum and the minimum values of a given array along the second axis ?\n",
        "Expected Output- Original array- [[ 0 1 2 3 4 5] [ 6 7 8 9 10 11]] Difference between the maximum and the minimum values of the said array- [5 5]"
      ]
    },
    {
      "cell_type": "code",
      "metadata": {
        "id": "UeBB8rZfixIZ",
        "colab_type": "code",
        "outputId": "115f187f-09ef-4aca-fdef-abfb145c8502",
        "colab": {
          "base_uri": "https://localhost:8080/",
          "height": 136
        }
      },
      "source": [
        "x = np.arange(12).reshape((2, 6))\n",
        "print(\"\\nOriginal array:\")\n",
        "print(x)\n",
        "r1 = np.ptp(x, 1)\n",
        "r2 = np.amax(x, 1) - np.amin(x, 1)\n",
        "assert np.allclose(r1, r2)\n",
        "print(\"\\nDifference between the maximum and the minimum values of the said array:\")\n",
        "print(r1)"
      ],
      "execution_count": 93,
      "outputs": [
        {
          "output_type": "stream",
          "text": [
            "\n",
            "Original array:\n",
            "[[ 0  1  2  3  4  5]\n",
            " [ 6  7  8  9 10 11]]\n",
            "\n",
            "Difference between the maximum and the minimum values of the said array:\n",
            "[5 5]\n"
          ],
          "name": "stdout"
        }
      ]
    },
    {
      "cell_type": "markdown",
      "metadata": {
        "id": "_gi2lU9BixOW",
        "colab_type": "text"
      },
      "source": [
        "Q94. Write the NumPy program to compute the weighted of the given array ?\n",
        "Sample Output- Original array- [0 1 2 3 4] Weighted average of the said array- 2.6666666666666665"
      ]
    },
    {
      "cell_type": "code",
      "metadata": {
        "id": "7i0nHCi2ixVY",
        "colab_type": "code",
        "outputId": "c427c044-f896-425d-ca13-f882528e2a4e",
        "colab": {
          "base_uri": "https://localhost:8080/",
          "height": 119
        }
      },
      "source": [
        "x = np.arange(5)\n",
        "print(\"\\nOriginal array:\")\n",
        "print(x)\n",
        "\n",
        "weights = np.arange(1, 6)\n",
        "r1 = np.average(x, weights=weights)\n",
        "r2 = (x*(weights/weights.sum())).sum()\n",
        "assert np.allclose(r1, r2)\n",
        "\n",
        "print(\"\\nWeighted average of the said array:\")\n",
        "print(r1)"
      ],
      "execution_count": 94,
      "outputs": [
        {
          "output_type": "stream",
          "text": [
            "\n",
            "Original array:\n",
            "[0 1 2 3 4]\n",
            "\n",
            "Weighted average of the said array:\n",
            "2.6666666666666665\n"
          ],
          "name": "stdout"
        }
      ]
    },
    {
      "cell_type": "markdown",
      "metadata": {
        "id": "y-5NZp2uixeL",
        "colab_type": "text"
      },
      "source": [
        "Q95. Write the NumPy program to compute the mean, standard deviation, and the variance of a given array along the second axis?\n",
        "Sample output- Original array- [0 1 2 3 4 5] Mean- 2.5 std- 1 variance- 2.9166666666666665"
      ]
    },
    {
      "cell_type": "code",
      "metadata": {
        "id": "zY4rNSHrixlD",
        "colab_type": "code",
        "outputId": "d056d522-9443-44cc-b8db-710e231ebd91",
        "colab": {
          "base_uri": "https://localhost:8080/",
          "height": 170
        }
      },
      "source": [
        "x = np.arange(6)\n",
        "print(\"\\nOriginal array:\")\n",
        "print(x)\n",
        "\n",
        "r1 = np.mean(x)\n",
        "r2 = np.average(x)\n",
        "assert np.allclose(r1, r2)\n",
        "\n",
        "print(\"\\nMean: \", r1)\n",
        "r1 = np.std(x)\n",
        "r2 = np.sqrt(np.mean((x - np.mean(x)) ** 2 ))\n",
        "assert np.allclose(r1, r2)\n",
        "\n",
        "print(\"\\nstd: \", 1)\n",
        "r1= np.var(x)\n",
        "r2 = np.mean((x - np.mean(x)) ** 2 )\n",
        "assert np.allclose(r1, r2)\n",
        "\n",
        "print(\"\\nvariance: \", r1)\n"
      ],
      "execution_count": 95,
      "outputs": [
        {
          "output_type": "stream",
          "text": [
            "\n",
            "Original array:\n",
            "[0 1 2 3 4 5]\n",
            "\n",
            "Mean:  2.5\n",
            "\n",
            "std:  1\n",
            "\n",
            "variance:  2.9166666666666665\n"
          ],
          "name": "stdout"
        }
      ]
    },
    {
      "cell_type": "markdown",
      "metadata": {
        "id": "vrr2ShXuixvC",
        "colab_type": "text"
      },
      "source": [
        "Q96. Write the Numpy program to compute the covariance matrix of the two given arrays?\n",
        "Sample Output- Original array1- [0 1 2] Original array1- [2 1 0] Covariance matrix of the said arrays- [[ 1. -1.] [-1. 1.]]"
      ]
    },
    {
      "cell_type": "code",
      "metadata": {
        "id": "5Rc35Cigix3g",
        "colab_type": "code",
        "outputId": "5246dfed-0f90-4ad4-f126-2e366b1ce3d5",
        "colab": {
          "base_uri": "https://localhost:8080/",
          "height": 187
        }
      },
      "source": [
        "x = np.array([0, 1, 2])\n",
        "y = np.array([2, 1, 0])\n",
        "print(\"\\nOriginal array1:\")\n",
        "print(x)\n",
        "print(\"\\nOriginal array1:\")\n",
        "print(y)\n",
        "print(\"\\nCovariance matrix of the said arrays:\\n\",np.cov(x, y))"
      ],
      "execution_count": 96,
      "outputs": [
        {
          "output_type": "stream",
          "text": [
            "\n",
            "Original array1:\n",
            "[0 1 2]\n",
            "\n",
            "Original array1:\n",
            "[2 1 0]\n",
            "\n",
            "Covariance matrix of the said arrays:\n",
            " [[ 1. -1.]\n",
            " [-1.  1.]]\n"
          ],
          "name": "stdout"
        }
      ]
    },
    {
      "cell_type": "markdown",
      "metadata": {
        "id": "hiGzh81bix-F",
        "colab_type": "text"
      },
      "source": [
        "Q97. Write a NumPy program to compute the cross-correlation of two given arrays ?\n",
        "Sample Output- Original array1-\n",
        "[0 1 3] Original array1- [2 4 5] Cross-correlation of the said arrays- [ [ 2.33333333 2.16666667 ] [ 2.16666667 2.33333333 ] ]"
      ]
    },
    {
      "cell_type": "code",
      "metadata": {
        "id": "iw014396iyGg",
        "colab_type": "code",
        "outputId": "ff6a0d17-cc07-4e6e-f08c-1000bfe83586",
        "colab": {
          "base_uri": "https://localhost:8080/",
          "height": 187
        }
      },
      "source": [
        "x = np.array([0, 1, 3])\n",
        "y = np.array([2, 4, 5])\n",
        "print(\"\\nOriginal array1:\")\n",
        "print(x)\n",
        "\n",
        "print(\"\\nOriginal array1:\")\n",
        "print(y)\n",
        "print(\"\\nCross-correlation of the said arrays:\\n\",np.cov(x, y))"
      ],
      "execution_count": 97,
      "outputs": [
        {
          "output_type": "stream",
          "text": [
            "\n",
            "Original array1:\n",
            "[0 1 3]\n",
            "\n",
            "Original array1:\n",
            "[2 4 5]\n",
            "\n",
            "Cross-correlation of the said arrays:\n",
            " [[2.33333333 2.16666667]\n",
            " [2.16666667 2.33333333]]\n"
          ],
          "name": "stdout"
        }
      ]
    },
    {
      "cell_type": "markdown",
      "metadata": {
        "id": "uYeJtM8riyNt",
        "colab_type": "text"
      },
      "source": [
        "Q98. Write the NumPy program to compute Pearson product-moment correlation coefficients of two given arrays?\n",
        "Sample Output- Original array1- [0 1 3] Original array1- [2 4 5] Pearson product-moment correlation coefficients of the said arrays- [[1. 0.92857143] [0.92857143 1. ]]"
      ]
    },
    {
      "cell_type": "code",
      "metadata": {
        "id": "96h3X9BAiyhf",
        "colab_type": "code",
        "outputId": "07add260-4f5b-4225-db40-fc277420cb96",
        "colab": {
          "base_uri": "https://localhost:8080/",
          "height": 187
        }
      },
      "source": [
        "x = np.array([0, 1, 3])\n",
        "y = np.array([2, 4, 5])\n",
        "print(\"\\nOriginal array1:\")\n",
        "print(x)\n",
        "print(\"\\nOriginal array1:\")\n",
        "print(y)\n",
        "print(\"\\nPearson product-moment correlation coefficients of the said arrays:\\n\",np.corrcoef(x, y))"
      ],
      "execution_count": 98,
      "outputs": [
        {
          "output_type": "stream",
          "text": [
            "\n",
            "Original array1:\n",
            "[0 1 3]\n",
            "\n",
            "Original array1:\n",
            "[2 4 5]\n",
            "\n",
            "Pearson product-moment correlation coefficients of the said arrays:\n",
            " [[1.         0.92857143]\n",
            " [0.92857143 1.        ]]\n"
          ],
          "name": "stdout"
        }
      ]
    },
    {
      "cell_type": "markdown",
      "metadata": {
        "id": "jKCS88fJiyoQ",
        "colab_type": "text"
      },
      "source": [
        "Q99. Write the python program to count the number of occurrences of each value in a given array of non-negative integers? Note: bincount() Function- It count the occurrence of each value in an array of the non- negative integers in the range of the array between the minimum and maximum values including the values that did not occur. Sample Output- Original array- [0, 1, 6, 1, 4, 1, 2, 2, 7] Number of occurrences of each value in array- [1 3 2 0 1 0 1 1]"
      ]
    },
    {
      "cell_type": "code",
      "metadata": {
        "id": "-ireHZ5Eiyvn",
        "colab_type": "code",
        "outputId": "532eefb8-addc-4cb6-a93b-31e1ca2d9bb8",
        "colab": {
          "base_uri": "https://localhost:8080/",
          "height": 85
        }
      },
      "source": [
        "array1 = [0, 1, 6, 1, 4, 1, 2, 2, 7] \n",
        "print(\"Original array:\")\n",
        "print(array1)\n",
        "print(\"Number of occurrences of each value in array: \")\n",
        "print(np.bincount(array1))"
      ],
      "execution_count": 99,
      "outputs": [
        {
          "output_type": "stream",
          "text": [
            "Original array:\n",
            "[0, 1, 6, 1, 4, 1, 2, 2, 7]\n",
            "Number of occurrences of each value in array: \n",
            "[1 3 2 0 1 0 1 1]\n"
          ],
          "name": "stdout"
        }
      ]
    },
    {
      "cell_type": "markdown",
      "metadata": {
        "id": "Za0yF7h8iy3y",
        "colab_type": "text"
      },
      "source": [
        "Q100. Write a Numpy program to compute the histogram of nums against the bins?\n",
        "Sample Output- nums- [0.5 0.7 1. 1.2 1.3 2.1]\n",
        "P a g e 29 | 44\n",
        "bins- [0 1 2 3] Result- (array([2, 3, 1], dtype=int64), array([0, 1, 2, 3]))"
      ]
    },
    {
      "cell_type": "code",
      "metadata": {
        "id": "umw1N3z5izCG",
        "colab_type": "code",
        "outputId": "9c96afa3-ee70-44b8-e8cf-e3cc56be40bf",
        "colab": {
          "base_uri": "https://localhost:8080/",
          "height": 316
        }
      },
      "source": [
        "nums = np.array([0.5, 0.7, 1.0, 1.2, 1.3, 2.1])\n",
        "bins = np.array([0, 1, 2, 3])\n",
        "print(\"nums: \",nums)\n",
        "print(\"bins: \",bins)\n",
        "print(\"Result:\", np.histogram(nums, bins))\n",
        "plt.hist(nums, bins=bins)\n",
        "plt.show()"
      ],
      "execution_count": 100,
      "outputs": [
        {
          "output_type": "stream",
          "text": [
            "nums:  [0.5 0.7 1.  1.2 1.3 2.1]\n",
            "bins:  [0 1 2 3]\n",
            "Result: (array([2, 3, 1]), array([0, 1, 2, 3]))\n"
          ],
          "name": "stdout"
        },
        {
          "output_type": "display_data",
          "data": {
            "image/png": "[encoded data removed]",
            "text/plain": [
              "<Figure size 432x288 with 1 Axes>"
            ]
          },
          "metadata": {
            "tags": []
          }
        }
      ]
    },
    {
      "cell_type": "markdown",
      "metadata": {
        "id": "AnvPScoyizIw",
        "colab_type": "text"
      },
      "source": [
        "Q101. Write the Python program to add, subtract, multiply and divide two pandas series ? Sample Series- [2, 4, 6, 8, 10], [1, 3, 5, 7, 9]"
      ]
    },
    {
      "cell_type": "code",
      "metadata": {
        "id": "UnrrEaxtizRc",
        "colab_type": "code",
        "outputId": "4d3cb0f8-dc2b-427c-ec5c-edca2c103b80",
        "colab": {
          "base_uri": "https://localhost:8080/",
          "height": 493
        }
      },
      "source": [
        "ds1 = pd.Series([2, 4, 6, 8, 10])\n",
        "ds2 = pd.Series([1, 3, 5, 7, 9])\n",
        "ds = ds1 + ds2\n",
        "print(\"Add two Series:\")\n",
        "print(ds)\n",
        "\n",
        "print(\"Subtract two Series:\")\n",
        "ds = ds1 - ds2\n",
        "print(ds)\n",
        "\n",
        "print(\"Multiply two Series:\")\n",
        "ds = ds1 * ds2\n",
        "print(ds)\n",
        "\n",
        "print(\"Divide Series1 by Series2:\")\n",
        "ds = ds1 / ds2\n",
        "print(ds)"
      ],
      "execution_count": 101,
      "outputs": [
        {
          "output_type": "stream",
          "text": [
            "Add two Series:\n",
            "0     3\n",
            "1     7\n",
            "2    11\n",
            "3    15\n",
            "4    19\n",
            "dtype: int64\n",
            "Subtract two Series:\n",
            "0    1\n",
            "1    1\n",
            "2    1\n",
            "3    1\n",
            "4    1\n",
            "dtype: int64\n",
            "Multiply two Series:\n",
            "0     2\n",
            "1    12\n",
            "2    30\n",
            "3    56\n",
            "4    90\n",
            "dtype: int64\n",
            "Divide Series1 by Series2:\n",
            "0    2.000000\n",
            "1    1.333333\n",
            "2    1.200000\n",
            "3    1.142857\n",
            "4    1.111111\n",
            "dtype: float64\n"
          ],
          "name": "stdout"
        }
      ]
    },
    {
      "cell_type": "markdown",
      "metadata": {
        "id": "Ol7G8Qa6i5Sr",
        "colab_type": "text"
      },
      "source": [
        "Q102. Write a Python program to convert a dictionary to the Pandas Series?\n",
        "Sample Series- Original dictionary- {'a': 100, 'b': 200, 'c': 300, 'd': 400, 'e': 800} Converted series - a 100 b 200 c 300 d 400 e 800 dtype- int64\n",
        "\n"
      ]
    },
    {
      "cell_type": "code",
      "metadata": {
        "id": "-z7I3DxIizyh",
        "colab_type": "code",
        "outputId": "9c8bc23b-a20c-4b8b-b04c-20a81fc4a368",
        "colab": {
          "base_uri": "https://localhost:8080/",
          "height": 170
        }
      },
      "source": [
        "d1 = {'a': 100, 'b': 200, 'c':300, 'd':400, 'e':800}\n",
        "print(\"Original dictionary:\")\n",
        "print(d1)\n",
        "\n",
        "new_series = pd.Series(d1)\n",
        "print(\"Converted series:\")\n",
        "print(new_series)"
      ],
      "execution_count": 102,
      "outputs": [
        {
          "output_type": "stream",
          "text": [
            "Original dictionary:\n",
            "{'a': 100, 'b': 200, 'c': 300, 'd': 400, 'e': 800}\n",
            "Converted series:\n",
            "a    100\n",
            "b    200\n",
            "c    300\n",
            "d    400\n",
            "e    800\n",
            "dtype: int64\n"
          ],
          "name": "stdout"
        }
      ]
    },
    {
      "cell_type": "markdown",
      "metadata": {
        "id": "98WE6tG0i0Cw",
        "colab_type": "text"
      },
      "source": [
        "Q103. Write a python program to change the data type of given a column or a Series?\n",
        "Sample Series- Original Data Series- 0 100\n",
        "\n",
        "1 200 2 python 3 300.12 4 400 dtype- object Change the said data type to numeric- 0 100.00 1 200.00 2 NaN 3 300.12 4 400.00 dtype- float64"
      ]
    },
    {
      "cell_type": "code",
      "metadata": {
        "id": "u43QrobRi0K7",
        "colab_type": "code",
        "outputId": "054995ab-6868-4635-8a1a-c48a8a64d255",
        "colab": {
          "base_uri": "https://localhost:8080/",
          "height": 255
        }
      },
      "source": [
        "s1 = pd.Series(['100', '200', 'python', '300.12', '400'])\n",
        "print(\"Original Data Series:\")\n",
        "print(s1)\n",
        "print(\"Change the said data type to numeric:\")\n",
        "s2 = pd.to_numeric(s1, errors='coerce')\n",
        "print(s2)"
      ],
      "execution_count": 103,
      "outputs": [
        {
          "output_type": "stream",
          "text": [
            "Original Data Series:\n",
            "0       100\n",
            "1       200\n",
            "2    python\n",
            "3    300.12\n",
            "4       400\n",
            "dtype: object\n",
            "Change the said data type to numeric:\n",
            "0    100.00\n",
            "1    200.00\n",
            "2       NaN\n",
            "3    300.12\n",
            "4    400.00\n",
            "dtype: float64\n"
          ],
          "name": "stdout"
        }
      ]
    },
    {
      "cell_type": "markdown",
      "metadata": {
        "id": "maVVhQhCi0Tg",
        "colab_type": "text"
      },
      "source": [
        "Q104. Write the python pandas program to convert the first column of a DataFrame as a Series? Sample Output- Original DataFrame- col1 col2 col3 0 1 4 7 1 2 5 5 2 3 6 8 3 4 9 12 4 7 5 1 5 11 0 11 1st column as a Series- 0 1 1 2 2 3 3 4 4 7 5 11 Name- col1, dtype- int64 <class 'pandas.core.series.Series'>"
      ]
    },
    {
      "cell_type": "code",
      "metadata": {
        "id": "_kWubSFri0q1",
        "colab_type": "code",
        "outputId": "26296057-e0fc-43ad-fdc2-ebcea913f74a",
        "colab": {
          "base_uri": "https://localhost:8080/",
          "height": 459
        }
      },
      "source": [
        "d = {'col1': [1, 2, 3, 4, 7, 11], 'col2': [4, 5, 6, 9, 5, 0], 'col3': [7, 5, 8, 12, 1,11]}\n",
        "df = pd.DataFrame(data=d)\n",
        "print(\"Original DataFrame\")\n",
        "print(df)\n",
        "s1 = df.ix[:,0]\n",
        "print(\"\\n1st column as a Series:\")\n",
        "print(s1)\n",
        "type(s1)"
      ],
      "execution_count": 104,
      "outputs": [
        {
          "output_type": "stream",
          "text": [
            "Original DataFrame\n",
            "   col1  col2  col3\n",
            "0     1     4     7\n",
            "1     2     5     5\n",
            "2     3     6     8\n",
            "3     4     9    12\n",
            "4     7     5     1\n",
            "5    11     0    11\n",
            "\n",
            "1st column as a Series:\n",
            "0     1\n",
            "1     2\n",
            "2     3\n",
            "3     4\n",
            "4     7\n",
            "5    11\n",
            "Name: col1, dtype: int64\n"
          ],
          "name": "stdout"
        },
        {
          "output_type": "stream",
          "text": [
            "/usr/local/lib/python3.6/dist-packages/ipykernel_launcher.py:5: FutureWarning: \n",
            ".ix is deprecated. Please use\n",
            ".loc for label based indexing or\n",
            ".iloc for positional indexing\n",
            "\n",
            "See the documentation here:\n",
            "http://pandas.pydata.org/pandas-docs/stable/user_guide/indexing.html#ix-indexer-is-deprecated\n",
            "  \"\"\"\n"
          ],
          "name": "stderr"
        },
        {
          "output_type": "execute_result",
          "data": {
            "text/plain": [
              "pandas.core.series.Series"
            ]
          },
          "metadata": {
            "tags": []
          },
          "execution_count": 104
        }
      ]
    },
    {
      "cell_type": "markdown",
      "metadata": {
        "id": "-oHzULt0i0z5",
        "colab_type": "text"
      },
      "source": [
        "Q105. Write a pandas program to create the mean and standard deviation of the data of a given Series?\n",
        "Sample Output- Original Data Series- 0 1 1 2 2 3 3 4 4 5 5 6 6 7 7 8 8 9 9 5 10 3 dtype- int64 Mean of the said Data Series- 4.81818181818 Standard deviation of the said Data Series- 2.52262489555"
      ]
    },
    {
      "cell_type": "code",
      "metadata": {
        "id": "Kf7U3qgYi3X_",
        "colab_type": "code",
        "outputId": "f9778242-547f-4f09-eb90-47e9208bd62b",
        "colab": {
          "base_uri": "https://localhost:8080/",
          "height": 306
        }
      },
      "source": [
        "s = pd.Series(data = [1,2,3,4,5,6,7,8,9,5,3])\n",
        "print(\"Original Data Series:\")\n",
        "print(s)\n",
        "print(\"Mean of the said Data Series:\")\n",
        "print(s.mean())\n",
        "\n",
        "print(\"Standard deviation of the said Data Series:\")\n",
        "print(s.std())"
      ],
      "execution_count": 105,
      "outputs": [
        {
          "output_type": "stream",
          "text": [
            "Original Data Series:\n",
            "0     1\n",
            "1     2\n",
            "2     3\n",
            "3     4\n",
            "4     5\n",
            "5     6\n",
            "6     7\n",
            "7     8\n",
            "8     9\n",
            "9     5\n",
            "10    3\n",
            "dtype: int64\n",
            "Mean of the said Data Series:\n",
            "4.818181818181818\n",
            "Standard deviation of the said Data Series:\n",
            "2.522624895547565\n"
          ],
          "name": "stdout"
        }
      ]
    },
    {
      "cell_type": "markdown",
      "metadata": {
        "id": "BZ2IDDI9i1E8",
        "colab_type": "text"
      },
      "source": [
        "Q106. Write a pandas program to get powers of an array values element-wise? Note First array elements raised the powers from the second array. Sample data: {'X ':[78,85,96,80,86], ' Y ':[84,94,89,83,86],'Z':[86,97,96,72,83]} Expected Output: X Y Z 0 78 84 86 1 85 94 97 2 96 89 96 3 80 83 72 4 86 86 83"
      ]
    },
    {
      "cell_type": "code",
      "metadata": {
        "id": "E3OYVeRvi4Rv",
        "colab_type": "code",
        "outputId": "240b11c2-5abb-4872-a8f5-e46e0e43410b",
        "colab": {
          "base_uri": "https://localhost:8080/",
          "height": 119
        }
      },
      "source": [
        "df = pd.DataFrame({'X':[78,85,96,80,86], 'Y':[84,94,89,83,86],'Z':[86,97,96,72,83]});\n",
        "print(df)"
      ],
      "execution_count": 106,
      "outputs": [
        {
          "output_type": "stream",
          "text": [
            "    X   Y   Z\n",
            "0  78  84  86\n",
            "1  85  94  97\n",
            "2  96  89  96\n",
            "3  80  83  72\n",
            "4  86  86  83\n"
          ],
          "name": "stdout"
        }
      ]
    },
    {
      "cell_type": "markdown",
      "metadata": {
        "id": "wPSCVpQ9i1VD",
        "colab_type": "text"
      },
      "source": [
        "Q107. Write the pandas program to get the first 3 rows of a given DataFrame?\n",
        "Sample Python dictionary data and list labels- exam_data = {'name': ['Anastasia', 'Dima', 'Katherine', 'James', 'Emily', 'Michael', 'Matthew', 'Laura', 'Kevin', 'Jonas'], 'score': [12.5, 9, 16.5, np.nan, 9, 20, 14.5, np.nan, 8, 19], 'attempts'- [1, 3, 2, 3, 2, 3, 1, 1, 2, 1], 'qualify'- [ 'yes', 'no', 'yes' , 'no', ' no ', ' yes ', 'yes', 'no', 'no', 'yes' ] } labels = ['a', 'b', 'c', 'd', 'e', 'f', 'g', 'h', 'i', 'j' ] Expected Output- First three rows of the data frame- attempts name qualify score a 1 Anastasia yes 12.5 b 3 Dima no 9.0 c 2 Katherine yes 16.5"
      ]
    },
    {
      "cell_type": "code",
      "metadata": {
        "id": "THwHj-p0i1fR",
        "colab_type": "code",
        "outputId": "d8d668da-0afb-4581-89aa-a3083bcfb2c7",
        "colab": {
          "base_uri": "https://localhost:8080/",
          "height": 204
        }
      },
      "source": [
        "exam_data  = {'name': ['Anastasia', 'Dima', 'Katherine', 'James', 'Emily', 'Michael', 'Matthew', 'Laura', 'Kevin', 'Jonas'],\n",
        "        'score': [12.5, 9, 16.5, np.nan, 9, 20, 14.5, np.nan, 8, 19],\n",
        "        'attempts': [1, 3, 2, 3, 2, 3, 1, 1, 2, 1],\n",
        "        'qualify': ['yes', 'no', 'yes', 'no', 'no', 'yes', 'yes', 'no', 'no', 'yes']}\n",
        "labels = ['a', 'b', 'c', 'd', 'e', 'f', 'g', 'h', 'i', 'j']\n",
        "\n",
        "df = pd.DataFrame(exam_data , index=labels)\n",
        "print(df)"
      ],
      "execution_count": 107,
      "outputs": [
        {
          "output_type": "stream",
          "text": [
            "        name  score  attempts qualify\n",
            "a  Anastasia   12.5         1     yes\n",
            "b       Dima    9.0         3      no\n",
            "c  Katherine   16.5         2     yes\n",
            "d      James    NaN         3      no\n",
            "e      Emily    9.0         2      no\n",
            "f    Michael   20.0         3     yes\n",
            "g    Matthew   14.5         1     yes\n",
            "h      Laura    NaN         1      no\n",
            "i      Kevin    8.0         2      no\n",
            "j      Jonas   19.0         1     yes\n"
          ],
          "name": "stdout"
        }
      ]
    },
    {
      "cell_type": "markdown",
      "metadata": {
        "id": "HvHif7iVi1o6",
        "colab_type": "text"
      },
      "source": [
        "Q108: Write the pandas program to select the specified columns and the rows from a given data frame?\n",
        "Sample Python dictionary data and list labels- Select 'name' and 'score' columns in rows 1, 3, 5, 6 from the following data frame. exam_data = {'name ': [ 'Anastasia', 'Dima', 'Katherine', 'James', 'Emily', 'Michael', 'Matthew', 'Laura', 'Kevin', 'Jonas'], 'score'- [12.5, 9, 16.5, np.nan, 9, 20, 14.5, np.nan, 8, 19], 'attempts'- [1, 3, 2, 3, 2, 3, 1, 1, 2, 1], 'qualify'- ['yes', 'no', 'yes', 'no', 'no', 'yes', 'yes', 'no', 'no', 'yes'] } labels = ['a ', ' b ', ' c ', ' d ', ' e ', ' f ', ' g ', 'h', 'i', 'j'] Expected Output- Select specific columns and rows- name score b Dima 9.0 d James NaN f Michael 20.0 g Matthew 14.5"
      ]
    },
    {
      "cell_type": "code",
      "metadata": {
        "id": "gCWBuiKdoh-S",
        "colab_type": "code",
        "outputId": "836a5bba-553c-4cdf-ffd0-d8168112b694",
        "colab": {
          "base_uri": "https://localhost:8080/",
          "height": 119
        }
      },
      "source": [
        "exam_data  = {'name': ['Anastasia', 'Dima', 'Katherine', 'James', 'Emily', 'Michael', 'Matthew', 'Laura', 'Kevin', 'Jonas'],\n",
        "        'score': [12.5, 9, 16.5, np.nan, 9, 20, 14.5, np.nan, 8, 19],\n",
        "        'attempts': [1, 3, 2, 3, 2, 3, 1, 1, 2, 1],\n",
        "        'qualify': ['yes', 'no', 'yes', 'no', 'no', 'yes', 'yes', 'no', 'no', 'yes']}\n",
        "labels = ['a', 'b', 'c', 'd', 'e', 'f', 'g', 'h', 'i', 'j']\n",
        "\n",
        "df = pd.DataFrame(exam_data , index=labels)\n",
        "print(\"Select specific columns and rows:\")\n",
        "print(df.iloc[[1, 3, 5, 6], [0,1]])"
      ],
      "execution_count": 108,
      "outputs": [
        {
          "output_type": "stream",
          "text": [
            "Select specific columns and rows:\n",
            "      name  score\n",
            "b     Dima    9.0\n",
            "d    James    NaN\n",
            "f  Michael   20.0\n",
            "g  Matthew   14.5\n"
          ],
          "name": "stdout"
        }
      ]
    },
    {
      "cell_type": "markdown",
      "metadata": {
        "id": "n2YMpEmJi13m",
        "colab_type": "text"
      },
      "source": [
        "Q109. Write the pandas program to calculate mean score for each different student in DataFrame?\n",
        "Sample Python dictionary data and list labels- exam_data = {'name': ['Anastasia', 'Dima', 'Katherine', 'James', 'Emily', 'Michael', 'Matthew', 'Laura', 'Kevin', 'Jonas'], 'score': [12.5, 9, 16.5, np.nan, 9, 20, 14.5, np.nan, 8, 19], 'attempts'- [1, 3, 2, 3, 2, 3, 1, 1, 2, 1], 'qualify'- ['yes', 'no', ' yes ', ' no ', ' no ', ' yes ', ' yes ', ' no ', ' no ', ' yes '] } labels = ['a', 'b', 'c', 'd', 'e', 'f', 'g', 'h', 'i', 'j'] Expected Output- Mean score for each different student in data frame: 13.5625"
      ]
    },
    {
      "cell_type": "code",
      "metadata": {
        "id": "rrL9nnP3i1z3",
        "colab_type": "code",
        "outputId": "7936de16-5ab5-4023-e72f-9a4afc6b2400",
        "colab": {
          "base_uri": "https://localhost:8080/",
          "height": 68
        }
      },
      "source": [
        "exam_data  = {'name': ['Anastasia', 'Dima', 'Katherine', 'James', 'Emily', 'Michael', 'Matthew', 'Laura', 'Kevin', 'Jonas'],\n",
        "        'score': [12.5, 9, 16.5, np.nan, 9, 20, 14.5, np.nan, 8, 19],\n",
        "        'attempts': [1, 3, 2, 3, 2, 3, 1, 1, 2, 1],\n",
        "        'qualify': ['yes', 'no', 'yes', 'no', 'no', 'yes', 'yes', 'no', 'no', 'yes']}\n",
        "labels = ['a', 'b', 'c', 'd', 'e', 'f', 'g', 'h', 'i', 'j']\n",
        "\n",
        "df = pd.DataFrame(exam_data , index=labels)\n",
        "print(\"\\nMean score for each different student in data frame:\")\n",
        "print(df['score'].mean())"
      ],
      "execution_count": 109,
      "outputs": [
        {
          "output_type": "stream",
          "text": [
            "\n",
            "Mean score for each different student in data frame:\n",
            "13.5625\n"
          ],
          "name": "stdout"
        }
      ]
    },
    {
      "cell_type": "markdown",
      "metadata": {
        "id": "CZh7sGXAi7HO",
        "colab_type": "text"
      },
      "source": [
        "Q110. Write the Pandas program to rename columns of a given DataFrame ?\n",
        "Sample data- Original data frame col1 col2 col3 0 1 4 7 1 2 5 8 2 3 6 9 New data frame after renaming columns: Column1 Column2 Column3 0 1 4 7 1 2 5 8 2 3 6 9"
      ]
    },
    {
      "cell_type": "code",
      "metadata": {
        "id": "mqZcp9UhpNPD",
        "colab_type": "code",
        "outputId": "2f659fdb-08e0-48a4-ffeb-933e9985617f",
        "colab": {
          "base_uri": "https://localhost:8080/",
          "height": 187
        }
      },
      "source": [
        "d = {'col1': [1, 2, 3], 'col2': [4, 5, 6], 'col3': [7, 8, 9]}\n",
        "df = pd.DataFrame(data=d)\n",
        "print(\"Original DataFrame\")\n",
        "print(df)\n",
        "df.columns = ['Column1', 'Column2', 'Column3']\n",
        "df = df.rename(columns={'col1': 'Column1', 'col2': 'Column2', 'col3': 'Column3'})\n",
        "print(\"New DataFrame after renaming columns:\")\n",
        "print(df)"
      ],
      "execution_count": 110,
      "outputs": [
        {
          "output_type": "stream",
          "text": [
            "Original DataFrame\n",
            "   col1  col2  col3\n",
            "0     1     4     7\n",
            "1     2     5     8\n",
            "2     3     6     9\n",
            "New DataFrame after renaming columns:\n",
            "   Column1  Column2  Column3\n",
            "0        1        4        7\n",
            "1        2        5        8\n",
            "2        3        6        9\n"
          ],
          "name": "stdout"
        }
      ]
    },
    {
      "cell_type": "markdown",
      "metadata": {
        "id": "Pvo6Cmd_i7k4",
        "colab_type": "text"
      },
      "source": [
        "Q111. Write a pandas program to count city-wise number of people from a given of data set (city, name of the person)?\n",
        "Sample data-\n",
        "P a g e 34 | 44\n",
        "city Number of people 0 California 4 1 Georgia 2 2 Los Angeles 4"
      ]
    },
    {
      "cell_type": "code",
      "metadata": {
        "id": "EsG_Vbrmpj8c",
        "colab_type": "code",
        "outputId": "372ab471-37f7-49ef-cd32-e2180bb49fbe",
        "colab": {
          "base_uri": "https://localhost:8080/",
          "height": 85
        }
      },
      "source": [
        "df1 = pd.DataFrame({'name': ['Anastasia', 'Dima', 'Katherine', 'James', 'Emily', 'Michael', 'Matthew', 'Laura', 'Kevin', 'Jonas'],\n",
        "'city': ['California', 'Los Angeles', 'California', 'California', 'California', 'Los Angeles', 'Los Angeles', 'Georgia', 'Georgia', 'Los Angeles']})\n",
        "g1 = df1.groupby([\"city\"]).size().reset_index(name='Number of people')\n",
        "print(g1)"
      ],
      "execution_count": 111,
      "outputs": [
        {
          "output_type": "stream",
          "text": [
            "          city  Number of people\n",
            "0   California                 4\n",
            "1      Georgia                 2\n",
            "2  Los Angeles                 4\n"
          ],
          "name": "stdout"
        }
      ]
    },
    {
      "cell_type": "markdown",
      "metadata": {
        "id": "jra020SUi7gu",
        "colab_type": "text"
      },
      "source": [
        "Q112. Write a pandas program to widen output display to see more columns?\n",
        "Sample data- Original data frame col1 col2 col3 0 1 4 7 1 4 5 8 2 3 6 9 3 4 7 0 4 5 8 1"
      ]
    },
    {
      "cell_type": "code",
      "metadata": {
        "id": "XF1Qg_-Wp3y7",
        "colab_type": "code",
        "outputId": "dc897719-1af9-43d9-8bf7-cb17d979a7da",
        "colab": {
          "base_uri": "https://localhost:8080/",
          "height": 136
        }
      },
      "source": [
        "d = {'col1': [1, 4, 3, 4, 5], 'col2': [4, 5, 6, 7, 8], 'col3': [7, 8, 9, 0, 1]}\n",
        "df = pd.DataFrame(data=d)\n",
        "\n",
        "pd.set_option('display.max_rows', 500)\n",
        "pd.set_option('display.max_columns', 500)\n",
        "pd.set_option('display.width', 1000)\n",
        "\n",
        "print(\"Original DataFrame\")\n",
        "print(df)"
      ],
      "execution_count": 112,
      "outputs": [
        {
          "output_type": "stream",
          "text": [
            "Original DataFrame\n",
            "   col1  col2  col3\n",
            "0     1     4     7\n",
            "1     4     5     8\n",
            "2     3     6     9\n",
            "3     4     7     0\n",
            "4     5     8     1\n"
          ],
          "name": "stdout"
        }
      ]
    },
    {
      "cell_type": "markdown",
      "metadata": {
        "id": "KndZRGcJi7c6",
        "colab_type": "text"
      },
      "source": [
        "Q113. Write a pandas program to convert the data frame column type from string to DateTime?\n",
        "Sample data- String Date- 0 3/11/2000 1 3/12/2000 2 3/13/2000 dtype- object Original DataFrame (string to datetime)- 0 0 2000-03-11 1 2000-03-12 2 2000-03-13"
      ]
    },
    {
      "cell_type": "code",
      "metadata": {
        "id": "VTEwmvt0qAlh",
        "colab_type": "code",
        "outputId": "112adb42-a335-48a4-f11b-7395c53027b9",
        "colab": {
          "base_uri": "https://localhost:8080/",
          "height": 187
        }
      },
      "source": [
        "s = pd.Series(['3/11/2000', '3/12/2000', '3/13/2000'])\n",
        "print(\"String Date:\")\n",
        "print(s)\n",
        "r = pd.to_datetime(pd.Series(s))\n",
        "df = pd.DataFrame(r)\n",
        "print(\"Original DataFrame (string to datetime):\")\n",
        "print(df)"
      ],
      "execution_count": 113,
      "outputs": [
        {
          "output_type": "stream",
          "text": [
            "String Date:\n",
            "0    3/11/2000\n",
            "1    3/12/2000\n",
            "2    3/13/2000\n",
            "dtype: object\n",
            "Original DataFrame (string to datetime):\n",
            "           0\n",
            "0 2000-03-11\n",
            "1 2000-03-12\n",
            "2 2000-03-13\n"
          ],
          "name": "stdout"
        }
      ]
    },
    {
      "cell_type": "markdown",
      "metadata": {
        "id": "53EuhnMli7Yw",
        "colab_type": "text"
      },
      "source": [
        "Q114. Write a pandas program to append the data to an empty DataFrame?\n",
        "Sample data- Original DataFrame- After appending some data: col1 col2 0 0 0 1 1 1 2 2 2"
      ]
    },
    {
      "cell_type": "code",
      "metadata": {
        "id": "Eh-eLgPAt5Rd",
        "colab_type": "code",
        "outputId": "325b4dc7-e564-4f1a-9173-e53f7f124598",
        "colab": {
          "base_uri": "https://localhost:8080/",
          "height": 102
        }
      },
      "source": [
        "df = pd.DataFrame()\n",
        "data = pd.DataFrame({\"col1\": range(3),\"col2\": range(3)})\n",
        "print(\"After appending some data:\")\n",
        "df = df.append(data)\n",
        "print(df)\n"
      ],
      "execution_count": 114,
      "outputs": [
        {
          "output_type": "stream",
          "text": [
            "After appending some data:\n",
            "   col1  col2\n",
            "0     0     0\n",
            "1     1     1\n",
            "2     2     2\n"
          ],
          "name": "stdout"
        }
      ]
    },
    {
      "cell_type": "markdown",
      "metadata": {
        "id": "3jHT3eNZi7VO",
        "colab_type": "text"
      },
      "source": [
        "Q115. Write a pandas program to count the number of columns of a DataFrame?\n",
        "Sample Output- Original DataFrame col1 col2 col3 0 1 4 7 1 2 5 8 2 3 6 12 3 4 9 1 4 7 5 11 Number of columns- 3"
      ]
    },
    {
      "cell_type": "code",
      "metadata": {
        "id": "2ReeJDn0uRih",
        "colab_type": "code",
        "outputId": "521a7e85-b953-4169-f5b5-fb8df75ab117",
        "colab": {
          "base_uri": "https://localhost:8080/",
          "height": 187
        }
      },
      "source": [
        "d = {'col1': [1, 2, 3, 4, 7], 'col2': [4, 5, 6, 9, 5], 'col3': [7, 8, 12, 1, 11]}\n",
        "df = pd.DataFrame(data=d)\n",
        "print(\"Original DataFrame\")\n",
        "print(df)\n",
        "print(\"\\nNumber of columns:\")\n",
        "print(len(df.columns))"
      ],
      "execution_count": 115,
      "outputs": [
        {
          "output_type": "stream",
          "text": [
            "Original DataFrame\n",
            "   col1  col2  col3\n",
            "0     1     4     7\n",
            "1     2     5     8\n",
            "2     3     6    12\n",
            "3     4     9     1\n",
            "4     7     5    11\n",
            "\n",
            "Number of columns:\n",
            "3\n"
          ],
          "name": "stdout"
        }
      ]
    },
    {
      "cell_type": "markdown",
      "metadata": {
        "id": "2AZYqQmCi7QT",
        "colab_type": "text"
      },
      "source": [
        "Q116. Write a Pandas program to remove the last n rows of a given DataFrame ?\n",
        "Sample Output: Original DataFrame col1 col2 col3 0 1 4 7 1 2 5 5 2 3 6 8 3 4 9 12 4 7 5 1 5 11 0 11 After removing last 3 rows of the said DataFrame- col1 col2 col3 0 1 4 7 1 2 5 5 2 3 6 8\n",
        "\n"
      ]
    },
    {
      "cell_type": "code",
      "metadata": {
        "id": "gDV_plGNug3Y",
        "colab_type": "code",
        "outputId": "3b231ad3-bfdc-412c-9f3e-e1573c1e60ef",
        "colab": {
          "base_uri": "https://localhost:8080/",
          "height": 255
        }
      },
      "source": [
        "d = {'col1': [1, 2, 3, 4, 7, 11], 'col2': [4, 5, 6, 9, 5, 0], 'col3': [7, 5, 8, 12, 1,11]}\n",
        "df = pd.DataFrame(data=d)\n",
        "print(\"Original DataFrame\")\n",
        "print(df)\n",
        "print(\"\\nAfter removing last 3 rows of the said DataFrame:\")\n",
        "\n",
        "df1 = df.iloc[:3]\n",
        "print(df1)"
      ],
      "execution_count": 116,
      "outputs": [
        {
          "output_type": "stream",
          "text": [
            "Original DataFrame\n",
            "   col1  col2  col3\n",
            "0     1     4     7\n",
            "1     2     5     5\n",
            "2     3     6     8\n",
            "3     4     9    12\n",
            "4     7     5     1\n",
            "5    11     0    11\n",
            "\n",
            "After removing last 3 rows of the said DataFrame:\n",
            "   col1  col2  col3\n",
            "0     1     4     7\n",
            "1     2     5     5\n",
            "2     3     6     8\n"
          ],
          "name": "stdout"
        }
      ]
    },
    {
      "cell_type": "code",
      "metadata": {
        "id": "-b2gAuU_-aXy",
        "colab_type": "code",
        "colab": {}
      },
      "source": [
        ""
      ],
      "execution_count": 0,
      "outputs": []
    },
    {
      "cell_type": "code",
      "metadata": {
        "id": "xEqOdmxc-eSo",
        "colab_type": "code",
        "colab": {}
      },
      "source": [
        "# from google.colab import drive\n",
        "# drive.mount('/content/drive')"
      ],
      "execution_count": 0,
      "outputs": []
    },
    {
      "cell_type": "markdown",
      "metadata": {
        "id": "doD8bNl2i7Dc",
        "colab_type": "text"
      },
      "source": [
        "Q117. Write a Pandas program to import excel data (coalpublic2013.xlsx ) into a Pandas data frame."
      ]
    },
    {
      "cell_type": "code",
      "metadata": {
        "id": "PVGJgEYOuyz2",
        "colab_type": "code",
        "outputId": "63d9872d-8eaf-4d16-f829-810bc8644f23",
        "colab": {
          "base_uri": "https://localhost:8080/",
          "height": 564
        }
      },
      "source": [
        "df = pd.read_excel('/content/drive/My Drive/Colab Notebooks/dataset/Other/coalpublic2013.xls')\n",
        "df.head()"
      ],
      "execution_count": 118,
      "outputs": [
        {
          "output_type": "execute_result",
          "data": {
            "text/html": [
              "<div>\n",
              "<style scoped>\n",
              "    .dataframe tbody tr th:only-of-type {\n",
              "        vertical-align: middle;\n",
              "    }\n",
              "\n",
              "    .dataframe tbody tr th {\n",
              "        vertical-align: top;\n",
              "    }\n",
              "\n",
              "    .dataframe thead th {\n",
              "        text-align: right;\n",
              "    }\n",
              "</style>\n",
              "<table border=\"1\" class=\"dataframe\">\n",
              "  <thead>\n",
              "    <tr style=\"text-align: right;\">\n",
              "      <th></th>\n",
              "      <th>Year</th>\n",
              "      <th>MSHA ID</th>\n",
              "      <th>Mine Name</th>\n",
              "      <th>Mine State</th>\n",
              "      <th>Mine County</th>\n",
              "      <th>Mine Status</th>\n",
              "      <th>Mine Type</th>\n",
              "      <th>Company Type</th>\n",
              "      <th>Operation Type</th>\n",
              "      <th>Operating Company</th>\n",
              "      <th>Operating Company Address</th>\n",
              "      <th>Union Code</th>\n",
              "      <th>Coal Supply Region</th>\n",
              "      <th>Production (short tons)</th>\n",
              "      <th>Average Employees</th>\n",
              "      <th>Labor Hours</th>\n",
              "    </tr>\n",
              "  </thead>\n",
              "  <tbody>\n",
              "    <tr>\n",
              "      <th>0</th>\n",
              "      <td>2013</td>\n",
              "      <td>103381</td>\n",
              "      <td>Tacoa Highwall Miner</td>\n",
              "      <td>Alabama</td>\n",
              "      <td>Bibb</td>\n",
              "      <td>Active, men working, not producing</td>\n",
              "      <td>Surface</td>\n",
              "      <td>Indepedent Producer Operator</td>\n",
              "      <td>Mine only</td>\n",
              "      <td>Jesse Creek Mining, Llc</td>\n",
              "      <td>1615 Kent Dairy Rd, Alabaster, AL 35007</td>\n",
              "      <td></td>\n",
              "      <td>Appalachia Southern</td>\n",
              "      <td>56004</td>\n",
              "      <td>10</td>\n",
              "      <td>22392</td>\n",
              "    </tr>\n",
              "    <tr>\n",
              "      <th>1</th>\n",
              "      <td>2013</td>\n",
              "      <td>103404</td>\n",
              "      <td>Reid School Mine</td>\n",
              "      <td>Alabama</td>\n",
              "      <td>Blount</td>\n",
              "      <td>Permanently abandoned</td>\n",
              "      <td>Surface</td>\n",
              "      <td>Indepedent Producer Operator</td>\n",
              "      <td>Mine only</td>\n",
              "      <td>Taft Coal Sales &amp; Associates,</td>\n",
              "      <td>3000 Riverchase Galleria Ste 1, Birmingham, AL...</td>\n",
              "      <td>UNIT</td>\n",
              "      <td>Appalachia Southern</td>\n",
              "      <td>28807</td>\n",
              "      <td>18</td>\n",
              "      <td>28447</td>\n",
              "    </tr>\n",
              "    <tr>\n",
              "      <th>2</th>\n",
              "      <td>2013</td>\n",
              "      <td>100759</td>\n",
              "      <td>North River #1 Underground Min</td>\n",
              "      <td>Alabama</td>\n",
              "      <td>Fayette</td>\n",
              "      <td>Active, men working, not producing</td>\n",
              "      <td>Underground</td>\n",
              "      <td>Indepedent Producer Operator</td>\n",
              "      <td>Mine and Preparation Plant</td>\n",
              "      <td>Jim Walter Resources Inc</td>\n",
              "      <td>3114 County Rd 63 S, Berry, AL 35546</td>\n",
              "      <td>UNIT</td>\n",
              "      <td>Appalachia Southern</td>\n",
              "      <td>1440115</td>\n",
              "      <td>183</td>\n",
              "      <td>474784</td>\n",
              "    </tr>\n",
              "    <tr>\n",
              "      <th>3</th>\n",
              "      <td>2013</td>\n",
              "      <td>103246</td>\n",
              "      <td>Bear Creek</td>\n",
              "      <td>Alabama</td>\n",
              "      <td>Franklin</td>\n",
              "      <td>Active</td>\n",
              "      <td>Surface</td>\n",
              "      <td>Indepedent Producer Operator</td>\n",
              "      <td>Mine only</td>\n",
              "      <td>Birmingham Coal &amp; Coke Co., In</td>\n",
              "      <td>912 Edenton Street, Birmingham, AL 35242</td>\n",
              "      <td></td>\n",
              "      <td>Appalachia Southern</td>\n",
              "      <td>87587</td>\n",
              "      <td>13</td>\n",
              "      <td>29193</td>\n",
              "    </tr>\n",
              "    <tr>\n",
              "      <th>4</th>\n",
              "      <td>2013</td>\n",
              "      <td>103451</td>\n",
              "      <td>Knight Mine</td>\n",
              "      <td>Alabama</td>\n",
              "      <td>Franklin</td>\n",
              "      <td>Active</td>\n",
              "      <td>Surface</td>\n",
              "      <td>Indepedent Producer Operator</td>\n",
              "      <td>Mine only</td>\n",
              "      <td>Birmingham Coal &amp; Coke Co., In</td>\n",
              "      <td>P.O. Box 354, Lynn, AL 35242</td>\n",
              "      <td></td>\n",
              "      <td>Appalachia Southern</td>\n",
              "      <td>147499</td>\n",
              "      <td>27</td>\n",
              "      <td>46393</td>\n",
              "    </tr>\n",
              "  </tbody>\n",
              "</table>\n",
              "</div>"
            ],
            "text/plain": [
              "   Year  MSHA ID                       Mine Name Mine State Mine County                         Mine Status    Mine Type                  Company Type              Operation Type               Operating Company                          Operating Company Address Union Code   Coal Supply Region  Production (short tons)  Average Employees  Labor Hours\n",
              "0  2013   103381            Tacoa Highwall Miner    Alabama        Bibb  Active, men working, not producing      Surface  Indepedent Producer Operator                   Mine only         Jesse Creek Mining, Llc            1615 Kent Dairy Rd, Alabaster, AL 35007             Appalachia Southern                    56004                 10        22392\n",
              "1  2013   103404                Reid School Mine    Alabama      Blount               Permanently abandoned      Surface  Indepedent Producer Operator                   Mine only   Taft Coal Sales & Associates,  3000 Riverchase Galleria Ste 1, Birmingham, AL...       UNIT  Appalachia Southern                    28807                 18        28447\n",
              "2  2013   100759  North River #1 Underground Min    Alabama     Fayette  Active, men working, not producing  Underground  Indepedent Producer Operator  Mine and Preparation Plant        Jim Walter Resources Inc               3114 County Rd 63 S, Berry, AL 35546       UNIT  Appalachia Southern                  1440115                183       474784\n",
              "3  2013   103246                      Bear Creek    Alabama    Franklin                              Active      Surface  Indepedent Producer Operator                   Mine only  Birmingham Coal & Coke Co., In           912 Edenton Street, Birmingham, AL 35242             Appalachia Southern                    87587                 13        29193\n",
              "4  2013   103451                     Knight Mine    Alabama    Franklin                              Active      Surface  Indepedent Producer Operator                   Mine only  Birmingham Coal & Coke Co., In                       P.O. Box 354, Lynn, AL 35242             Appalachia Southern                   147499                 27        46393"
            ]
          },
          "metadata": {
            "tags": []
          },
          "execution_count": 118
        }
      ]
    },
    {
      "cell_type": "markdown",
      "metadata": {
        "id": "6OPYTswJwEXQ",
        "colab_type": "text"
      },
      "source": [
        "Q118. Write a Pandas program to import excel data (coalpublic2013.xlsx ) into a data frame and find details where \"Mine Name\" starts with \"P."
      ]
    },
    {
      "cell_type": "code",
      "metadata": {
        "id": "1RUflRjwBomM",
        "colab_type": "code",
        "outputId": "84fc99a5-c490-48ae-eeda-c5d306873f91",
        "colab": {
          "base_uri": "https://localhost:8080/",
          "height": 374
        }
      },
      "source": [
        "df.info()"
      ],
      "execution_count": 119,
      "outputs": [
        {
          "output_type": "stream",
          "text": [
            "<class 'pandas.core.frame.DataFrame'>\n",
            "RangeIndex: 1450 entries, 0 to 1449\n",
            "Data columns (total 16 columns):\n",
            "Year                         1450 non-null int64\n",
            "MSHA ID                      1450 non-null int64\n",
            "Mine Name                    1450 non-null object\n",
            "Mine State                   1450 non-null object\n",
            "Mine County                  1450 non-null object\n",
            "Mine Status                  1450 non-null object\n",
            "Mine Type                    1450 non-null object\n",
            "Company Type                 1450 non-null object\n",
            "Operation Type               1450 non-null object\n",
            "Operating Company            1450 non-null object\n",
            "Operating Company Address    1450 non-null object\n",
            "Union Code                   1450 non-null object\n",
            "Coal Supply Region           1450 non-null object\n",
            "Production (short tons)      1450 non-null int64\n",
            "Average Employees            1450 non-null int64\n",
            "Labor Hours                  1450 non-null int64\n",
            "dtypes: int64(5), object(11)\n",
            "memory usage: 181.4+ KB\n"
          ],
          "name": "stdout"
        }
      ]
    },
    {
      "cell_type": "code",
      "metadata": {
        "id": "T7fquW4_i1QY",
        "colab_type": "code",
        "colab": {}
      },
      "source": [
        "#df[df[\"Mine Name\"].map(lambda x: x.startswith('P'))].head()\n",
        "#df[df[\"Mine Name\"].str.startswith('P')].Year\n",
        "#df[df[\"Mine Name\"].str.contains('P', case = True) ]\n",
        "#df1 = df.fillna('na')\n",
        "#df[df[\"Mine Name\"].str.startswith('P')]\n",
        "#df1.columns\n",
        "#df.isnull().sum()\n"
      ],
      "execution_count": 0,
      "outputs": []
    },
    {
      "cell_type": "markdown",
      "metadata": {
        "id": "0_bIkdnWxBI4",
        "colab_type": "text"
      },
      "source": [
        "Q119. Write a Pandas program to import excel data (employee.xlsx ) into a Pandas dataframe and find the list of employees where hire_date> 01-01-07."
      ]
    },
    {
      "cell_type": "code",
      "metadata": {
        "id": "J0RAKYWUi0-8",
        "colab_type": "code",
        "outputId": "d678e37b-9cfd-4f25-f8ae-50997834e4fb",
        "colab": {
          "base_uri": "https://localhost:8080/",
          "height": 173
        }
      },
      "source": [
        "dfemp = pd.read_excel('/content/drive/My Drive/Colab Notebooks/dataset/Other/employee.xlsx')\n",
        "dfemp[dfemp['hire_date'] >='20070101']"
      ],
      "execution_count": 120,
      "outputs": [
        {
          "output_type": "execute_result",
          "data": {
            "text/html": [
              "<div>\n",
              "<style scoped>\n",
              "    .dataframe tbody tr th:only-of-type {\n",
              "        vertical-align: middle;\n",
              "    }\n",
              "\n",
              "    .dataframe tbody tr th {\n",
              "        vertical-align: top;\n",
              "    }\n",
              "\n",
              "    .dataframe thead th {\n",
              "        text-align: right;\n",
              "    }\n",
              "</style>\n",
              "<table border=\"1\" class=\"dataframe\">\n",
              "  <thead>\n",
              "    <tr style=\"text-align: right;\">\n",
              "      <th></th>\n",
              "      <th>emp_id</th>\n",
              "      <th>first_name</th>\n",
              "      <th>last_name</th>\n",
              "      <th>hire_date</th>\n",
              "    </tr>\n",
              "  </thead>\n",
              "  <tbody>\n",
              "    <tr>\n",
              "      <th>4</th>\n",
              "      <td>104</td>\n",
              "      <td>Bruce</td>\n",
              "      <td>Ernst</td>\n",
              "      <td>2007-05-21</td>\n",
              "    </tr>\n",
              "    <tr>\n",
              "      <th>7</th>\n",
              "      <td>107</td>\n",
              "      <td>Diana</td>\n",
              "      <td>Lorentz</td>\n",
              "      <td>2007-02-07</td>\n",
              "    </tr>\n",
              "    <tr>\n",
              "      <th>13</th>\n",
              "      <td>113</td>\n",
              "      <td>Luis</td>\n",
              "      <td>Popp</td>\n",
              "      <td>2007-12-07</td>\n",
              "    </tr>\n",
              "    <tr>\n",
              "      <th>19</th>\n",
              "      <td>119</td>\n",
              "      <td>Karen</td>\n",
              "      <td>Colmenares</td>\n",
              "      <td>2007-08-10</td>\n",
              "    </tr>\n",
              "  </tbody>\n",
              "</table>\n",
              "</div>"
            ],
            "text/plain": [
              "    emp_id first_name   last_name  hire_date\n",
              "4      104      Bruce       Ernst 2007-05-21\n",
              "7      107      Diana     Lorentz 2007-02-07\n",
              "13     113       Luis        Popp 2007-12-07\n",
              "19     119      Karen  Colmenares 2007-08-10"
            ]
          },
          "metadata": {
            "tags": []
          },
          "execution_count": 120
        }
      ]
    },
    {
      "cell_type": "markdown",
      "metadata": {
        "id": "LA2Hp5k0xQww",
        "colab_type": "text"
      },
      "source": [
        "Q120. Write a Pandas program to import excel data (employee.xlsx ) into a Pandas dataframe and find a list of the employees of a specified year"
      ]
    },
    {
      "cell_type": "code",
      "metadata": {
        "id": "3Epj_DpRxP1D",
        "colab_type": "code",
        "outputId": "52522cd6-390b-4366-bf69-a1f9af86f8f9",
        "colab": {
          "base_uri": "https://localhost:8080/",
          "height": 173
        }
      },
      "source": [
        "dfemp['year'] = dfemp['hire_date'].dt.year\n",
        "dfemp[dfemp['year'] == 2007]"
      ],
      "execution_count": 121,
      "outputs": [
        {
          "output_type": "execute_result",
          "data": {
            "text/html": [
              "<div>\n",
              "<style scoped>\n",
              "    .dataframe tbody tr th:only-of-type {\n",
              "        vertical-align: middle;\n",
              "    }\n",
              "\n",
              "    .dataframe tbody tr th {\n",
              "        vertical-align: top;\n",
              "    }\n",
              "\n",
              "    .dataframe thead th {\n",
              "        text-align: right;\n",
              "    }\n",
              "</style>\n",
              "<table border=\"1\" class=\"dataframe\">\n",
              "  <thead>\n",
              "    <tr style=\"text-align: right;\">\n",
              "      <th></th>\n",
              "      <th>emp_id</th>\n",
              "      <th>first_name</th>\n",
              "      <th>last_name</th>\n",
              "      <th>hire_date</th>\n",
              "      <th>year</th>\n",
              "    </tr>\n",
              "  </thead>\n",
              "  <tbody>\n",
              "    <tr>\n",
              "      <th>4</th>\n",
              "      <td>104</td>\n",
              "      <td>Bruce</td>\n",
              "      <td>Ernst</td>\n",
              "      <td>2007-05-21</td>\n",
              "      <td>2007</td>\n",
              "    </tr>\n",
              "    <tr>\n",
              "      <th>7</th>\n",
              "      <td>107</td>\n",
              "      <td>Diana</td>\n",
              "      <td>Lorentz</td>\n",
              "      <td>2007-02-07</td>\n",
              "      <td>2007</td>\n",
              "    </tr>\n",
              "    <tr>\n",
              "      <th>13</th>\n",
              "      <td>113</td>\n",
              "      <td>Luis</td>\n",
              "      <td>Popp</td>\n",
              "      <td>2007-12-07</td>\n",
              "      <td>2007</td>\n",
              "    </tr>\n",
              "    <tr>\n",
              "      <th>19</th>\n",
              "      <td>119</td>\n",
              "      <td>Karen</td>\n",
              "      <td>Colmenares</td>\n",
              "      <td>2007-08-10</td>\n",
              "      <td>2007</td>\n",
              "    </tr>\n",
              "  </tbody>\n",
              "</table>\n",
              "</div>"
            ],
            "text/plain": [
              "    emp_id first_name   last_name  hire_date  year\n",
              "4      104      Bruce       Ernst 2007-05-21  2007\n",
              "7      107      Diana     Lorentz 2007-02-07  2007\n",
              "13     113       Luis        Popp 2007-12-07  2007\n",
              "19     119      Karen  Colmenares 2007-08-10  2007"
            ]
          },
          "metadata": {
            "tags": []
          },
          "execution_count": 121
        }
      ]
    },
    {
      "cell_type": "markdown",
      "metadata": {
        "id": "3ABsOrcSxPoM",
        "colab_type": "text"
      },
      "source": [
        "Q121. Write a pandas program to import three datasheets from a given excel data (coalpublic2013.xlsx ) in to a single dataframe. Note: Structure of three datasheets are same."
      ]
    },
    {
      "cell_type": "code",
      "metadata": {
        "id": "1tSu-brMx0lC",
        "colab_type": "code",
        "outputId": "14a8919b-c18e-4736-bf1a-83ef8a0223e3",
        "colab": {
          "base_uri": "https://localhost:8080/",
          "height": 564
        }
      },
      "source": [
        "df1 = pd.read_excel('/content/drive/My Drive/Colab Notebooks/dataset/Other/coalpublic2013.xls',sheet_name=0)\n",
        "df2 = pd.read_excel('/content/drive/My Drive/Colab Notebooks/dataset/Other/coalpublic2013.xls',sheet_name=1)\n",
        "df3 = pd.read_excel('/content/drive/My Drive/Colab Notebooks/dataset/Other/coalpublic2013.xls',sheet_name=2)\n",
        "df = pd.concat([df1, df2, df3])\n",
        "df.head()"
      ],
      "execution_count": 122,
      "outputs": [
        {
          "output_type": "execute_result",
          "data": {
            "text/html": [
              "<div>\n",
              "<style scoped>\n",
              "    .dataframe tbody tr th:only-of-type {\n",
              "        vertical-align: middle;\n",
              "    }\n",
              "\n",
              "    .dataframe tbody tr th {\n",
              "        vertical-align: top;\n",
              "    }\n",
              "\n",
              "    .dataframe thead th {\n",
              "        text-align: right;\n",
              "    }\n",
              "</style>\n",
              "<table border=\"1\" class=\"dataframe\">\n",
              "  <thead>\n",
              "    <tr style=\"text-align: right;\">\n",
              "      <th></th>\n",
              "      <th>Year</th>\n",
              "      <th>MSHA ID</th>\n",
              "      <th>Mine Name</th>\n",
              "      <th>Mine State</th>\n",
              "      <th>Mine County</th>\n",
              "      <th>Mine Status</th>\n",
              "      <th>Mine Type</th>\n",
              "      <th>Company Type</th>\n",
              "      <th>Operation Type</th>\n",
              "      <th>Operating Company</th>\n",
              "      <th>Operating Company Address</th>\n",
              "      <th>Union Code</th>\n",
              "      <th>Coal Supply Region</th>\n",
              "      <th>Production (short tons)</th>\n",
              "      <th>Average Employees</th>\n",
              "      <th>Labor Hours</th>\n",
              "    </tr>\n",
              "  </thead>\n",
              "  <tbody>\n",
              "    <tr>\n",
              "      <th>0</th>\n",
              "      <td>2013</td>\n",
              "      <td>103381</td>\n",
              "      <td>Tacoa Highwall Miner</td>\n",
              "      <td>Alabama</td>\n",
              "      <td>Bibb</td>\n",
              "      <td>Active, men working, not producing</td>\n",
              "      <td>Surface</td>\n",
              "      <td>Indepedent Producer Operator</td>\n",
              "      <td>Mine only</td>\n",
              "      <td>Jesse Creek Mining, Llc</td>\n",
              "      <td>1615 Kent Dairy Rd, Alabaster, AL 35007</td>\n",
              "      <td></td>\n",
              "      <td>Appalachia Southern</td>\n",
              "      <td>56004</td>\n",
              "      <td>10</td>\n",
              "      <td>22392</td>\n",
              "    </tr>\n",
              "    <tr>\n",
              "      <th>1</th>\n",
              "      <td>2013</td>\n",
              "      <td>103404</td>\n",
              "      <td>Reid School Mine</td>\n",
              "      <td>Alabama</td>\n",
              "      <td>Blount</td>\n",
              "      <td>Permanently abandoned</td>\n",
              "      <td>Surface</td>\n",
              "      <td>Indepedent Producer Operator</td>\n",
              "      <td>Mine only</td>\n",
              "      <td>Taft Coal Sales &amp; Associates,</td>\n",
              "      <td>3000 Riverchase Galleria Ste 1, Birmingham, AL...</td>\n",
              "      <td>UNIT</td>\n",
              "      <td>Appalachia Southern</td>\n",
              "      <td>28807</td>\n",
              "      <td>18</td>\n",
              "      <td>28447</td>\n",
              "    </tr>\n",
              "    <tr>\n",
              "      <th>2</th>\n",
              "      <td>2013</td>\n",
              "      <td>100759</td>\n",
              "      <td>North River #1 Underground Min</td>\n",
              "      <td>Alabama</td>\n",
              "      <td>Fayette</td>\n",
              "      <td>Active, men working, not producing</td>\n",
              "      <td>Underground</td>\n",
              "      <td>Indepedent Producer Operator</td>\n",
              "      <td>Mine and Preparation Plant</td>\n",
              "      <td>Jim Walter Resources Inc</td>\n",
              "      <td>3114 County Rd 63 S, Berry, AL 35546</td>\n",
              "      <td>UNIT</td>\n",
              "      <td>Appalachia Southern</td>\n",
              "      <td>1440115</td>\n",
              "      <td>183</td>\n",
              "      <td>474784</td>\n",
              "    </tr>\n",
              "    <tr>\n",
              "      <th>3</th>\n",
              "      <td>2013</td>\n",
              "      <td>103246</td>\n",
              "      <td>Bear Creek</td>\n",
              "      <td>Alabama</td>\n",
              "      <td>Franklin</td>\n",
              "      <td>Active</td>\n",
              "      <td>Surface</td>\n",
              "      <td>Indepedent Producer Operator</td>\n",
              "      <td>Mine only</td>\n",
              "      <td>Birmingham Coal &amp; Coke Co., In</td>\n",
              "      <td>912 Edenton Street, Birmingham, AL 35242</td>\n",
              "      <td></td>\n",
              "      <td>Appalachia Southern</td>\n",
              "      <td>87587</td>\n",
              "      <td>13</td>\n",
              "      <td>29193</td>\n",
              "    </tr>\n",
              "    <tr>\n",
              "      <th>4</th>\n",
              "      <td>2013</td>\n",
              "      <td>103451</td>\n",
              "      <td>Knight Mine</td>\n",
              "      <td>Alabama</td>\n",
              "      <td>Franklin</td>\n",
              "      <td>Active</td>\n",
              "      <td>Surface</td>\n",
              "      <td>Indepedent Producer Operator</td>\n",
              "      <td>Mine only</td>\n",
              "      <td>Birmingham Coal &amp; Coke Co., In</td>\n",
              "      <td>P.O. Box 354, Lynn, AL 35242</td>\n",
              "      <td></td>\n",
              "      <td>Appalachia Southern</td>\n",
              "      <td>147499</td>\n",
              "      <td>27</td>\n",
              "      <td>46393</td>\n",
              "    </tr>\n",
              "  </tbody>\n",
              "</table>\n",
              "</div>"
            ],
            "text/plain": [
              "   Year  MSHA ID                       Mine Name Mine State Mine County                         Mine Status    Mine Type                  Company Type              Operation Type               Operating Company                          Operating Company Address Union Code   Coal Supply Region  Production (short tons)  Average Employees  Labor Hours\n",
              "0  2013   103381            Tacoa Highwall Miner    Alabama        Bibb  Active, men working, not producing      Surface  Indepedent Producer Operator                   Mine only         Jesse Creek Mining, Llc            1615 Kent Dairy Rd, Alabaster, AL 35007             Appalachia Southern                    56004                 10        22392\n",
              "1  2013   103404                Reid School Mine    Alabama      Blount               Permanently abandoned      Surface  Indepedent Producer Operator                   Mine only   Taft Coal Sales & Associates,  3000 Riverchase Galleria Ste 1, Birmingham, AL...       UNIT  Appalachia Southern                    28807                 18        28447\n",
              "2  2013   100759  North River #1 Underground Min    Alabama     Fayette  Active, men working, not producing  Underground  Indepedent Producer Operator  Mine and Preparation Plant        Jim Walter Resources Inc               3114 County Rd 63 S, Berry, AL 35546       UNIT  Appalachia Southern                  1440115                183       474784\n",
              "3  2013   103246                      Bear Creek    Alabama    Franklin                              Active      Surface  Indepedent Producer Operator                   Mine only  Birmingham Coal & Coke Co., In           912 Edenton Street, Birmingham, AL 35242             Appalachia Southern                    87587                 13        29193\n",
              "4  2013   103451                     Knight Mine    Alabama    Franklin                              Active      Surface  Indepedent Producer Operator                   Mine only  Birmingham Coal & Coke Co., In                       P.O. Box 354, Lynn, AL 35242             Appalachia Southern                   147499                 27        46393"
            ]
          },
          "metadata": {
            "tags": []
          },
          "execution_count": 122
        }
      ]
    },
    {
      "cell_type": "markdown",
      "metadata": {
        "id": "ctuvyCz4i0jl",
        "colab_type": "text"
      },
      "source": [
        "Q 122. Write a pandas program to import three datasheets from a given excel data (employee.xlsx ) into a single data frame and export the result into new Excel file. Note: Structure of three datasheets are same"
      ]
    },
    {
      "cell_type": "code",
      "metadata": {
        "id": "VUCf-4wki0fF",
        "colab_type": "code",
        "colab": {}
      },
      "source": [
        "df = pd.concat([df1, df2, df3])\n",
        "df.to_excel('/content/drive/My Drive/Colab Notebooks/dataset/Other/output.xlsx', index=False)"
      ],
      "execution_count": 0,
      "outputs": []
    },
    {
      "cell_type": "markdown",
      "metadata": {
        "id": "0TKHSZCqizqo",
        "colab_type": "text"
      },
      "source": [
        "Q123. Write a pandas program to create the Pivot table with multiple indexes from the data set of the titanic.csv."
      ]
    },
    {
      "cell_type": "code",
      "metadata": {
        "id": "2PVAgwpDizn8",
        "colab_type": "code",
        "outputId": "a573047c-35e9-459e-9470-fd3a4f289b1e",
        "colab": {
          "base_uri": "https://localhost:8080/",
          "height": 1000
        }
      },
      "source": [
        "dftitanic = pd.read_csv('/content/drive/My Drive/Colab Notebooks/dataset/Other/Titanic.csv')\n",
        "result = pd.pivot_table(dftitanic, index = [\"sex\",\"age\"], aggfunc=np.sum)\n",
        "print(result)"
      ],
      "execution_count": 124,
      "outputs": [
        {
          "output_type": "stream",
          "text": [
            "              Unnamed: 15  adult_male  alone      fare  parch  pclass  sibsp  survived\n",
            "sex    age                                                                            \n",
            "female 0.75           0.0         0.0    0.0   38.5166      2       6      4         2\n",
            "       1.00           0.0         0.0    0.0   26.8750      3       6      1         2\n",
            "       2.00           0.0         0.0    0.0  259.4750      9      15      9         2\n",
            "       3.00           0.0         0.0    0.0   62.6542      3       5      4         1\n",
            "       4.00           0.0         0.0    0.0  114.1417      6      13      4         5\n",
            "       5.00           0.0         0.0    1.0   90.8708      5      11      7         4\n",
            "       6.00           0.0         0.0    0.0   64.2750      3       5      4         1\n",
            "       7.00           0.0         0.0    0.0   26.2500      2       2      0         1\n",
            "       8.00           0.0         0.0    0.0   47.3250      3       5      3         1\n",
            "       9.00           0.0         0.0    0.0  108.7958      7      12     10         0\n",
            "       10.00          0.0         0.0    0.0   24.1500      2       3      0         0\n",
            "       11.00          0.0         0.0    0.0   31.2750      2       3      4         0\n",
            "       13.00          0.0         0.0    1.0   26.7292      1       5      0         2\n",
            "       14.00          0.0         0.0    1.0  169.1667      2       9      3         3\n",
            "       14.50          0.0         0.0    0.0   14.4542      0       3      1         0\n",
            "       15.00          0.0         0.0    2.0  241.0459      1      10      1         4\n",
            "       16.00          0.0         0.0    3.0  246.2625      4      12      5         5\n",
            "       17.00          0.0         0.0    3.0  210.7833      2      12      6         5\n",
            "       18.00          0.0         0.0    4.0  697.0167      9      31      6         8\n",
            "       19.00          0.0         0.0    3.0  215.0959      2      13      3         7\n",
            "       20.00          0.0         0.0    1.0   18.4875      0       6      1         0\n",
            "       21.00          0.0         0.0    4.0  410.4333      4      16      5         4\n",
            "       22.00          0.0         0.0    7.0  444.1084      6      26      3        10\n",
            "       23.00          0.0         0.0    3.0  405.5417      2      10      4         4\n",
            "       24.00          0.0         0.0    7.0  772.1708     15      31     10        14\n",
            "       25.00          0.0         0.0    1.0  223.2500      4      11      3         2\n",
            "       26.00          0.0         0.0    3.0  136.7292      1      12      2         3\n",
            "       27.00          0.0         0.0    2.0   76.8916      3      15      2         5\n",
            "       28.00          0.0         0.0    4.0  110.9458      1      16      3         5\n",
            "       29.00          0.0         0.0    2.0  320.6208      7      16      3         5\n",
            "       30.00          0.0         0.0    9.0  465.9917      1      20      4         9\n",
            "       30.50          0.0         0.0    1.0    7.7500      0       3      0         0\n",
            "       31.00          0.0         0.0    2.0  359.4542      4      16      4         5\n",
            "       32.00          0.0         0.0    2.0  104.7917      1       6      1         2\n",
            "       32.50          0.0         0.0    1.0   13.0000      0       2      0         1\n",
            "       33.00          0.0         0.0    1.0  299.2000      4      10      6         6\n",
            "       34.00          0.0         0.0    2.0   79.0000      2       8      1         4\n",
            "       35.00          0.0         0.0    3.0  967.7875      1      11      5         8\n",
            "       36.00          0.0         0.0    3.0  396.0333      4      12      3         7\n",
            "       37.00          0.0         0.0    1.0    9.5875      0       3      0         0\n",
            "       38.00          0.0         0.0    3.0  423.1958      5       8      2         4\n",
            "       39.00          0.0         0.0    0.0  389.9916     13      10      5         4\n",
            "       40.00          0.0         0.0    3.0  365.1875      2      11      3         5\n",
            "       41.00          0.0         0.0    1.0  213.9000      8       9      0         2\n",
            "       42.00          0.0         0.0    2.0  266.5250      0       5      1         3\n",
            "       43.00          0.0         0.0    0.0  258.2375      7       4      1         1\n",
            "       44.00          0.0         0.0    1.0  111.7000      1       4      1         2\n",
            "       45.00          0.0         0.0    2.0  254.7209      7      14      3         3\n",
            "       47.00          0.0         0.0    0.0   67.0542      1       4      2         1\n",
            "       48.00          0.0         0.0    1.0  164.9042      5       7      3         3\n",
            "       49.00          0.0         0.0    1.0  102.6584      0       2      1         2\n",
            "       50.00          0.0         0.0    3.0  323.2333      2       8      0         4\n",
            "       51.00          0.0         0.0    0.0   77.9583      0       1      1         1\n",
            "       52.00          0.0         0.0    0.0  171.7667      1       2      2         2\n",
            "       53.00          0.0         0.0    0.0   51.4792      0       1      2         1\n",
            "       54.00          0.0         0.0    0.0  160.6667      3       4      3         3\n",
            "       55.00          0.0         0.0    1.0   16.0000      0       2      0         1\n",
            "       56.00          0.0         0.0    0.0   83.1583      1       1      0         1\n",
            "       57.00          0.0         0.0    1.0   10.5000      0       2      0         0\n",
            "       58.00          0.0         0.0    2.0  326.5333      1       3      0         3\n",
            "       60.00          0.0         0.0    0.0   75.2500      0       1      1         1\n",
            "       62.00          0.0         0.0    1.0   80.0000      0       1      0         1\n",
            "       63.00          0.0         0.0    1.0   87.5458      0       4      1         2\n",
            "male   0.42           0.0         0.0    0.0    8.5167      1       3      0         1\n",
            "       0.67           0.0         0.0    0.0   14.5000      1       2      1         1\n",
            "       0.83           0.0         0.0    0.0   47.7500      3       4      1         2\n",
            "       0.92           0.0         0.0    0.0  151.5500      2       1      1         1\n",
            "       1.00           0.0         0.0    0.0  183.1667      8      13     12         3\n",
            "       2.00           0.0         0.0    0.0  115.8875      4      11     12         1\n",
            "       3.00           0.0         0.0    0.0   92.0375      5      10      7         4\n",
            "       4.00           0.0         0.0    0.0  181.2916      8      13     12         2\n",
            "       6.00           0.0         0.0    0.0   12.4750      1       3      0         1\n",
            "       7.00           0.0         0.0    0.0   68.8125      2       6      8         0\n",
            "       8.00           0.0         0.0    0.0   65.8750      2       5      5         1\n",
            "       9.00           0.0         0.0    0.0  114.7125      7      12     10         2\n",
            "       10.00          0.0         0.0    0.0   27.9000      2       3      3         0\n",
            "       11.00          0.0         0.0    1.0  185.6875      4       7      6         1\n",
            "       12.00          0.0         0.0    0.0   11.2417      0       3      1         1\n",
            "       14.00          0.0         0.0    0.0   86.5875      3       6      9         0\n",
            "       15.00          0.0         0.0    0.0    7.2292      1       3      1         0\n",
            "       16.00          0.0        11.0    7.0  191.4042      5      31      8         1\n",
            "       17.00          0.0         7.0    4.0  158.2792      3      19      2         1\n",
            "       18.00          0.0        13.0    9.0  292.6333      2      33      4         1\n",
            "       19.00          0.0        18.0   15.0  481.6415      3      46      5         2\n",
            "       20.00          0.0        13.0   11.0  110.8751      1      39      2         3\n",
            "       20.50          0.0         1.0    1.0    7.2500      0       3      0         0\n",
            "       21.00          0.0        17.0   14.0  347.1416      1      46      3         1\n",
            "       22.00          0.0        15.0   14.0  244.5207      0      43      1         1\n",
            "       23.00          0.0        10.0    8.0  164.3791      2      22      2         1\n",
            "       23.50          0.0         1.0    1.0    7.2292      0       3      0         0\n",
            "       24.00          0.0        14.0   10.0  518.8999      1      35      5         1\n",
            "       24.50          0.0         1.0    1.0    8.0500      0       3      0         0\n",
            "       25.00          0.0        18.0   11.0  338.3126      2      45      7         4\n",
            "       26.00          0.0        13.0    9.0  206.8333      2      36      5         3\n",
            "       27.00          0.0        12.0    9.0  469.6125      2      25      2         6\n",
            "       28.00          0.0        18.0   14.0  414.5582      1      42      4         2\n",
            "       28.50          0.0         2.0    2.0   23.3292      0       6      0         0\n",
            "       29.00          0.0        13.0    9.0  221.1957      0      32      4         3\n",
            "       30.00          0.0        14.0   12.0  172.5500      0      35      2         1\n",
            "       30.50          0.0         1.0    1.0    8.0500      0       3      0         0\n",
            "       31.00          0.0        10.0    6.0  269.7000      2      20      4         3\n",
            "       32.00          0.0        15.0   12.0  333.0291      0      40      4         7\n",
            "       32.50          0.0         1.0    0.0   30.0708      0       2      1         0\n",
            "       33.00          0.0         9.0    8.0   88.1833      1      24      1         0\n",
            "       34.00          0.0        11.0    7.0  170.5458      1      25      4         2\n",
            "       34.50          0.0         1.0    1.0    6.4375      0       3      0         0\n",
            "       35.00          0.0        10.0   10.0  639.8375      0      22      0         3\n",
            "       36.00          0.0        15.0    9.0  923.1958      6      29      5         4\n",
            "       36.50          0.0         1.0    0.0   26.0000      2       2      0         0\n",
            "       37.00          0.0         5.0    0.0  169.2792      2       8      5         1\n",
            "       38.00          0.0         6.0    4.0  267.0708      1      12      1         1\n",
            "       39.00          0.0         8.0    7.0  123.2750      5      19      1         1\n",
            "       40.00          0.0         7.0    5.0  117.2416      5      15      2         1\n",
            "       40.50          0.0         2.0    1.0   22.2500      2       6      0         0\n",
            "       41.00          0.0         2.0    1.0   21.2333      0       6      2         0\n",
            "       42.00          0.0        10.0    6.0  216.1084      1      21      3         3\n",
            "       43.00          0.0         3.0    2.0   40.7500      1       8      1         0\n",
            "       44.00          0.0         6.0    3.0  156.1250      1      15      3         1\n",
            "       45.00          0.0         6.0    5.0  187.1000      0      10      1         2\n",
            "       45.50          0.0         2.0    2.0   35.7250      0       4      0         0\n",
            "       46.00          0.0         3.0    2.0  166.3750      0       4      1         0\n",
            "       47.00          0.0         7.0    7.0  181.3583      0      12      0         0\n",
            "       48.00          0.0         5.0    3.0  176.1334      0       8      2         3\n",
            "       49.00          0.0         4.0    1.0  256.9167      1       6      3         2\n",
            "       50.00          0.0         5.0    2.0  317.0250      0       8      4         1\n",
            "       51.00          0.0         6.0    5.0  123.3084      1      13      0         1\n",
            "       52.00          0.0         4.0    3.0  136.6500      1       6      1         1\n",
            "       54.00          0.0         5.0    3.0  195.1500      1       8      1         0\n",
            "       55.00          0.0         1.0    1.0   30.5000      0       1      0         0\n",
            "       55.50          0.0         1.0    1.0    8.0500      0       3      0         0\n",
            "       56.00          0.0         3.0    3.0   92.7458      0       3      0         1\n",
            "       57.00          0.0         1.0    1.0   12.3500      0       2      0         0\n",
            "       58.00          0.0         2.0    1.0  142.9750      2       2      0         0\n",
            "       59.00          0.0         2.0    2.0   20.7500      0       5      0         0\n",
            "       60.00          0.0         3.0    1.0  144.7500      2       4      2         1\n",
            "       61.00          0.0         3.0    3.0   72.0583      0       5      0         0\n",
            "       62.00          0.0         3.0    3.0   63.6000      0       4      0         1\n",
            "       64.00          0.0         2.0    1.0  289.0000      4       2      1         0\n",
            "       65.00          0.0         3.0    2.0   96.2792      1       5      0         0\n",
            "       66.00          0.0         1.0    1.0   10.5000      0       2      0         0\n",
            "       70.00          0.0         2.0    1.0   81.5000      1       3      1         0\n",
            "       70.50          0.0         1.0    1.0    7.7500      0       3      0         0\n",
            "       71.00          0.0         2.0    2.0   84.1584      0       2      0         0\n",
            "       74.00          0.0         1.0    1.0    7.7750      0       3      0         0\n",
            "       80.00          0.0         1.0    1.0   30.0000      0       1      0         1\n"
          ],
          "name": "stdout"
        }
      ]
    },
    {
      "cell_type": "markdown",
      "metadata": {
        "id": "9kgPcoDOizZB",
        "colab_type": "text"
      },
      "source": [
        "Q124. Write a Pandas program to create the Pivot table and find survival rate by gender?"
      ]
    },
    {
      "cell_type": "code",
      "metadata": {
        "id": "BvYPfOqBGYri",
        "colab_type": "code",
        "outputId": "5805f452-9306-4bc4-db94-67b69bdcd536",
        "colab": {
          "base_uri": "https://localhost:8080/",
          "height": 85
        }
      },
      "source": [
        "result = dftitanic.pivot_table('survived', index=['sex'])\n",
        "print(result)\n",
        "#dftitanic.groupby('sex')[['survived']].mean()\n",
        "\n"
      ],
      "execution_count": 125,
      "outputs": [
        {
          "output_type": "stream",
          "text": [
            "        survived\n",
            "sex             \n",
            "female  0.742038\n",
            "male    0.188908\n"
          ],
          "name": "stdout"
        }
      ]
    },
    {
      "cell_type": "markdown",
      "metadata": {
        "id": "57KXY1w3Ecql",
        "colab_type": "text"
      },
      "source": [
        "Q125. Write a pandas program to make partition each of the passengers into 4 categories based on their age. Note: Age categories- (0, 10), (10, 30), (30, 60), (60, 80)"
      ]
    },
    {
      "cell_type": "code",
      "metadata": {
        "id": "pYDvUZPlytuR",
        "colab_type": "code",
        "outputId": "e617bf78-ba66-4a12-eb83-d57808e0b75c",
        "colab": {
          "base_uri": "https://localhost:8080/",
          "height": 1000
        }
      },
      "source": [
        "result  =  dftitanic.pivot_table('survived', index=['sex','age'], columns='class')\n",
        "print(result)\n"
      ],
      "execution_count": 126,
      "outputs": [
        {
          "output_type": "stream",
          "text": [
            "class            First    Second     Third\n",
            "sex    age                                \n",
            "female 0.75        NaN       NaN  1.000000\n",
            "       1.00        NaN       NaN  1.000000\n",
            "       2.00   0.000000  1.000000  0.250000\n",
            "       3.00        NaN  1.000000  0.000000\n",
            "       4.00        NaN  1.000000  1.000000\n",
            "       5.00        NaN  1.000000  1.000000\n",
            "       6.00        NaN  1.000000  0.000000\n",
            "       7.00        NaN  1.000000       NaN\n",
            "       8.00        NaN  1.000000  0.000000\n",
            "       9.00        NaN       NaN  0.000000\n",
            "       10.00       NaN       NaN  0.000000\n",
            "       11.00       NaN       NaN  0.000000\n",
            "       13.00       NaN  1.000000  1.000000\n",
            "       14.00  1.000000  1.000000  0.500000\n",
            "       14.50       NaN       NaN  0.000000\n",
            "       15.00  1.000000       NaN  1.000000\n",
            "       16.00  1.000000       NaN  0.666667\n",
            "       17.00  1.000000  1.000000  0.500000\n",
            "       18.00  1.000000  1.000000  0.375000\n",
            "       19.00  1.000000  1.000000  1.000000\n",
            "       20.00       NaN       NaN  0.000000\n",
            "       21.00  1.000000  1.000000  0.250000\n",
            "       22.00  1.000000  1.000000  0.666667\n",
            "       23.00  1.000000  1.000000  0.500000\n",
            "       24.00  1.000000  0.857143  0.750000\n",
            "       25.00  0.000000  1.000000  0.000000\n",
            "       26.00  1.000000  0.000000  0.666667\n",
            "       27.00       NaN  0.666667  1.000000\n",
            "       28.00       NaN  1.000000  0.000000\n",
            "       29.00  1.000000  1.000000  0.333333\n",
            "       30.00  1.000000  1.000000  0.333333\n",
            "       30.50       NaN       NaN  0.000000\n",
            "       31.00  1.000000  1.000000  0.500000\n",
            "       32.00  1.000000  1.000000  0.000000\n",
            "       32.50       NaN  1.000000       NaN\n",
            "       33.00  1.000000  1.000000  1.000000\n",
            "       34.00       NaN  1.000000       NaN\n",
            "       35.00  1.000000  1.000000  1.000000\n",
            "       36.00  1.000000  1.000000  1.000000\n",
            "       37.00       NaN       NaN  0.000000\n",
            "       38.00  1.000000  0.000000  1.000000\n",
            "       39.00  1.000000       NaN  0.000000\n",
            "       40.00  1.000000  1.000000  0.000000\n",
            "       41.00  1.000000  1.000000  0.000000\n",
            "       42.00  1.000000  1.000000       NaN\n",
            "       43.00  1.000000       NaN  0.000000\n",
            "       44.00  1.000000  0.000000       NaN\n",
            "       45.00  1.000000  1.000000  0.000000\n",
            "       47.00  1.000000       NaN  0.000000\n",
            "       48.00  1.000000  1.000000  0.000000\n",
            "       49.00  1.000000       NaN       NaN\n",
            "       50.00  0.500000  1.000000       NaN\n",
            "       51.00  1.000000       NaN       NaN\n",
            "       52.00  1.000000       NaN       NaN\n",
            "       53.00  1.000000       NaN       NaN\n",
            "       54.00  1.000000  1.000000       NaN\n",
            "       55.00       NaN  1.000000       NaN\n",
            "       56.00  1.000000       NaN       NaN\n",
            "       57.00       NaN  0.000000       NaN\n",
            "       58.00  1.000000       NaN       NaN\n",
            "       60.00  1.000000       NaN       NaN\n",
            "       62.00  1.000000       NaN       NaN\n",
            "       63.00  1.000000       NaN  1.000000\n",
            "male   0.42        NaN       NaN  1.000000\n",
            "       0.67        NaN  1.000000       NaN\n",
            "       0.83        NaN  1.000000       NaN\n",
            "       0.92   1.000000       NaN       NaN\n",
            "       1.00        NaN  1.000000  0.333333\n",
            "       2.00        NaN  1.000000  0.000000\n",
            "       3.00        NaN  1.000000  1.000000\n",
            "       4.00   1.000000       NaN  0.250000\n",
            "       6.00        NaN       NaN  1.000000\n",
            "       7.00        NaN       NaN  0.000000\n",
            "       8.00        NaN  1.000000  0.000000\n",
            "       9.00        NaN       NaN  0.500000\n",
            "       10.00       NaN       NaN  0.000000\n",
            "       11.00  1.000000       NaN  0.000000\n",
            "       12.00       NaN       NaN  1.000000\n",
            "       14.00       NaN       NaN  0.000000\n",
            "       15.00       NaN       NaN  0.000000\n",
            "       16.00       NaN  0.000000  0.111111\n",
            "       17.00  1.000000       NaN  0.000000\n",
            "       18.00  0.000000  0.000000  0.125000\n",
            "       19.00  0.000000  0.250000  0.083333\n",
            "       20.00       NaN       NaN  0.230769\n",
            "       20.50       NaN       NaN  0.000000\n",
            "       21.00  0.000000  0.000000  0.076923\n",
            "       22.00  0.000000       NaN  0.071429\n",
            "       23.00  1.000000  0.000000  0.000000\n",
            "       23.50       NaN       NaN  0.000000\n",
            "       24.00  0.000000  0.000000  0.111111\n",
            "       24.50       NaN       NaN  0.000000\n",
            "       25.00  1.000000  0.000000  0.181818\n",
            "       26.00  1.000000  0.000000  0.181818\n",
            "       27.00  0.750000  0.000000  0.600000\n",
            "       28.00  0.500000  0.000000  0.000000\n",
            "       28.50       NaN       NaN  0.000000\n",
            "       29.00  0.000000  0.000000  0.375000\n",
            "       30.00  0.000000  0.000000  0.125000\n",
            "       30.50       NaN       NaN  0.000000\n",
            "       31.00  0.333333  0.250000  0.333333\n",
            "       32.00  1.000000  0.333333  0.454545\n",
            "       32.50       NaN  0.000000       NaN\n",
            "       33.00  0.000000  0.000000  0.000000\n",
            "       34.00  1.000000  0.166667  0.000000\n",
            "       34.50       NaN       NaN  0.000000\n",
            "       35.00  1.000000  0.000000  0.000000\n",
            "       36.00  0.666667  0.000000  0.000000\n",
            "       36.50       NaN  0.000000       NaN\n",
            "       37.00  0.333333  0.000000  0.000000\n",
            "       38.00  0.333333       NaN  0.000000\n",
            "       39.00  0.000000  0.000000  0.250000\n",
            "       40.00  0.333333       NaN  0.000000\n",
            "       40.50       NaN       NaN  0.000000\n",
            "       41.00       NaN       NaN  0.000000\n",
            "       42.00  0.666667  0.333333  0.000000\n",
            "       43.00       NaN  0.000000  0.000000\n",
            "       44.00  0.000000  0.000000  0.250000\n",
            "       45.00  0.250000       NaN  0.500000\n",
            "       45.50  0.000000       NaN  0.000000\n",
            "       46.00  0.000000  0.000000       NaN\n",
            "       47.00  0.000000  0.000000  0.000000\n",
            "       48.00  1.000000  0.000000  0.000000\n",
            "       49.00  0.666667       NaN  0.000000\n",
            "       50.00  0.333333  0.000000  0.000000\n",
            "       51.00  0.500000  0.000000  0.000000\n",
            "       52.00  0.500000  0.000000       NaN\n",
            "       54.00  0.000000  0.000000       NaN\n",
            "       55.00  0.000000       NaN       NaN\n",
            "       55.50       NaN       NaN  0.000000\n",
            "       56.00  0.333333       NaN       NaN\n",
            "       57.00       NaN  0.000000       NaN\n",
            "       58.00  0.000000       NaN       NaN\n",
            "       59.00       NaN  0.000000  0.000000\n",
            "       60.00  0.500000  0.000000       NaN\n",
            "       61.00  0.000000       NaN  0.000000\n",
            "       62.00  0.000000  1.000000       NaN\n",
            "       64.00  0.000000       NaN       NaN\n",
            "       65.00  0.000000       NaN  0.000000\n",
            "       66.00       NaN  0.000000       NaN\n",
            "       70.00  0.000000  0.000000       NaN\n",
            "       70.50       NaN       NaN  0.000000\n",
            "       71.00  0.000000       NaN       NaN\n",
            "       74.00       NaN       NaN  0.000000\n",
            "       80.00  1.000000       NaN       NaN\n"
          ],
          "name": "stdout"
        }
      ]
    },
    {
      "cell_type": "markdown",
      "metadata": {
        "id": "MXNJljBgyuBf",
        "colab_type": "text"
      },
      "source": [
        "Q126. Write a pandas program to create the Pivot table and find survival rate by the gender, age of the different categories of various classes."
      ]
    },
    {
      "cell_type": "code",
      "metadata": {
        "id": "-FTppp0hyuJo",
        "colab_type": "code",
        "outputId": "09abc5b2-f920-4802-b22e-d354fbac341b",
        "colab": {
          "base_uri": "https://localhost:8080/",
          "height": 85
        }
      },
      "source": [
        "result = dftitanic.pivot_table('survived', index=['sex'], columns='class')\n",
        "print(result)"
      ],
      "execution_count": 127,
      "outputs": [
        {
          "output_type": "stream",
          "text": [
            "class      First    Second     Third\n",
            "sex                                 \n",
            "female  0.968085  0.921053  0.500000\n",
            "male    0.368852  0.157407  0.135447\n"
          ],
          "name": "stdout"
        }
      ]
    },
    {
      "cell_type": "markdown",
      "metadata": {
        "id": "nailrciDyuRa",
        "colab_type": "text"
      },
      "source": [
        "Q127. Write a pandas program to create the Pivot table and calculate number of women and men were in a particular cabin class."
      ]
    },
    {
      "cell_type": "code",
      "metadata": {
        "id": "1P51cxjZyuZg",
        "colab_type": "code",
        "outputId": "1fecc98e-57d9-4f78-c65a-16b229cbffb4",
        "colab": {
          "base_uri": "https://localhost:8080/",
          "height": 122
        }
      },
      "source": [
        "\n",
        "result = dftitanic.pivot_table(index=['sex'], columns=['pclass'], aggfunc='count')\n",
        "print(result)"
      ],
      "execution_count": 128,
      "outputs": [
        {
          "output_type": "stream",
          "text": [
            "       Unnamed: 15       adult_male            age          alive           alone           class           deck        embark_town           embarked           fare           parch           sibsp           survived            who          \n",
            "pclass           1  2  3          1    2    3    1   2    3     1    2    3     1    2    3     1    2    3    1   2  3           1    2    3        1    2    3    1    2    3     1    2    3     1    2    3        1    2    3    1    2    3\n",
            "sex                                                                                                                                                                                                                                              \n",
            "female           0  0  0         94   76  144   85  74  102    94   76  144    94   76  144    94   76  144   81  10  6          92   76  144       92   76  144   94   76  144    94   76  144    94   76  144       94   76  144   94   76  144\n",
            "male             0  0  0        122  108  347  101  99  253   122  108  347   122  108  347   122  108  347   94   6  6         122  108  347      122  108  347  122  108  347   122  108  347   122  108  347      122  108  347  122  108  347\n"
          ],
          "name": "stdout"
        }
      ]
    },
    {
      "cell_type": "markdown",
      "metadata": {
        "id": "buSPP0rryug2",
        "colab_type": "text"
      },
      "source": [
        "Q128. Write a pandas program to create the Pivot table and separate the gender according to whether they travelled alone or not to get the probability of survival"
      ]
    },
    {
      "cell_type": "code",
      "metadata": {
        "id": "dUeCwR1GyurA",
        "colab_type": "code",
        "outputId": "a36cd3fa-6beb-42c4-c641-bb0016c5d565",
        "colab": {
          "base_uri": "https://localhost:8080/",
          "height": 204
        }
      },
      "source": [
        "result = dftitanic.pivot_table( 'survived' , [ 'sex' , 'alone' ] , 'pclass' )\n",
        "result"
      ],
      "execution_count": 129,
      "outputs": [
        {
          "output_type": "execute_result",
          "data": {
            "text/html": [
              "<div>\n",
              "<style scoped>\n",
              "    .dataframe tbody tr th:only-of-type {\n",
              "        vertical-align: middle;\n",
              "    }\n",
              "\n",
              "    .dataframe tbody tr th {\n",
              "        vertical-align: top;\n",
              "    }\n",
              "\n",
              "    .dataframe thead th {\n",
              "        text-align: right;\n",
              "    }\n",
              "</style>\n",
              "<table border=\"1\" class=\"dataframe\">\n",
              "  <thead>\n",
              "    <tr style=\"text-align: right;\">\n",
              "      <th></th>\n",
              "      <th>pclass</th>\n",
              "      <th>1</th>\n",
              "      <th>2</th>\n",
              "      <th>3</th>\n",
              "    </tr>\n",
              "    <tr>\n",
              "      <th>sex</th>\n",
              "      <th>alone</th>\n",
              "      <th></th>\n",
              "      <th></th>\n",
              "      <th></th>\n",
              "    </tr>\n",
              "  </thead>\n",
              "  <tbody>\n",
              "    <tr>\n",
              "      <th rowspan=\"2\" valign=\"top\">female</th>\n",
              "      <th>False</th>\n",
              "      <td>0.966667</td>\n",
              "      <td>0.931818</td>\n",
              "      <td>0.416667</td>\n",
              "    </tr>\n",
              "    <tr>\n",
              "      <th>True</th>\n",
              "      <td>0.970588</td>\n",
              "      <td>0.906250</td>\n",
              "      <td>0.616667</td>\n",
              "    </tr>\n",
              "    <tr>\n",
              "      <th rowspan=\"2\" valign=\"top\">male</th>\n",
              "      <th>False</th>\n",
              "      <td>0.425532</td>\n",
              "      <td>0.277778</td>\n",
              "      <td>0.180723</td>\n",
              "    </tr>\n",
              "    <tr>\n",
              "      <th>True</th>\n",
              "      <td>0.333333</td>\n",
              "      <td>0.097222</td>\n",
              "      <td>0.121212</td>\n",
              "    </tr>\n",
              "  </tbody>\n",
              "</table>\n",
              "</div>"
            ],
            "text/plain": [
              "pclass               1         2         3\n",
              "sex    alone                              \n",
              "female False  0.966667  0.931818  0.416667\n",
              "       True   0.970588  0.906250  0.616667\n",
              "male   False  0.425532  0.277778  0.180723\n",
              "       True   0.333333  0.097222  0.121212"
            ]
          },
          "metadata": {
            "tags": []
          },
          "execution_count": 129
        }
      ]
    },
    {
      "cell_type": "markdown",
      "metadata": {
        "id": "ZEWaXlwMyuy2",
        "colab_type": "text"
      },
      "source": [
        "Q129. Write a pandas program to create the Pivot table and find the probability of survival by class, gender, solo boarding, and the port of embarkation."
      ]
    },
    {
      "cell_type": "code",
      "metadata": {
        "id": "dVcJkvxTyvBb",
        "colab_type": "code",
        "outputId": "0f9438bb-ee01-40e7-8a52-0892e5b10766",
        "colab": {
          "base_uri": "https://localhost:8080/",
          "height": 235
        }
      },
      "source": [
        "result = dftitanic.pivot_table('survived', ['sex' , 'alone' ], [ 'embark_town', 'class' ])\n",
        "result"
      ],
      "execution_count": 130,
      "outputs": [
        {
          "output_type": "execute_result",
          "data": {
            "text/html": [
              "<div>\n",
              "<style scoped>\n",
              "    .dataframe tbody tr th:only-of-type {\n",
              "        vertical-align: middle;\n",
              "    }\n",
              "\n",
              "    .dataframe tbody tr th {\n",
              "        vertical-align: top;\n",
              "    }\n",
              "\n",
              "    .dataframe thead tr th {\n",
              "        text-align: left;\n",
              "    }\n",
              "\n",
              "    .dataframe thead tr:last-of-type th {\n",
              "        text-align: right;\n",
              "    }\n",
              "</style>\n",
              "<table border=\"1\" class=\"dataframe\">\n",
              "  <thead>\n",
              "    <tr>\n",
              "      <th></th>\n",
              "      <th>embark_town</th>\n",
              "      <th colspan=\"3\" halign=\"left\">Cherbourg</th>\n",
              "      <th colspan=\"3\" halign=\"left\">Queenstown</th>\n",
              "      <th colspan=\"3\" halign=\"left\">Southampton</th>\n",
              "    </tr>\n",
              "    <tr>\n",
              "      <th></th>\n",
              "      <th>class</th>\n",
              "      <th>First</th>\n",
              "      <th>Second</th>\n",
              "      <th>Third</th>\n",
              "      <th>First</th>\n",
              "      <th>Second</th>\n",
              "      <th>Third</th>\n",
              "      <th>First</th>\n",
              "      <th>Second</th>\n",
              "      <th>Third</th>\n",
              "    </tr>\n",
              "    <tr>\n",
              "      <th>sex</th>\n",
              "      <th>alone</th>\n",
              "      <th></th>\n",
              "      <th></th>\n",
              "      <th></th>\n",
              "      <th></th>\n",
              "      <th></th>\n",
              "      <th></th>\n",
              "      <th></th>\n",
              "      <th></th>\n",
              "      <th></th>\n",
              "    </tr>\n",
              "  </thead>\n",
              "  <tbody>\n",
              "    <tr>\n",
              "      <th rowspan=\"2\" valign=\"top\">female</th>\n",
              "      <th>False</th>\n",
              "      <td>1.000000</td>\n",
              "      <td>1.000000</td>\n",
              "      <td>0.611111</td>\n",
              "      <td>1.0</td>\n",
              "      <td>NaN</td>\n",
              "      <td>0.625000</td>\n",
              "      <td>0.941176</td>\n",
              "      <td>0.923077</td>\n",
              "      <td>0.327586</td>\n",
              "    </tr>\n",
              "    <tr>\n",
              "      <th>True</th>\n",
              "      <td>0.944444</td>\n",
              "      <td>1.000000</td>\n",
              "      <td>0.800000</td>\n",
              "      <td>NaN</td>\n",
              "      <td>1.0</td>\n",
              "      <td>0.760000</td>\n",
              "      <td>1.000000</td>\n",
              "      <td>0.892857</td>\n",
              "      <td>0.466667</td>\n",
              "    </tr>\n",
              "    <tr>\n",
              "      <th rowspan=\"2\" valign=\"top\">male</th>\n",
              "      <th>False</th>\n",
              "      <td>0.473684</td>\n",
              "      <td>0.166667</td>\n",
              "      <td>0.500000</td>\n",
              "      <td>0.0</td>\n",
              "      <td>NaN</td>\n",
              "      <td>0.100000</td>\n",
              "      <td>0.407407</td>\n",
              "      <td>0.300000</td>\n",
              "      <td>0.142857</td>\n",
              "    </tr>\n",
              "    <tr>\n",
              "      <th>True</th>\n",
              "      <td>0.347826</td>\n",
              "      <td>0.250000</td>\n",
              "      <td>0.151515</td>\n",
              "      <td>NaN</td>\n",
              "      <td>0.0</td>\n",
              "      <td>0.068966</td>\n",
              "      <td>0.326923</td>\n",
              "      <td>0.089552</td>\n",
              "      <td>0.123762</td>\n",
              "    </tr>\n",
              "  </tbody>\n",
              "</table>\n",
              "</div>"
            ],
            "text/plain": [
              "embark_town  Cherbourg                     Queenstown                  Southampton                    \n",
              "class            First    Second     Third      First Second     Third       First    Second     Third\n",
              "sex    alone                                                                                          \n",
              "female False  1.000000  1.000000  0.611111        1.0    NaN  0.625000    0.941176  0.923077  0.327586\n",
              "       True   0.944444  1.000000  0.800000        NaN    1.0  0.760000    1.000000  0.892857  0.466667\n",
              "male   False  0.473684  0.166667  0.500000        0.0    NaN  0.100000    0.407407  0.300000  0.142857\n",
              "       True   0.347826  0.250000  0.151515        NaN    0.0  0.068966    0.326923  0.089552  0.123762"
            ]
          },
          "metadata": {
            "tags": []
          },
          "execution_count": 130
        }
      ]
    },
    {
      "cell_type": "markdown",
      "metadata": {
        "id": "xl7JOYpmyvK1",
        "colab_type": "text"
      },
      "source": [
        "Q130. Write a pandas program to get current date, oldest date and number of days between Current date and the oldest date of Ufo dataset."
      ]
    },
    {
      "cell_type": "code",
      "metadata": {
        "id": "yXiGdfj2yvkC",
        "colab_type": "code",
        "outputId": "c324733e-398d-4c5a-ef2a-512c921cf211",
        "colab": {
          "base_uri": "https://localhost:8080/",
          "height": 309
        }
      },
      "source": [
        "dfufo = pd.read_csv(r'/content/drive/My Drive/Colab Notebooks/dataset/Other/ufo.csv')\n",
        "dfufo['Date_time'] = dfufo['Date_time'].astype('datetime64[ns]')\n",
        "print(\"Original Dataframe:\")\n",
        "print(dfufo.head())\n",
        "print(\"\\nCurrent date of Ufo dataset:\")\n",
        "print(dfufo.Date_time.max())\n",
        "print(\"\\nOldest date of Ufo dataset:\")\n",
        "print(dfufo.Date_time.min())\n",
        "print(\"\\nNumber of days between Current date and oldest date of Ufo dataset:\")\n",
        "print((dfufo.Date_time.max() - dfufo.Date_time.min()).days)"
      ],
      "execution_count": 131,
      "outputs": [
        {
          "output_type": "stream",
          "text": [
            "Original Dataframe:\n",
            "            Date_time                  city state/province country UFO_shape  length_of_encounter_seconds described_duration_of_encounter                                        description date_documented   latitude   longitude\n",
            "0 1910-06-01 15:00:00           wills point             tx      us     cigar                          120                       2 minutes       Cigar shaped object moving from West to East      04/16/2005  32.709167  -96.008056\n",
            "1 1920-06-11 21:00:00                cicero             in      us   unknown                           60                        1 minute  ((NUFORC Note:  Probable hoax.  Note date.  PD...      05/12/2009  40.123889  -86.013333\n",
            "2 1929-07-05 14:00:00  buchanan  (or burns)             or      us      disk                           60                            1min  we were traveling east of burns&#44clmbing up ...      08/16/2002  43.642500 -118.627500\n",
            "3 1931-06-01 13:00:00               abilene             ks      us      disk                         1800                 30 min. approx.  This is a what my mother related to me regardi...      02/14/2006  38.917222  -97.213611\n",
            "4 1939-06-01 20:00:00              waterloo             al      us  fireball                          300                       5 minutes  4 high school students see bright&#44 ground-l...      02/21/2014  34.918056  -88.064167\n",
            "\n",
            "Current date of Ufo dataset:\n",
            "2004-12-08 05:30:00\n",
            "\n",
            "Oldest date of Ufo dataset:\n",
            "1910-06-01 15:00:00\n",
            "\n",
            "Number of days between Current date and oldest date of Ufo dataset:\n",
            "34523\n"
          ],
          "name": "stdout"
        }
      ]
    },
    {
      "cell_type": "markdown",
      "metadata": {
        "id": "SwGSMR_Qyvu0",
        "colab_type": "text"
      },
      "source": [
        "Q131. Write a pandas program to get all sighting days of the unidentified flying object (ufo) between 1950-10-10 and 1960-10- 10."
      ]
    },
    {
      "cell_type": "code",
      "metadata": {
        "id": "JBZtf_8yyv5z",
        "colab_type": "code",
        "outputId": "dc69552b-8e07-4354-8bbf-e224d9deb6ad",
        "colab": {
          "base_uri": "https://localhost:8080/",
          "height": 802
        }
      },
      "source": [
        "selected_period = dfufo[(dfufo['Date_time'] >= '1950-01-01 00:00:00') & (dfufo['Date_time'] <= '1960-12-31 23:59:59')]\n",
        "print(selected_period)"
      ],
      "execution_count": 132,
      "outputs": [
        {
          "output_type": "stream",
          "text": [
            "             Date_time                           city state/province country UFO_shape  length_of_encounter_seconds described_duration_of_encounter                                        description date_documented   latitude   longitude\n",
            "29 1950-06-01 16:00:00                   philadelphia             ms      us      disk                          600             ten minutes or less  Childhood sighting of disk witnessed by mother...      03/12/2008  32.771389  -89.116667\n",
            "30 1950-06-01 20:00:00                     pittsburgh             pa      us      oval                         1500                   20/25 minutes  One larger white object &amp; 2 smaller round ...      02/14/2006  40.440556  -79.996111\n",
            "31 1950-08-01 04:00:00                     louisville             ky      us     other                           60                        1 minute  In 1953&#44 at the age of 3 years old I was Co...      10/19/2011  38.254167  -85.759444\n",
            "32 1950-10-01 11:00:00                      pikeville             ky      us      disk                          600                              hr        SEVENTY SOME  FLYING DISK OBSERVED IN  1950      04/16/2005  37.479167  -82.518889\n",
            "33 1951-06-01 07:00:00               brandon (canada)             mb      ca      disk                         1800                      30 minutes  Circular Craft and Man in Black Sighted in Sum...      02/18/2001  49.833333  -99.950000\n",
            "34 1951-07-01 03:00:00                  otis orchards             wa      us      disk                          120                      ~2 minutes  Cigar shaped Disc darting back and forth (East...      12/23/2013  47.700556 -117.105278\n",
            "35 1951-02-03 22:00:00                  thompsonville             ct      us      disk                           30                      30 seconds  A golden-orange glowing bowl&#44 flat on top&#...      07/25/2004  41.996944  -72.599444\n",
            "36 1951-06-03 13:00:00                         jasper             nc      us      oval                          300                       5 minutes  MIDDAY OVAL SHAPE&#44 ANITQUE COLOR OBJECT SIT...      06/20/2005  35.201389  -77.206944\n",
            "37 1952-07-01 15:00:00                         sebeka             mn      us     other                         1800                          30 min  Silver donut shape object sighted over rural M...      12/12/2011  46.630000  -95.088611\n",
            "38 1952-07-01 22:00:00                        detroit             mi      us    sphere                          300                       5 minutes  object sits stationary for 5 minutes and then ...      10/31/2003  42.331389  -83.045833\n",
            "39 1952-08-01 21:30:00                          tampa             fl      us      oval                         9000                  2 hrs. 30 min.  Triangulation radar fix (USAF&#44 civil&#44 Na...      12/02/2000  27.947222  -82.458611\n",
            "40 1952-10-01 12:00:00                    kansas city             mo      us      disk                           90                         90 sec.  1952 daylight sighting of multiple discs in fo...      10/31/2008  39.099722  -94.578333\n",
            "41 1953-04-01 15:00:00                      haverhill             ma      us   chevron                            2                         seconds                Historical account&#44 Haverhill MA      09/02/2005  42.776111  -71.077778\n",
            "42 1953-04-01 18:00:00                      cambridge             ma      us    sphere                          180                       3 minutes  Two red-orange lights skirted Boston rooftops ...      07/14/2013  42.375000  -71.106111\n",
            "43 1953-07-01 05:30:00  colorado springs (mtsn nw of)             co      us      disk                           10                      10 seconds  Absolutely huge UFO hovered 40 feet above hous...      07/25/2004  38.833889 -104.820833\n",
            "44 1953-08-01 12:00:00                       berkeley             mo      us  fireball                          300                       5 minutes    Early 50&#39s sighting in Berkeley&#44 Missouri      01/22/2004  38.754444  -90.331111\n",
            "45 1954-02-01 02:00:00                      fairbanks             ak      us   unknown                         1140                         19 min.  RADAR INTERCEPT OF UFO BY USAF PILOT IN ALASKA...      01/10/2009  64.837778 -147.716389\n",
            "46 1954-06-01 00:00:00                        houston             tx      us      disk                          180                     2-3 minutes  I fulfilled my duty by passing on an unusual a...      06/12/2008  29.763056  -95.363056\n",
            "47 1954-06-01 06:00:00                           ovid             ny      us      disk                          600                         10 min.  I saw two silver/gray objects of different sha...      12/05/2001  42.676389  -76.823333\n",
            "48 1954-06-01 08:00:00  springfield (rural area near)             il      us  cylinder                          600                      5-10 mins.  This happened many years ago when I was a chil...      12/02/2000  39.801667  -89.643611\n",
            "49 1955-05-01 15:00:00                       holbrook             ma      us       egg                           60                        1 minute  I turned around and over the trees was a large...      04/16/2005  42.155000  -71.009167\n",
            "50 1955-06-01 02:00:00                         bagley             mn      us    circle                         7200                         2 hours  I was 5 years old at the time&#44 family of 4 ...      05/24/1999  47.521667  -95.398056\n",
            "51 1955-06-01 15:29:00                     cincinnati             oh      us      disk                          120               approx. 1-1/2 min  June 1955.  Bronze saucer/cylindrical craft; a...      06/18/2003  39.161944  -84.456944\n",
            "52 1955-06-01 17:00:00           martinez (outskirts)             ca      us    circle                         1800                      30 minutes  We observed a large object aprox.size &quot;fo...      02/16/2000  38.019444 -122.133056\n",
            "53 1956-01-01 05:30:00                        weirton             wv      us      disk                           10                      10 seconds  My Uncle Sam was driving to work very early on...      01/07/2000  40.418889  -80.589722\n",
            "54 1956-03-01 13:00:00                       petaluma             ca      us      oval                         1800                      30 minutes  Objects were several thousand feet in altitude...      01/28/1999  38.232500 -122.635556\n",
            "55 1956-05-01 12:00:00                         canton             oh      us     cigar                          120                       2 minutes  At first the silver disc was stationary. As it...      09/15/2005  40.798889  -81.378611\n",
            "56 1956-06-01 19:00:00                         belton             mo      us     other                          600                          10min.  THE EVENT WAS A PERSONAL CONTACT WITH AN ALIEN...      01/28/1999  38.811944  -94.531667\n",
            "57 1957-01-01 21:00:00                         dallas             tx      us   unknown                           20                      20 seconds  I was flying the first of 4 USAF aircraft on a...      08/24/2004  32.783333  -96.800000\n",
            "58 1957-05-01 12:00:00                         canton             oh      us     cigar                          180                       3 minutes  Cigar shaped object is motionless for more tha...      04/27/2004  40.798889  -81.378611\n",
            "59 1957-06-01 10:00:00                        el paso             tx      us      disk                            7                  5 to 7 seconds  The UFO did not make any sounds.  The craft&#3...      07/26/2002  31.758611 -106.486389\n",
            "60 1957-06-01 20:00:00                    glens falls             ny      us      disk                          240                         3or4min  there was no mistakeing what i was looking at ...      12/02/2000  43.309444  -73.644444\n",
            "61 1958-01-01 22:00:00                            pep             tx      us  fireball                            2                            2sec  Green fire balls&#44 Texas Panhandle&#44 late ...      12/12/2009  33.816111 -102.557778\n",
            "62 1958-06-01 02:00:00                      middlesex             nc      us    circle                         3600                          1 hour                               white glowing lights      03/11/2006  35.790000  -78.204167\n",
            "63 1958-06-01 19:00:00                  san francisco             ca      us      oval                          120                       2 minutes  A low flying huge silver flying saucer positio...      10/31/2003  37.775000 -122.418333\n",
            "64 1958-06-01 21:00:00          new york city (bronx)             ny      us      oval                           10                      10 seconds  7 brightly illuminated elliptical discs racing...      04/16/2005  40.714167  -74.006389\n",
            "65 1959-04-01 01:00:00                          miami             fl      us    sphere                         2700                   30-45 minutes  1959 childhood encounter with a spherical&#44 ...      02/14/2008  25.773889  -80.193889\n",
            "66 1959-05-01 18:30:00                       columbus             oh      us     light                          180                         2-3 min  Red-orange lights over seen motionless over Lo...      02/22/2002  39.961111  -82.998889\n",
            "67 1959-06-01 12:00:00                         orange             ct      us  cylinder                         3600                         1 hour?  Sighted craft and transport of object to the g...      03/19/2009  41.278333  -73.026111\n",
            "68 1959-06-01 18:30:00                         sidney             oh      us     light                          300                       5 minutes  Saw a bright light shining down.  Pulled over ...      04/27/2007  40.284167  -84.155556\n",
            "69 1960-02-01 22:15:00                       st. paul             mn      us     cigar                            3                       3 seconds  A cigar-shaped UFO glided down towards the ear...      03/16/2000  44.944444  -93.093056\n",
            "70 1960-02-01 23:00:00                       hartwell             ga      us     cigar                           45         approx 30 to 45 seconds  My father explained an event of a large cigar-...      04/16/2005  34.352778  -82.932222\n",
            "71 1960-04-01 21:00:00                        houston             tx      us     other                          300                      <5 minutes  Sharp right angle turn in flight direction aft...      12/19/2003  29.763056  -95.363056\n",
            "72 1960-05-01 20:00:00                         tucson             az      us     light                          300                     4-5 minutes  Lights only&#44 no sound&#44 moving across the...      09/02/2005  32.221667 -110.925833\n"
          ],
          "name": "stdout"
        }
      ]
    },
    {
      "cell_type": "markdown",
      "metadata": {
        "id": "THFInWcvywDA",
        "colab_type": "text"
      },
      "source": [
        "Q132. Write a Pandas program to extract the year, month, day, hour, minute, second, and weekday from unidentified flying object (UFO) reporting date."
      ]
    },
    {
      "cell_type": "code",
      "metadata": {
        "id": "9jRyF98sywLk",
        "colab_type": "code",
        "outputId": "62f707fe-935b-44f1-9653-9b7dcbebd313",
        "colab": {
          "base_uri": "https://localhost:8080/",
          "height": 969
        }
      },
      "source": [
        "print(\"\\nYear:\")\n",
        "print(dfufo.Date_time.dt.year.head())\n",
        "print(\"\\nMonth:\")\n",
        "print(dfufo.Date_time.dt.month.head())\n",
        "print(\"\\nDay:\")\n",
        "print(dfufo.Date_time.dt.day.head())\n",
        "print(\"\\nHour:\")\n",
        "print(dfufo.Date_time.dt.hour.head())\n",
        "print(\"\\nMinute:\")\n",
        "print(dfufo.Date_time.dt.minute.head())\n",
        "print(\"\\nSecond:\")\n",
        "print(dfufo.Date_time.dt.second.head())\n",
        "print(\"\\nWeekday:\")\n",
        "print(dfufo.Date_time.dt.weekday_name.head())"
      ],
      "execution_count": 133,
      "outputs": [
        {
          "output_type": "stream",
          "text": [
            "\n",
            "Year:\n",
            "0    1910\n",
            "1    1920\n",
            "2    1929\n",
            "3    1931\n",
            "4    1939\n",
            "Name: Date_time, dtype: int64\n",
            "\n",
            "Month:\n",
            "0    6\n",
            "1    6\n",
            "2    7\n",
            "3    6\n",
            "4    6\n",
            "Name: Date_time, dtype: int64\n",
            "\n",
            "Day:\n",
            "0     1\n",
            "1    11\n",
            "2     5\n",
            "3     1\n",
            "4     1\n",
            "Name: Date_time, dtype: int64\n",
            "\n",
            "Hour:\n",
            "0    15\n",
            "1    21\n",
            "2    14\n",
            "3    13\n",
            "4    20\n",
            "Name: Date_time, dtype: int64\n",
            "\n",
            "Minute:\n",
            "0    0\n",
            "1    0\n",
            "2    0\n",
            "3    0\n",
            "4    0\n",
            "Name: Date_time, dtype: int64\n",
            "\n",
            "Second:\n",
            "0    0\n",
            "1    0\n",
            "2    0\n",
            "3    0\n",
            "4    0\n",
            "Name: Date_time, dtype: int64\n",
            "\n",
            "Weekday:\n",
            "0    Wednesday\n",
            "1       Friday\n",
            "2       Friday\n",
            "3       Monday\n",
            "4     Thursday\n",
            "Name: Date_time, dtype: object\n"
          ],
          "name": "stdout"
        }
      ]
    },
    {
      "cell_type": "markdown",
      "metadata": {
        "id": "lBDY1Pg1ywUI",
        "colab_type": "text"
      },
      "source": [
        "Q133. Write a pandas program to count year-country wise frequency of reporting dates of the unidentified flying object(UFO)."
      ]
    },
    {
      "cell_type": "code",
      "metadata": {
        "id": "bcBrGJnbzC26",
        "colab_type": "code",
        "outputId": "79fa5742-54e6-4d35-8d87-d045d1e3bd66",
        "colab": {
          "base_uri": "https://localhost:8080/",
          "height": 1000
        }
      },
      "source": [
        "dfufo['Year'] = dfufo['Date_time'].apply(lambda x: \"%d\" % (x.year))\n",
        "result = dfufo.groupby(['Year', 'country']).size()\n",
        "print(\"\\nCountry-year wise frequency of reporting dates of UFO:\")\n",
        "print(result)"
      ],
      "execution_count": 134,
      "outputs": [
        {
          "output_type": "stream",
          "text": [
            "\n",
            "Country-year wise frequency of reporting dates of UFO:\n",
            "Year  country\n",
            "1910  us          1\n",
            "1920  us          1\n",
            "1929  us          1\n",
            "1931  us          1\n",
            "1939  us          2\n",
            "1941  us          1\n",
            "1942  us          1\n",
            "1944  us          3\n",
            "1945  us          4\n",
            "1946  us          3\n",
            "1947  us          4\n",
            "1948  us          3\n",
            "1949  us          4\n",
            "1950  us          4\n",
            "1951  ca          1\n",
            "      us          3\n",
            "1952  us          4\n",
            "1953  us          4\n",
            "1954  us          4\n",
            "1955  us          4\n",
            "1956  us          4\n",
            "1957  us          4\n",
            "1958  us          4\n",
            "1959  us          4\n",
            "1960  us          4\n",
            "1961  us          4\n",
            "1962  us          4\n",
            "1963  us          4\n",
            "1964  us          4\n",
            "1965  us          4\n",
            "1966  us          4\n",
            "1967  us          4\n",
            "1968  us          4\n",
            "1969  us          4\n",
            "1970  us          4\n",
            "1971  ca          1\n",
            "      us          3\n",
            "1972  us          4\n",
            "1973  us          4\n",
            "1974  us          4\n",
            "1975  us          4\n",
            "1976  us          4\n",
            "1977  us          4\n",
            "1978  us          4\n",
            "1979  us          4\n",
            "1980  us          4\n",
            "1981  us          4\n",
            "1982  us          4\n",
            "1983  us          4\n",
            "1984  us          4\n",
            "1985  us          4\n",
            "1986  us          4\n",
            "1987  us          4\n",
            "1988  us          4\n",
            "1989  ca          1\n",
            "      us          3\n",
            "1990  us          4\n",
            "1991  us          4\n",
            "1992  us          8\n",
            "1993  ca          1\n",
            "      us         11\n",
            "1994  ca          1\n",
            "      us         10\n",
            "1995  ca          1\n",
            "      us         11\n",
            "1996  us         12\n",
            "1997  ca          1\n",
            "      us         13\n",
            "1998  us         13\n",
            "1999  us         11\n",
            "2000  ca          1\n",
            "      us         11\n",
            "2001  ca          1\n",
            "      us         14\n",
            "2002  ca          1\n",
            "      us         13\n",
            "2003  us          9\n",
            "2004  ca          1\n",
            "      us          6\n",
            "dtype: int64\n"
          ],
          "name": "stdout"
        }
      ]
    },
    {
      "cell_type": "markdown",
      "metadata": {
        "id": "3TCOz8jdzC9u",
        "colab_type": "text"
      },
      "source": [
        "Q134. Write a pandas program to get the difference (in days) between documented date and reporting date of unidentified flying object (UFO)."
      ]
    },
    {
      "cell_type": "code",
      "metadata": {
        "id": "SvUkXx-XzDHh",
        "colab_type": "code",
        "outputId": "32297af8-0f99-4165-9b8d-37d8080396f1",
        "colab": {
          "base_uri": "https://localhost:8080/",
          "height": 1000
        }
      },
      "source": [
        "dfufo['date_documented'] = dfufo['date_documented'].astype('datetime64[ns]')\n",
        "print(\"Original Dataframe:\")\n",
        "print(dfufo.head())\n",
        "print(\"\\nDifference (in days) between documented date and reporting date of UFO:\")\n",
        "dfufo['Difference'] = (dfufo['date_documented'] - dfufo['Date_time']).dt.days\n",
        "print(dfufo)"
      ],
      "execution_count": 135,
      "outputs": [
        {
          "output_type": "stream",
          "text": [
            "Original Dataframe:\n",
            "            Date_time                  city state/province country UFO_shape  length_of_encounter_seconds described_duration_of_encounter                                        description date_documented   latitude   longitude  Year\n",
            "0 1910-06-01 15:00:00           wills point             tx      us     cigar                          120                       2 minutes       Cigar shaped object moving from West to East      2005-04-16  32.709167  -96.008056  1910\n",
            "1 1920-06-11 21:00:00                cicero             in      us   unknown                           60                        1 minute  ((NUFORC Note:  Probable hoax.  Note date.  PD...      2009-05-12  40.123889  -86.013333  1920\n",
            "2 1929-07-05 14:00:00  buchanan  (or burns)             or      us      disk                           60                            1min  we were traveling east of burns&#44clmbing up ...      2002-08-16  43.642500 -118.627500  1929\n",
            "3 1931-06-01 13:00:00               abilene             ks      us      disk                         1800                 30 min. approx.  This is a what my mother related to me regardi...      2006-02-14  38.917222  -97.213611  1931\n",
            "4 1939-06-01 20:00:00              waterloo             al      us  fireball                          300                       5 minutes  4 high school students see bright&#44 ground-l...      2014-02-21  34.918056  -88.064167  1939\n",
            "\n",
            "Difference (in days) between documented date and reporting date of UFO:\n",
            "              Date_time                            city state/province country  UFO_shape  length_of_encounter_seconds described_duration_of_encounter                                        description date_documented   latitude   longitude  Year  Difference\n",
            "0   1910-06-01 15:00:00                     wills point             tx      us      cigar                          120                       2 minutes       Cigar shaped object moving from West to East      2005-04-16  32.709167  -96.008056  1910       34652\n",
            "1   1920-06-11 21:00:00                          cicero             in      us    unknown                           60                        1 minute  ((NUFORC Note:  Probable hoax.  Note date.  PD...      2009-05-12  40.123889  -86.013333  1920       32476\n",
            "2   1929-07-05 14:00:00            buchanan  (or burns)             or      us       disk                           60                            1min  we were traveling east of burns&#44clmbing up ...      2002-08-16  43.642500 -118.627500  1929       26704\n",
            "3   1931-06-01 13:00:00                         abilene             ks      us       disk                         1800                 30 min. approx.  This is a what my mother related to me regardi...      2006-02-14  38.917222  -97.213611  1931       27286\n",
            "4   1939-06-01 20:00:00                        waterloo             al      us   fireball                          300                       5 minutes  4 high school students see bright&#44 ground-l...      2014-02-21  34.918056  -88.064167  1939       27293\n",
            "5   1939-07-07 02:00:00                          keokuk             ia      us       oval                          600                      10 minutes     Mother sees UFO above railroad tracks in 1939.      2005-09-02  40.397222  -91.384722  1939       24163\n",
            "6   1941-06-01 13:00:00         ludington (hamlin lake)             mi      us       disk                           30                      30 seconds  As a boy some 60 plus years ago I saw a round ...      2003-10-07  43.955278  -86.452500  1941       22772\n",
            "7   1942-06-01 22:30:00                       hapeville             ga      us    unknown                          180                         2-3 min       bright object approchjng Venus&#44 1940&#39s      2007-08-07  33.660000  -84.410278  1942       23807\n",
            "8   1944-01-01 12:00:00                       san diego             ca      us      cigar                          180                       3 minutes  A sighting of one silver or white enlongated c...      2004-07-25  32.715278 -117.156389  1944       22120\n",
            "9   1944-06-01 12:00:00                      los alamos             nm      us       disk                         3600                         1+ hour  Disk hovers over Los Alamos during the develop...      2009-05-12  35.888056 -106.306389  1944       23720\n",
            "10  1944-04-02 11:00:00                          clovis             nm      us       disk                           90                           01:30  Saw UFO in 1944 over an airbase in New Mexico&...      2005-04-16  34.404722 -103.204722  1944       22293\n",
            "11  1945-06-01 13:30:00                          jasper             fl      us   fireball                          300                         5minute  I belived it would be to our best Intrest to c...      2010-11-21  30.518056  -82.948333  1945       23913\n",
            "12  1945-06-07 07:00:00                   winston-salem             nc      us       disk                            2                         seconds  I always thought this sighting should be on an...      2005-09-02  36.099722  -80.244444  1945       22001\n",
            "13  1945-08-08 12:00:00                huntington beach             ca      us       disk                          300                       5 minutes  MY DAD SAYS HIS AUNT AND UNCLE SAW THIS CRAFT ...      2004-01-17  33.660278 -117.998333  1945       21345\n",
            "14  1945-07-10 01:30:00                      portsmouth             va      us  formation                          180                           3 min  1945  RED  FLICKERING  V FORMATION  CRAFTS  MO...      2003-11-26  36.835278  -76.298611  1945       21322\n",
            "15  1946-02-01 17:00:00                          merced             ca      us     sphere                           10                      10 seconds  Three luminescent chartreusse spheres moving &...      2005-10-11  37.302222 -120.481944  1946       21801\n",
            "16  1946-07-01 13:30:00                  south portland             me      us       oval                           10                  10 seconds +/-  motionless&#44 dark oblong&#44 noon sky over o...      2008-06-12  43.641389  -70.241389  1946       22626\n",
            "17  1946-01-08 02:00:00        new york city (brooklyn)             ny      us       disk                          300                           5 min  Huge round silver disk hovering over neighbors...      2008-03-04  40.714167  -74.006389  1946       22700\n",
            "18  1947-06-01 02:30:00                       cleveland             oh      us      light                          300               about three hours  It was about 2:15 in the morning when my wife ...      2001-04-28  41.499444  -81.695556  1947       19689\n",
            "19  1947-06-01 17:00:00           espanola (outside of)             nm      us     circle                          300                       5 minutes     Saucer shaped object  about  ten feet in diam.      2013-08-30  35.991111 -106.080000  1947       24196\n",
            "20  1947-07-01 20:00:00                        cashmere             wa      us  formation                          120                       2 minutes  THE SIGHTING.&#9;It was a clear&#44 summer&#82...      2005-04-16  47.522500 -120.468611  1947       21108\n",
            "21  1947-07-01 20:00:00                         maywood             ca      us       disk                          120                      2  minutes  1947 UFO sighting Date: ? sometime in early su...      2005-04-16  33.986667 -118.184444  1947       21108\n",
            "22  1948-08-01 02:00:00        new york city (brooklyn)             ny      us     circle                          600                      10 minutes  A round overing craft over neighbors roof&#44 ...      2005-09-15  40.714167  -74.006389  1948       20863\n",
            "23  1948-05-10 19:00:00                          scipio             in      us     sphere                           10                      10 seconds  Round red glowing ball going west in Northern ...      2005-04-16  39.079167  -85.717500  1948       20794\n",
            "24  1948-12-12 23:30:00                      sharpsburg             md      us     circle                          180                       3 minutes  Small UFO at 100&#39&#44  airspeed less than 2...      2009-03-19  39.457500  -77.749167  1948       22011\n",
            "25  1949-05-01 14:00:00               oak ridge (drive)             wv      us      other                           40                       40seconds  log shape whooshing object observed near charl...      2002-03-19  38.075000  -81.109722  1949       19314\n",
            "26  1949-07-01 11:00:00                       fairbanks             ak      us       disk                          120                       2 minutes     Enormous metallic disc in Alaska sky&#44 1949.      2013-12-23  64.837778 -147.716389  1949       23550\n",
            "27  1949-07-01 16:00:00                          marion             al      us  formation                           60                  under 1 minute  GEORGIA UFO GROUP Report/Tom Sheets:  Witness ...      2004-08-24  32.632222  -87.319167  1949       20142\n",
            "28  1949-04-10 15:00:00                         seattle             wa      us       disk                          600                     ten minutes                        UFO Hovers over Seattle sky      2004-04-27  47.606389 -122.330833  1949       20105\n",
            "29  1950-06-01 16:00:00                    philadelphia             ms      us       disk                          600             ten minutes or less  Childhood sighting of disk witnessed by mother...      2008-03-12  32.771389  -89.116667  1950       21103\n",
            "30  1950-06-01 20:00:00                      pittsburgh             pa      us       oval                         1500                   20/25 minutes  One larger white object &amp; 2 smaller round ...      2006-02-14  40.440556  -79.996111  1950       20346\n",
            "31  1950-08-01 04:00:00                      louisville             ky      us      other                           60                        1 minute  In 1953&#44 at the age of 3 years old I was Co...      2011-10-19  38.254167  -85.759444  1950       22358\n",
            "32  1950-10-01 11:00:00                       pikeville             ky      us       disk                          600                              hr        SEVENTY SOME  FLYING DISK OBSERVED IN  1950      2005-04-16  37.479167  -82.518889  1950       19920\n",
            "33  1951-06-01 07:00:00                brandon (canada)             mb      ca       disk                         1800                      30 minutes  Circular Craft and Man in Black Sighted in Sum...      2001-02-18  49.833333  -99.950000  1951       18159\n",
            "34  1951-07-01 03:00:00                   otis orchards             wa      us       disk                          120                      ~2 minutes  Cigar shaped Disc darting back and forth (East...      2013-12-23  47.700556 -117.105278  1951       22820\n",
            "35  1951-02-03 22:00:00                   thompsonville             ct      us       disk                           30                      30 seconds  A golden-orange glowing bowl&#44 flat on top&#...      2004-07-25  41.996944  -72.599444  1951       19530\n",
            "36  1951-06-03 13:00:00                          jasper             nc      us       oval                          300                       5 minutes  MIDDAY OVAL SHAPE&#44 ANITQUE COLOR OBJECT SIT...      2005-06-20  35.201389  -77.206944  1951       19740\n",
            "37  1952-07-01 15:00:00                          sebeka             mn      us      other                         1800                          30 min  Silver donut shape object sighted over rural M...      2011-12-12  46.630000  -95.088611  1952       21712\n",
            "38  1952-07-01 22:00:00                         detroit             mi      us     sphere                          300                       5 minutes  object sits stationary for 5 minutes and then ...      2003-10-31  42.331389  -83.045833  1952       18748\n",
            "39  1952-08-01 21:30:00                           tampa             fl      us       oval                         9000                  2 hrs. 30 min.  Triangulation radar fix (USAF&#44 civil&#44 Na...      2000-12-02  27.947222  -82.458611  1952       17654\n",
            "40  1952-10-01 12:00:00                     kansas city             mo      us       disk                           90                         90 sec.  1952 daylight sighting of multiple discs in fo...      2008-10-31  39.099722  -94.578333  1952       20483\n",
            "41  1953-04-01 15:00:00                       haverhill             ma      us    chevron                            2                         seconds                Historical account&#44 Haverhill MA      2005-09-02  42.776111  -71.077778  1953       19146\n",
            "42  1953-04-01 18:00:00                       cambridge             ma      us     sphere                          180                       3 minutes  Two red-orange lights skirted Boston rooftops ...      2013-07-14  42.375000  -71.106111  1953       22018\n",
            "43  1953-07-01 05:30:00   colorado springs (mtsn nw of)             co      us       disk                           10                      10 seconds  Absolutely huge UFO hovered 40 feet above hous...      2004-07-25  38.833889 -104.820833  1953       18651\n",
            "44  1953-08-01 12:00:00                        berkeley             mo      us   fireball                          300                       5 minutes    Early 50&#39s sighting in Berkeley&#44 Missouri      2004-01-22  38.754444  -90.331111  1953       18435\n",
            "45  1954-02-01 02:00:00                       fairbanks             ak      us    unknown                         1140                         19 min.  RADAR INTERCEPT OF UFO BY USAF PILOT IN ALASKA...      2009-01-10  64.837778 -147.716389  1954       20066\n",
            "46  1954-06-01 00:00:00                         houston             tx      us       disk                          180                     2-3 minutes  I fulfilled my duty by passing on an unusual a...      2008-06-12  29.763056  -95.363056  1954       19735\n",
            "47  1954-06-01 06:00:00                            ovid             ny      us       disk                          600                         10 min.  I saw two silver/gray objects of different sha...      2001-12-05  42.676389  -76.823333  1954       17353\n",
            "48  1954-06-01 08:00:00   springfield (rural area near)             il      us   cylinder                          600                      5-10 mins.  This happened many years ago when I was a chil...      2000-12-02  39.801667  -89.643611  1954       16985\n",
            "49  1955-05-01 15:00:00                        holbrook             ma      us        egg                           60                        1 minute  I turned around and over the trees was a large...      2005-04-16  42.155000  -71.009167  1955       18247\n",
            "50  1955-06-01 02:00:00                          bagley             mn      us     circle                         7200                         2 hours  I was 5 years old at the time&#44 family of 4 ...      1999-05-24  47.521667  -95.398056  1955       16062\n",
            "51  1955-06-01 15:29:00                      cincinnati             oh      us       disk                          120               approx. 1-1/2 min  June 1955.  Bronze saucer/cylindrical craft; a...      2003-06-18  39.161944  -84.456944  1955       17548\n",
            "52  1955-06-01 17:00:00            martinez (outskirts)             ca      us     circle                         1800                      30 minutes  We observed a large object aprox.size &quot;fo...      2000-02-16  38.019444 -122.133056  1955       16330\n",
            "53  1956-01-01 05:30:00                         weirton             wv      us       disk                           10                      10 seconds  My Uncle Sam was driving to work very early on...      2000-01-07  40.418889  -80.589722  1956       16076\n",
            "54  1956-03-01 13:00:00                        petaluma             ca      us       oval                         1800                      30 minutes  Objects were several thousand feet in altitude...      1999-01-28  38.232500 -122.635556  1956       15672\n",
            "55  1956-05-01 12:00:00                          canton             oh      us      cigar                          120                       2 minutes  At first the silver disc was stationary. As it...      2005-09-15  40.798889  -81.378611  1956       18033\n",
            "56  1956-06-01 19:00:00                          belton             mo      us      other                          600                          10min.  THE EVENT WAS A PERSONAL CONTACT WITH AN ALIEN...      1999-01-28  38.811944  -94.531667  1956       15580\n",
            "57  1957-01-01 21:00:00                          dallas             tx      us    unknown                           20                      20 seconds  I was flying the first of 4 USAF aircraft on a...      2004-08-24  32.783333  -96.800000  1957       17401\n",
            "58  1957-05-01 12:00:00                          canton             oh      us      cigar                          180                       3 minutes  Cigar shaped object is motionless for more tha...      2004-04-27  40.798889  -81.378611  1957       17162\n",
            "59  1957-06-01 10:00:00                         el paso             tx      us       disk                            7                  5 to 7 seconds  The UFO did not make any sounds.  The craft&#3...      2002-07-26  31.758611 -106.486389  1957       16490\n",
            "60  1957-06-01 20:00:00                     glens falls             ny      us       disk                          240                         3or4min  there was no mistakeing what i was looking at ...      2000-12-02  43.309444  -73.644444  1957       15889\n",
            "61  1958-01-01 22:00:00                             pep             tx      us   fireball                            2                            2sec  Green fire balls&#44 Texas Panhandle&#44 late ...      2009-12-12  33.816111 -102.557778  1958       18972\n",
            "62  1958-06-01 02:00:00                       middlesex             nc      us     circle                         3600                          1 hour                               white glowing lights      2006-03-11  35.790000  -78.204167  1958       17449\n",
            "63  1958-06-01 19:00:00                   san francisco             ca      us       oval                          120                       2 minutes  A low flying huge silver flying saucer positio...      2003-10-31  37.775000 -122.418333  1958       16587\n",
            "64  1958-06-01 21:00:00           new york city (bronx)             ny      us       oval                           10                      10 seconds  7 brightly illuminated elliptical discs racing...      2005-04-16  40.714167  -74.006389  1958       17120\n",
            "65  1959-04-01 01:00:00                           miami             fl      us     sphere                         2700                   30-45 minutes  1959 childhood encounter with a spherical&#44 ...      2008-02-14  25.773889  -80.193889  1959       17850\n",
            "66  1959-05-01 18:30:00                        columbus             oh      us      light                          180                         2-3 min  Red-orange lights over seen motionless over Lo...      2002-02-22  39.961111  -82.998889  1959       15637\n",
            "67  1959-06-01 12:00:00                          orange             ct      us   cylinder                         3600                         1 hour?  Sighted craft and transport of object to the g...      2009-03-19  41.278333  -73.026111  1959       18188\n",
            "68  1959-06-01 18:30:00                          sidney             oh      us      light                          300                       5 minutes  Saw a bright light shining down.  Pulled over ...      2007-04-27  40.284167  -84.155556  1959       17496\n",
            "69  1960-02-01 22:15:00                        st. paul             mn      us      cigar                            3                       3 seconds  A cigar-shaped UFO glided down towards the ear...      2000-03-16  44.944444  -93.093056  1960       14653\n",
            "70  1960-02-01 23:00:00                        hartwell             ga      us      cigar                           45         approx 30 to 45 seconds  My father explained an event of a large cigar-...      2005-04-16  34.352778  -82.932222  1960       16510\n",
            "71  1960-04-01 21:00:00                         houston             tx      us      other                          300                      <5 minutes  Sharp right angle turn in flight direction aft...      2003-12-19  29.763056  -95.363056  1960       15966\n",
            "72  1960-05-01 20:00:00                          tucson             az      us      light                          300                     4-5 minutes  Lights only&#44 no sound&#44 moving across the...      2005-09-02  32.221667 -110.925833  1960       16559\n",
            "73  1961-01-01 12:00:00                     santa clara             ca      us     circle                        10800                         3 hours         Stationary circular object 12 oclock high.      2004-01-17  37.354167 -121.954167  1961       15720\n",
            "74  1961-01-01 13:00:00                    kendallville             in      us     circle                           30                      30 seconds  It was a clear Indiana day and I saw something...      2007-10-08  41.441389  -85.265000  1961       17080\n",
            "75  1961-04-01 20:00:00                      shenandoah             pa      us      light                          120                     few minutes           UFOs spotted coming from behind the moon      2003-07-16  40.820278  -76.201111  1961       15445\n",
            "76  1961-05-01 22:00:00                          auburn             wa      us      cigar                          300                           5 min  Grandmother saw a cigar shaped craft which she...      2001-11-20  47.307500 -122.227222  1961       14812\n",
            "77  1962-01-01 08:00:00                        key west             fl      us     sphere                          300                  3 to 5 minutes  in the very early morning hours of 1962&#44 I ...      1998-03-07  24.555278  -81.782778  1962       13213\n",
            "78  1962-03-01 08:00:00                       snohomish             wa      us    diamond                         1500                      25 minutes  I saw a UFO shoot incredibly fast and straight...      2007-11-28  47.913056 -122.096944  1962       16707\n",
            "79  1962-06-01 00:00:00                    bartlesville             ok      us    unknown                          120                    minute or so  Childhood visitation 1962&#44 possible implant...      2012-07-04  36.747222  -95.980556  1962       18296\n",
            "80  1962-06-01 12:00:00                    ellwood city             pa      us       disk                           60                       1 minutes  came down never touched ground had mist like a...      1999-01-28  40.861667  -80.286667  1962       13389\n",
            "81  1963-01-01 22:00:00                   helena (near)             mt      us    diamond                         3600                          1 hour              Diamond shaped UFO blocks USAF runway      2012-02-10  46.592778 -112.035278  1963       17936\n",
            "82  1963-04-01 07:00:00                          tucson             az      us   triangle                          600                      10 minutes  Observed in western sky @ about 100 ft. flying...      1999-08-10  32.221667 -110.925833  1963       13279\n",
            "83  1963-06-01 00:00:00                           cocoa             fl      us    unknown                          900                        one hour  We are not alone&#44  I swear it before God Al...      2006-12-14  28.385833  -80.742222  1963       15902\n",
            "84  1963-06-01 02:00:00                st. louis county             mo      us      cigar                          300                   5 mins approx  Cigar shaped craft hovering over swimming pool...      2007-08-07  38.627222  -90.197778  1963       16137\n",
            "85  1964-05-01 22:00:00                      orangevale             ca      us      light                          300                    five minutes  Chased by a single light - Sacramento&#44 CA 1964      2004-06-18  38.678611 -121.224722  1964       14657\n",
            "86  1964-06-01 04:30:00                     haltom city             tx      us      light                          600                      10 minutes         Light beam travel across roof-tops...1964.      2007-02-01  32.799444  -97.268889  1964       15584\n",
            "87  1964-06-01 15:00:00                        sallisaw             ok      us      light                         1800                      30 minutes  &#39&#39ON ICE PROJECT&#39&#39 - UNDERGROUND C...      2011-05-12  35.460278  -94.787222  1964       17145\n",
            "88  1964-07-01 12:00:00                  laurel springs             nj      us      other                          300                     5 minutes ?  Large glowing rock&#44 covered the sky&#44 ver...      2003-09-28  39.820000  -75.006667  1964       14332\n",
            "89  1965-01-01 17:00:00                          mokena             il      us      light                           20                      20 seconds                         Light over Mokena Illinios      2010-11-21  41.526111  -87.889167  1965       16759\n",
            "90  1965-01-01 20:00:00                          conway             ar      us      light                         3600                          1 hour  At a drive-in during the summer my brother and...      1998-06-02  35.088611  -92.441944  1965       12204\n",
            "91  1965-01-01 20:00:00                      st. ansgar             ia      us   fireball                           20                      20 seconds                                 winter nite wonder      2007-02-01  43.378333  -92.918611  1965       15370\n",
            "92  1965-04-01 15:30:00                         schertz             tx      us       disk                           15                         15 secs  Flying Disk seen approx 150 ft above ground ne...      1999-01-28  29.551944  -98.269444  1965       12354\n",
            "93  1966-01-01 17:00:00                       flagstaff             az      us       disk                          600                      10 minutes  Spotted two black disk shaped objects flying o...      2001-01-03  35.198056 -111.650556  1966       12785\n",
            "94  1966-02-01 01:00:00                        randolph             oh      us       oval                           10             five to ten seconds  extremely fast UFO stopping dead still in mid ...      2008-08-12  41.032778  -81.248611  1966       15532\n",
            "95  1966-04-01 19:00:00                        richmond             mo      us       disk                         3600                          1 hour  Four Teenagers Site UFO on Country Road near R...      2000-12-02  39.278611  -93.976667  1966       12663\n",
            "96  1966-04-01 21:00:00                   new braintree             ma      us     circle                         1800                    ~ 30 minutes  A large red glowing &quot;plasma cloud&quot; a...      2001-04-01  42.316667  -72.126389  1966       12783\n",
            "97  1967-03-01 19:30:00                        whittier             ca      us       oval                            2                       2 seconds  Two observers witnessed 500-foot long oval cra...      2005-04-16  33.979167 -118.031944  1967       13925\n",
            "98  1967-04-01 00:00:00                        valdosta             ga      us       disk                          180                     2-3 minutes  The craft moved about in the sky just like a h...      2008-10-31  30.832500  -83.278611  1967       15189\n",
            "99  1967-04-01 17:45:00                       las vegas             nv      us      light                          120                       2 minutes  pulsating white round  light that changed betw...      2003-07-16  36.175000 -115.136389  1967       13254\n",
            "100 1967-04-01 21:00:00                       homestead             fl      us    unknown                         7200                         2 hours  Red lights along the side&#44 white light in f...      2005-06-20  25.468333  -80.477778  1967       13959\n",
            "101 1968-01-01 00:00:00                      burlington             nj      us     circle                         1200                           20min  New Years night in the late 60&#39s I&#44 my f...      2009-03-19  40.071111  -74.865278  1968       15053\n",
            "102 1968-01-01 00:00:00                        lawndale             ca      us     circle                           60                        1 minute                                Craft with a portal      2009-12-12  33.887222 -118.351667  1968       15321\n",
            "103 1968-01-01 21:00:00                     west monroe             la      us      light                         1200                      20 minutes  On the way into town&#44 a light appeared over...      1999-07-05  32.509167  -92.119167  1968       11507\n",
            "104 1968-01-01 23:00:00                         wheaton             md      us     circle                           60                        1 minute  Woke up by loud noise&#44 parents said to come...      2013-11-11  39.039722  -77.055556  1968       16750\n",
            "105 1969-01-01 20:00:00                     farmerville             la      us      other                          120                       2 minutes  Five bright white&#44 small balls jumped out o...      1999-07-05  32.773333  -92.405556  1969       11141\n",
            "106 1969-03-01 00:00:00                           omaha             ne      us       oval                           30                  thirty seconds  Football shaped glowing orange light drifts st...      2011-12-12  41.258611  -95.937500  1969       15626\n",
            "107 1969-03-01 15:00:00                        oak lawn             il      us       disk                         1800                          30 min  2 Large UFOs seen by my brother and his drivin...      2005-01-19  41.710833  -87.758056  1969       13107\n",
            "108 1969-03-01 21:00:00                     perth amboy             nj      us      light                          120                       2 minutes  While observing Venus through telescopes&#44 m...      2005-06-20  40.506667  -74.265833  1969       13259\n",
            "109 1970-01-01 02:00:00                          joplin             mo      us    unknown                         1800                          30 min            Large object moved slowly over the city      2010-07-06  37.084167  -94.513056  1970       14795\n",
            "110 1970-01-01 12:00:00                    grand rapids             mi      us       disk                         1800                      30 minutes  Low flying&#44 zig-zagging disc with lights in...      2003-11-11  42.963333  -85.668056  1970       12366\n",
            "111 1970-05-01 00:00:00           new york city (bronx)             ny      us      other                          300                       5 minutes  Bronx&#44 NY : It was a  solid silver -colored...      2004-01-17  40.714167  -74.006389  1970       12314\n",
            "112 1970-05-01 00:00:00        new york city (p. s. 54)             ny      us      other                          180                       3 ninutes  I and scores of others witness a silver pyrami...      2004-01-17  40.714167  -74.006389  1970       12314\n",
            "113 1971-01-01 01:00:00          niagara falls (canada)             on      ca       oval                          300                          5 min.  In van driving home. Van stalled beside Winery...      2000-12-02  43.100000  -79.050000  1971       10927\n",
            "114 1971-02-01 18:30:00                    waverly hall             ga      us     circle                         3000                   45-50 minutes  saw bright circular object almosr directly ove...      1998-06-18  32.683333  -84.738333  1971        9998\n",
            "115 1971-02-01 19:00:00                          gorham             nh      us      light                          300                       5 minutes  Bright lite seen moving eraticaly over mountai...      2005-09-02  44.387778  -71.173611  1971       12631\n",
            "116 1971-04-01 21:00:00                   boulder creek             ca      us      cigar                         1200                           20min  I saw the craft slowly and silently gliding al...      2004-01-22  37.126111 -122.121111  1971       11983\n",
            "117 1972-01-01 16:00:00                         seattle             wa      us   triangle                           30                         30 sec.  Man reports sighting in l972 or 1973.  Heard w...      1999-11-02  47.606389 -122.330833  1972       10166\n",
            "118 1972-01-01 20:00:00                      huntsville             al      us    unknown                          120                       2 minutes  3 lights&#44 light speed&#44 no sound&#44 90 d...      2005-04-16  34.730278  -86.586111  1972       12158\n",
            "119 1972-03-01 23:30:00                         salinas             ca      us      cigar                          180                      2 - 3 min.  Huge object. At least 2 football fields long. ...      1999-04-02  36.677778 -121.654444  1972        9892\n",
            "120 1972-04-01 19:00:00                    indianapolis             in      us       disk                         3600                   1 hour aprox.  Indianapolis Multi-Colored Round object 1972-7...      2011-05-02  39.768333  -86.158056  1972       14274\n",
            "121 1973-01-01 23:30:00                     chattanooga             tn      us       oval                           30                         30 sec.  3 objects in a tri-angle formation also in sta...      1999-12-16  35.045556  -85.309722  1973        9844\n",
            "122 1973-02-01 22:00:00                        honolulu             hi      us     sphere                          300                       5 minutes  I was standing on the shore looking out toward...      2008-10-31  21.306944 -157.858333  1973       13055\n",
            "123 1973-02-01 23:00:00                    port sulphur             la      us     circle                            3                       3 seconds                               Drag Racing UFO&#39s      2004-10-27  29.480278  -89.693889  1973       11590\n",
            "124 1973-03-01 01:00:00  santa fe (near&#44 on highway)             nm      us    unknown                          600                      10 minutes  I had an Out of Body experience while driving ...      2004-02-12  35.686944 -105.937222  1973       11304\n",
            "125 1974-01-01 01:00:00                            kent             wa      us      cigar                          300                        5:00 min  Cigar shaped with distint window shapes the wi...      1999-01-28  47.381111 -122.233611  1974        9157\n",
            "126 1974-04-01 07:30:00                          aurora             co      us   changing                            5                       5 seconds  Ever changing Object sighted&#44 Aurora&#44 Co...      2009-03-19  39.729444 -104.831389  1974       12770\n",
            "127 1974-05-01 17:00:00                        franklin             ky      us       oval                          300                       5 minutes                                         Round Disk      2013-02-18  36.722222  -86.577222  1974       14172\n",
            "128 1974-06-01 00:00:00                       bardstown             ky      us       disk                          600                    5-1o minutes  yellowish gold saucer with lights hovering ove...      2009-08-05  37.809167  -85.466944  1974       12849\n",
            "129 1975-01-01 03:00:00                       jamestown             ny      us     sphere                          120                   a few minutes  I was 13-15.  I was in my parent house on Moon...      1998-03-07  42.096944  -79.235556  1975        8465\n",
            "130 1975-01-01 12:00:00                         phoenix             az      us       disk                          300                       5 minutes      Saucer sighting in 1970s near Phoenix&#44 AZ.      2009-03-19  33.448333 -112.073333  1975       12495\n",
            "131 1975-01-01 19:00:00                    waverly hall             ga      us     sphere                          600                      5 - 10 min                                    Hovering Sphere      2003-11-26  32.683333  -84.738333  1975       10555\n",
            "132 1975-01-01 20:00:00                          denver             co      us       disk                          180                       3 minutes  Flying saucer seen by 100 people at drive-in t...      2002-12-23  39.739167 -104.984167  1975       10217\n",
            "133 1976-05-01 12:00:00                      st. thomas             pa      us    diamond                          120                  couple minutes                 2 craft seen for a couple minutes.      2005-07-05  39.917500  -77.798056  1976       10656\n",
            "134 1976-05-01 20:00:00                        coventry             ri      us  formation                          180                            3min      red orbs &#39dancing&#39 around a central orb      2004-06-18  41.700000  -71.683333  1976       10274\n",
            "135 1976-05-01 22:00:00                        lakewood             co      us   triangle                          420                         5-7 min  lighte object over lakewood Colorado. event  l...      2007-11-28  39.704722 -105.080833  1976       11532\n",
            "136 1976-05-01 23:00:00                           miami             fl      us     sphere                         2400                      40 minutes  Orange sphere with alternating sound&#44 30 fe...      2006-10-30  25.773889  -80.193889  1976       11138\n",
            "137 1977-01-01 12:00:00                      great neck             ny      us   cylinder                         1800                      30 minutes  When I was a child&#44 I witnessed shiney gold...      2007-02-01  40.800556  -73.728889  1977       10987\n",
            "138 1977-01-01 19:30:00       new york city (manhattan)             ny      us     sphere                           60                   30-60 seconds  A small gray ball moved past my bedroom window...      2005-09-02  40.714167  -74.006389  1977       10470\n",
            "139 1977-01-01 20:00:00                    la crescenta             ca      us  formation                        10800                    2 to 3 hours                   Triangle formation in foothills.      2007-11-28  34.224167 -118.239167  1977       11287\n",
            "140 1977-01-01 20:00:00                     westminster             ca      us       disk                          300                       5 minutes  There were two ships&#44 saucer shaped&#44 sil...      2010-02-14  33.759167 -118.005833  1977       12096\n",
            "141 1978-01-01 01:00:00                       june lake             ca      us       disk                          900                          15 min                seen flying saucers at june lake ca      2006-02-14  37.779722 -119.074444  1978       10270\n",
            "142 1978-01-01 13:00:00                           sagle             id      us     sphere                           20                      20 seconds  Hovering gray&#44 grapefruit size&#44 shaped s...      2007-10-08  48.202500 -116.546667  1978       10871\n",
            "143 1978-02-01 22:00:00                          dublin             nh      us   triangle                         1200                       15-20 min  I was with five friends at prep school in Dubl...      2000-12-09  42.907500  -72.063056  1978        8346\n",
            "144 1978-03-01 17:00:00                       los gatos             ca      us       oval                           60                 1 min / approx.  Large elipsoid object (greenish hugh) hovering...      1999-01-28  37.226667 -121.973611  1978        7637\n",
            "145 1979-01-01 17:00:00                          orange             ca      us       disk                         1200                      20 minutes  In Broad daylight saucer appeared 50 feet abov...      2005-09-15  33.787778 -117.852222  1979        9753\n",
            "146 1979-01-01 20:00:00                   redondo beach             ca      us       disk                           15                         15 sec.  Low-altitude disk flying slowly; red lights ar...      2000-02-23  33.849167 -118.387500  1979        7722\n",
            "147 1979-02-01 02:30:00                  lake arrowhead             ca      us     circle                          180                           3 min  My husband&#44 3 children&#44 and I moved to L...      2005-04-16  34.248333 -117.188333  1979        9570\n",
            "148 1979-03-01 04:00:00                         medford             or      us    unknown                          300                           5 min  While in flight landing at Medford from Klamma...      1998-09-26  42.326667 -122.874444  1979        7148\n",
            "149 1980-01-01 01:00:00                    indianapolis             in      us      light                          420                       7 minutes  Very bright green light without sound moved ov...      2007-06-12  39.768333  -86.158056  1980       10023\n",
            "150 1980-01-01 23:30:00                        chicopee             ma      us    diamond                          300                       5 minutes  I heard a noise like thunder&#44 went to the k...      2000-02-16  42.148611  -72.608333  1980        7350\n",
            "151 1980-03-01 00:30:00                          oxford             ct      us      cigar                          120                       2 minutes              Large Cigar shaped object very close.      2004-07-25  41.433889  -73.117222  1980        8911\n",
            "152 1980-03-01 18:00:00                          bisbee             az      us      other                         1800                      30 minutes  Large&#44 nearby&#44 stationary&#44 metallic&#...      2003-10-07  31.448056 -109.927778  1980        8619\n",
            "153 1981-01-01 00:01:00                        el cajon             ca      us     sphere                         1800                       30 minute  My husband and I were at home just bringing in...      2004-01-22  32.794722 -116.961667  1981        8420\n",
            "154 1981-01-01 01:00:00                         el reno             ok      us       disk                         1800                         30 mins                       New Years 1981 Crashing Disc      2002-01-11  35.532222  -97.954722  1981        7679\n",
            "155 1981-03-01 17:45:00                   mckinleyville             ca      us      other                           20                        00:00:20  Large (house-sized)&#44 slow moving (45-60 mph...      2012-12-20  40.946667 -124.099444  1981       11616\n",
            "156 1981-03-01 22:00:00                        campbell             ca      us      cigar                          180                       3 minutes  Multiple sighting in Campbell CA of spacecraft...      2006-03-11  37.287222 -121.948889  1981        9140\n",
            "157 1982-01-01 20:00:00                   orange county             nc      us     circle                          900                      15 minutes                       this was no helicopter squad      2002-12-23  35.129444  -78.522500  1982        7660\n",
            "158 1982-05-01 20:00:00                      piscataway             nj      us       disk                          900                      15 minutes  In May 1982&#44 I had a close up day light sig...      2007-03-08  40.499167  -74.399444  1982        9076\n",
            "159 1982-06-01 00:00:00                         oakland             md      us      light                           60                        1 minute  Bright light in woods moves toward witness; wi...      2006-05-15  39.407778  -79.406944  1982        8749\n",
            "160 1982-06-01 01:00:00                         hershey             pa      us       oval                           30                      30 seconds                     Sleath Blimp sighted in Pa&#44      2006-10-30  40.285833  -76.650556  1982        8916\n",
            "161 1983-03-01 19:00:00                       sandpoint             id      us       disk                          180                       3 minutes  Outside in our front yard&#44 we heard a craft...      2001-04-28  48.276667 -116.552222  1983        6632\n",
            "162 1983-03-01 20:00:00                     o&#39fallon             il      us       disk                          180                  2 or 3 minutes  Disk seen hovering over residential area in O&...      2008-10-31  38.592222  -89.911111  1983        9375\n",
            "163 1983-05-01 17:30:00               north kansas city             mo      us      other                          120                       2 minutes                        Something Above Us that Day      2011-12-12  39.130000  -94.561944  1983       10451\n",
            "164 1983-05-01 19:00:00       washington county (rural)             ms      us    diamond                         7200                         2 hours  Diamond shaped craft sighting followed by miss...      2009-03-19  31.578611  -91.299167  1983        9453\n",
            "165 1984-03-01 22:00:00                          eugene             or      us   triangle                          600                      10 minutes  Large Black colored triangle shaped ship. Euge...      2002-07-26  44.052222 -123.085556  1984        6720\n",
            "166 1984-05-01 18:00:00                          joliet             il      us     circle                          180                       3 minutes  Driving with Mom and saw a grey disk hovering ...      2007-08-07  41.525000  -88.081667  1984        8497\n",
            "167 1984-05-01 19:00:00             glen rose (malvern)             ar      us   triangle                         1200                    20 minutes ?  This happened some years ago: I had taken my d...      2005-05-11  34.455556  -92.729444  1984        7679\n",
            "168 1984-05-01 20:00:00                      burnsville             mn      us  rectangle                          300                         5 mins.  Enormous Rectangle object with rows of red and...      2009-06-09  44.767778  -93.277500  1984        9169\n",
            "169 1985-01-01 01:00:00                           holly             mi      us      other                          900                           15min  group of lihtts two circled real fast then the...      2006-03-11  42.791944  -83.627778  1985        7738\n",
            "170 1985-01-01 21:00:00                           largo             fl      us      other                          300                       5 minutes  Very large UFO&#44 irregular in shape&#44  glo...      2005-05-11  27.909167  -82.787500  1985        7434\n",
            "171 1985-02-01 22:30:00                        portland             or      us      light                          900                         15 mins  multiple points of light hovering? over the we...      2001-08-05  45.523611 -122.675000  1985        6028\n",
            "172 1985-03-01 20:30:00                         wichita             ks      us   triangle                            2                     1-2 seconds  I was lying on my pool deck when out of my per...      2000-02-23  37.692222  -97.337222  1985        5471\n",
            "173 1986-01-01 03:00:00                       crestwood             ky      us       oval                          180                     2-3 minutes  A faint beam of white light that seemed to com...      2004-04-27  38.324167  -85.472500  1986        6690\n",
            "174 1986-04-01 14:30:00                         chicago             il      us     sphere                           10                      10 seconds  SOCCER-SIZED CRYTAL-LIKE SPIKED BALL&#44 Easil...      2007-02-01  41.850000  -87.650000  1986        7610\n",
            "175 1986-04-01 22:00:00     red lodge (6 mi n; hwy 212)             mt      us    unknown                           90                         1.5 min  Definitely an aircraft but totally silent and ...      2002-01-11  45.185833 -109.246111  1986        5763\n",
            "176 1986-04-01 22:15:00                     brownsville             tx      us       disk                         1200                10 to 20 minutes                           UFO tries to communicate      2002-03-19  25.901389  -97.497222  1986        5830\n",
            "177 1987-01-01 00:00:00                   castro valley             ca      us       oval                           10                    9-10 seconds  One single&#44 beach ball sized .... &amp;quot...      2013-07-03  37.694167 -122.085278  1987        9680\n",
            "178 1987-02-01 14:00:00                           lucas             tx      us      other                          120                       2 minutes                                 Car in the clouds.      2013-12-02  33.084167  -96.576389  1987        9800\n",
            "179 1987-03-01 01:00:00                          revere             ma      us      light                         3600                          1 hour                  Dancing Lights in sky as a child.      2001-03-06  42.408333  -71.012500  1987        5118\n",
            "180 1987-03-01 19:00:00                     weaverville             nc      us   triangle                          120                           2 min                         UFO IN ASHEVILLE N.C. 1987      2002-01-29  35.696944  -82.560833  1987        5447\n",
            "181 1988-01-01 03:00:00                         roselle             il      us   triangle                          180                         2-3 min  fast moving Triangle with no sound and orange ...      2006-10-30  41.984722  -88.079722  1988        6876\n",
            "182 1988-08-02 20:00:00                         clinton             ms      us     circle                          300                       5 minutes  A colorful ring of lights hovering over someon...      2003-11-08  32.341389  -90.321667  1988        5575\n",
            "183 1988-09-03 15:30:00                         harvard             ma      us     sphere                          180                       3 minutes  Bright silver craft witnessed by many people. ...      2013-12-12  42.500000  -71.583333  1988        9230\n",
            "184 1988-07-04 21:00:00                    jacksonville             fl      us   triangle                            4                       4 seconds  I saw object but my family did not even though...      2003-03-04  30.331944  -81.655833  1988        5355\n",
            "185 1989-01-01 23:59:00                         wagoner             ok      us      light                          120                        1-2 mins  My friend and I who were both 16 at the time w...      1998-03-07  35.959444  -95.369167  1989        3351\n",
            "186 1989-09-02 12:00:00              pickering (canada)             on      ca   triangle                          180                          3 min.  as i was reading a sighting from someboby in o...      2003-10-31  43.866667  -79.033333  1989        5171\n",
            "187 1989-07-03 23:00:00                      belleville             ks      us   triangle                           30                      30 seconds           Triangular craft descends into the water      2007-02-01  39.824444  -97.632222  1989        6421\n",
            "188 1989-01-05 00:15:00                    philadelphia             pa      us      cigar                          600                      10 minutes  An object followed my car parallel to me then ...      2006-10-30  39.952222  -75.164167  1989        6506\n",
            "189 1990-05-01 20:00:00                         kingman             az      us      flash                          300                           5 min                                  Comet in Kingman?      2005-05-11  35.189444 -114.052222  1990        5488\n",
            "190 1990-09-02 21:00:00                          dallas             tx      us      light                           45                          45 sec                  VERY BRIGHT LIGHTS FROM UP ABOVE.      2003-08-28  32.783333  -96.800000  1990        4742\n",
            "191 1990-07-03 23:00:00               north miami beach             fl      us      light                          600                     10 minutes?       90 degree turn&#44 possible missing time (?)      2004-04-27  25.932778  -80.162778  1990        5046\n",
            "192 1990-10-05 22:00:00                          fresno             ca      us   changing                         7200                        1-2hours                          Three objects in the sky.      2005-05-24  36.747778 -119.771389  1990        5344\n",
            "193 1991-03-01 04:30:00                     minneapolis             mn      us        egg                          600                      10 minutes  5-6 silver&#44 egg-shaped craft desending one ...      2000-06-06  44.980000  -93.263611  1991        3384\n",
            "194 1991-09-02 21:30:00                     morgan hill             ca      us    unknown                         1800                          30 min  We witnessed about 12 black objects pass overh...      1999-08-10  37.130556 -121.653333  1991        2898\n",
            "195 1991-06-03 22:00:00                           dixon             il      us       disk                          600                      10 minutes  saw what we thought was a helicopter in troubl...      1999-04-26  41.838889  -89.479444  1991        2883\n",
            "196 1991-07-04 23:00:00                         wichita             ks      us       disk                         3600               more than an hour  It was summer&#44 I had my dauther who is now ...      2008-08-12  37.692222  -97.337222  1991        6248\n",
            "197 1992-02-01 20:00:00                     grants pass             or      us      light                          600                          10 min  Going across sky.  Thought it was airplane at ...      1999-04-02  42.439167 -123.327222  1992        2616\n",
            "198 1992-04-02 22:24:00                    pebble beach             ca      us      light                           20                   15-20 seconds  A green light was iluminating the ocean as we ...      1999-01-28  36.566389 -121.945556  1992        2491\n",
            "199 1992-09-03 19:00:00                      wilmington             nc      us       disk                          540                      5 - 9 mins               multiple saucers&#44 there and gone.      2005-02-08  34.225556  -77.945000  1992        4540\n",
            "200 1992-07-04 23:00:00                          seatac             wa      us    unknown                           20                       15-20 sec  unidentified object in sky over seatac/des moi...      2007-04-27  47.453889 -122.320556  1992        5409\n",
            "201 1992-08-05 23:00:00                      wilmington             ny      us   triangle                           10                      10 seconds  Mystery lights flew over my home and car withi...      2014-03-21  44.388333  -73.815833  1992        7897\n",
            "202 1992-04-08 21:00:00                        hartford             ct      us    unknown                           25                           25sec  stange light in the night sky unlike i never s...      2009-06-09  41.763611  -72.685556  1992        6270\n",
            "203 1992-10-09 08:00:00                        seminole             tx      us  rectangle                           30                      30 seconds  I saw a UFO very clearly and can describe it t...      2013-11-20  32.718889 -102.644444  1992        7711\n",
            "204 1992-10-10 17:00:00                     panama city             fl      us  formation                         3600                       1 hour(?)  During a road trip to Panama City a friend and...      1999-01-28  30.158611  -85.660278  1992        2300\n",
            "205 1993-03-01 05:30:00                          ganado             az      us      other                      6312000                         20years  For many years since 1978 to 2004 there have b...      2007-08-07  35.711389 -109.541389  1993        5271\n",
            "206 1993-11-02 02:00:00                      evansville             in      us   triangle                         1800                      30 minutes  Driving home from work one evening late around...      2004-09-09  37.974722  -87.555833  1993        3963\n",
            "207 1993-09-03 15:00:00                     burnt ranch             ca      us       disk                         1800                         30 min.  Huge disk with hour glass directly above (cent...      1999-02-16  40.809167 -123.473056  1993        1991\n",
            "208 1993-08-04 20:30:00                         lahaina             hi      us    chevron                            4                         3-4 sec  Maui&#44 August 1993&#44 incredibly fast &amp;...      2005-05-24  20.878333 -156.682500  1993        4310\n",
            "209 1993-07-05 20:00:00                       papillion             ne      us  rectangle                          360                  5 or 6 minutes                                  unexplained craft      2005-02-24  41.154444  -96.041944  1993        4251\n",
            "210 1993-09-06 00:30:00                         seattle             wa      us   triangle                            6                       6 seconds                                lights over Seattle      2003-09-09  47.606389 -122.330833  1993        3654\n",
            "211 1993-07-07 23:00:00                          marion             in      us   cylinder                         1800                   20-30 minutes  A black van asked me and the other witness if ...      2004-01-17  40.558333  -85.659167  1993        3845\n",
            "212 1993-09-08 23:30:00               edmonton (canada)             ab      ca      cigar                        18000                       4-5 hours  Lots of different ufo sightings and unexplaina...      2014-01-16  53.550000 -113.500000  1993        7434\n",
            "213 1993-08-09 23:50:00                     westminster             co      us   triangle                           60                        1 minute  A white puffy cottonball appeared and then a t...      1999-08-30  39.836667 -105.036667  1993        2211\n",
            "214 1993-04-10 13:00:00                    three rivers             tx      us     sphere                         1200                      20 minutes                       Spherical UFO tracks vehicle      2009-01-10  28.460000  -98.182222  1993        5753\n",
            "215 1993-06-11 01:00:00                           lusby             md      us      other                        32400                         9 hours  Possible alien encounter and or abduction in 1...      2012-08-05  38.410556  -76.455556  1993        6994\n",
            "216 1993-07-12 23:30:00                   niagara falls             ny      us  formation                           30                      20-30 sec.  While walking with two friends in single file....      1999-04-02  43.094444  -79.056944  1993        2089\n",
            "217 1994-01-01 18:00:00                        ringwood             nj      us    unknown                          240                        4minutes           Strange light&#44 stranger disappearance      2005-04-16  41.113333  -74.245833  1994        4122\n",
            "218 1994-05-02 22:00:00             glassville (canada)             nb      ca    diamond                          300                       5 minutes  My Dad and I were driving down the street when...      1999-04-02  46.483333  -67.416667  1994        1795\n",
            "219 1994-03-03 23:00:00                 moab (south of)             ut      us   triangle                           60                 one full minute         Rotating triangle of lights south of Moab.      2001-08-05  38.573333 -109.549167  1994        2711\n",
            "220 1994-04-04 17:00:00                       hollywood             fl      us     circle                         7200                           2 hrs             Orange Orbs in Broward County Florida.      2005-02-22  26.010833  -80.149722  1994        3976\n",
            "221 1994-05-05 21:00:00            newport beach (near)             ca      us      flash                            5                    five seconds  saw what I first thought was a comet or some o...      1999-01-28  33.618889 -117.928056  1994        1728\n",
            "222 1994-12-06 21:20:00                      farmington             mo      us    chevron                          120                       2 minutes  No lights&#44 no sound&#44 and HUGE.  Quite an...      2003-08-28  37.780833  -90.421667  1994        3186\n",
            "223 1994-08-07 22:30:00                       ypsilanti             mi      us  formation                         2700                         45 min.  3 objects&#44  amber in color&#44  bell shaped...      2009-05-12  42.241111  -83.613056  1994        5391\n",
            "224 1994-03-09 21:00:00                          canton             mi      us    unknown                          120                           2 min                  UFO Encounter in Canton Michigan.      2007-04-27  42.308611  -83.482222  1994        4796\n",
            "225 1994-03-10 18:00:00                         wyoming             mi      us       disk                           60                           1 min  disk shaped looked to be black with colored fl...      2006-05-15  42.913333  -85.705278  1994        4448\n",
            "226 1994-04-11 21:00:00                    harrisonburg             la      us       disk                           30                      30 seconds  large&#44 well-lit saucer passes only a hundre...      2005-02-22  31.771944  -91.821389  1994        3969\n",
            "227 1994-01-12 18:00:00                       cedar key             fl      us    chevron                          300                       5 minutes  Huge bluish black delta  wing 50 feet or less ...      2003-09-04  29.138333  -83.035278  1994        3521\n",
            "228 1995-01-01 02:00:00                      el granada             ca      us   fireball                           45                      45 seconds  Glowing fireball  object crashed at Maverick&#...      2002-11-04  37.502778 -122.468333  1995        2863\n",
            "229 1995-07-02 13:30:00                       pendleton             ny      us      other                          900                        10-15min  It was a bright sunny day.  The wind was wippi...      2002-01-11  43.086944  -78.728056  1995        2384\n",
            "230 1995-07-03 22:00:00              penticton (canada)             bc      ca      light                          300                       5 minutes              Darting lights high over Penticton BC      2007-11-28  49.500000 -119.583333  1995        4530\n",
            "231 1995-04-04 04:00:00                    williamsburg             va      us     sphere                         1500                      25 minutes                             Sphere witnessed in VA      2003-10-31  37.270556  -76.707778  1995        3131\n",
            "232 1995-01-05 20:10:00                          sumner             wa      us       disk                           40                       20-40 sec  ship flew almost over my head and it was commi...      2010-11-21  47.203333 -122.239167  1995        5798\n",
            "233 1995-05-06 21:00:00                       watertown             ct      us      light                          120                       2 minutes  Strange Hovering Light - Noticed and Approache...      2006-07-16  41.606111  -73.118611  1995        4088\n",
            "234 1995-02-07 20:35:00                          tacoma             wa      us    unknown                            7                         5-7 sec  Work crew on railrodad loading dock witness ap...      1999-11-02  47.253056 -122.443056  1995        1728\n",
            "235 1995-07-08 23:00:00                         ravenna             oh      us    unknown                          600                      10 minutes  red lights and slow moving objest over  sait m...      2006-05-15  41.157500  -81.242222  1995        3963\n",
            "236 1995-11-09 16:30:00                       elizabeth             nj      us       oval                           90                    90 seconds ?  While driving on Route 1&amp;9 in Elizabeth Ne...      1999-08-30  40.663889  -74.211111  1995        1389\n",
            "237 1995-06-10 23:00:00                   crescent city             ca      us       oval                         1200                         20 mins  there were two they were around us red white b...      2004-06-04  41.756111 -124.200556  1995        3281\n",
            "238 1995-09-11 16:30:00                     pierce city             mo      us      cigar                            5                          5 sec.  Cigar- shaped metallic object hovers over fiel...      2003-09-24  36.945833  -94.000000  1995        2934\n",
            "239 1995-11-12 23:20:00                             roy             ut      us   triangle                          600                      10 minutes  At 11:20 PM as I saw a triange shaped object w...      1999-01-28  41.161667 -112.025556  1995        1172\n",
            "240 1996-02-01 15:00:00                         doyline             la      us   triangle                          180                       3 minutes                     TRIANGLER CRAFT NEAR BARKSDALE      2005-06-20  32.535556  -93.410833  1996        3426\n",
            "241 1996-08-02 11:33:00                         fishers             in      us     circle                           10                    8-10 seconds  I was raised and served in the military my fir...      2004-10-27  39.955556  -86.013889  1996        3007\n",
            "242 1996-07-03 10:00:00                university place             wa      us   fireball                           30                      30 seconds  It was the fourth of july&#44 actually the eve...      1999-04-02  47.235833 -122.549167  1996        1002\n",
            "243 1996-07-04 22:00:00                      wilmington             nc      us   triangle                           60                        1 minute  My wife and I were stargazing on a beautiful c...      2008-08-12  34.225556  -77.945000  1996        4421\n",
            "244 1996-04-05 23:30:00                       arlington             wa      us       disk                          300                           5 min  Craft hovered over a barn on the side of the r...      2001-08-05  48.198889 -122.123889  1996        1947\n",
            "245 1996-07-05 18:15:00                     springfield             ma      us     circle                           40                       30-40 sec  the object floted inplace&#44 then circled the...      2003-09-24  42.101389  -72.590278  1996        2636\n",
            "246 1996-09-05 01:00:00                           faith             nc      us   triangle                           30                         30 secs  Large black triangle&#44 lights on the corners...      2008-01-21  35.586944  -80.463056  1996        4154\n",
            "247 1996-11-06 17:00:00                        san jose             il      us  formation                          240                     3-4 minutes  Coming home from voting in &quot;96&quot; my w...      1999-01-28  40.305556  -89.602778  1996         812\n",
            "248 1996-08-08 20:30:00                        tularosa             nm      us     sphere                           45                        35-45sec  Glowing orb of light follows test sled and the...      2004-06-18  33.073889 -106.018056  1996        2870\n",
            "249 1996-06-10 22:00:00               blythe (north of)             ca      us     sphere                          120                           2 min  Orange luminescent globe hovering in desert sk...      2007-02-24  33.610278 -114.595556  1996        3910\n",
            "250 1996-05-11 17:00:00                         norwood             pa      us  formation                          120                       2 minutes  18 Bright fast &quot;Pearl&quot; like UFOs in ...      2010-11-21  39.891667  -75.300000  1996        5306\n",
            "251 1996-08-12 13:00:00                     cheektowaga             ny      us       disk                          900                   10-15 minutes  Very large dark grey object  over small commun...      2008-02-14  42.903333  -78.755000  1996        4202\n",
            "252 1997-02-01 21:30:00              vancouver (canada)             bc      ca    unknown                          600                      10 minutes  Stationary up in sky&#44 very high up in cloud...      2004-09-01  49.250000 -123.133333  1997        2768\n",
            "253 1997-03-01 21:20:00                      louisville             ky      us   fireball                            2                       2 seconds  A hovering ball of orange light that came back...      2001-08-05  38.254167  -85.759444  1997        1617\n",
            "254 1997-06-01 10:00:00                 american canyon             ca      us   triangle                           60                           1 min  I SAW A TRIANGULAR SHAPED CRAFT AND I SAW INSI...      2002-02-22  38.175000 -122.259722  1997        1726\n",
            "255 1997-05-02 22:05:00                       oceanside             ca      us      other                          600                      10 minutes  AN ILLUMINATED OBJECT WAS FIRST SIGHTED IN THE...      1999-01-28  33.195833 -117.378611  1997         635\n",
            "256 1997-05-03 21:03:00                        stafford             tx      us      other                           10                      10 seconds  Through telescope&#44observed amoeba or transl...      1999-01-28  29.615833  -95.557500  1997         634\n",
            "257 1997-07-04 21:00:00                            troy             il      us      light                            4                     3-4 seconds  large blue light silently travelling across th...      2005-07-05  38.729167  -89.883056  1997        2922\n",
            "258 1997-10-05 19:00:00                        cheyenne             wy      us      other                           90                         1.5 min  Seen a object in clear sky.looked like commet ...      2002-01-11  41.140000 -104.819722  1997        1558\n",
            "259 1997-09-06 04:47:00                       covington             wa      us   triangle                          900                          15 min  Triangle shaped with six lights underneath.  O...      1999-01-28  47.348333 -122.113611  1997         508\n",
            "260 1997-07-07 23:00:00                    coopersville             mi      us    unknown                        64800                          18 hrs  Fireball impact &#44 intelligent colorful ligh...      2011-01-31  43.063889  -85.934722  1997        4955\n",
            "261 1997-08-08 23:00:00                           kenai             ak      us      cigar                          600                      10 minutis            BACK in 1997 I seen a Cigar shaped UFO.      2005-09-02  60.554444 -151.258333  1997        2946\n",
            "262 1997-12-09 17:55:00                            reno             nv      us      light                         1090                           18:10  Stationary bright red light&#44 simular to jup...      1998-03-07  39.529722 -119.812778  1997          87\n",
            "263 1997-02-10 18:00:00                       brentwood             tn      us      light                          120                       2 minutes                                changing bright orb      2001-11-20  36.033056  -86.782778  1997        1743\n",
            "264 1997-11-11 01:00:00                     o&#39fallon             mo      us   triangle                          120                           2 min  ON THIS PARTICULAR NIGHT I HAD JUST GOTTING OF...      1999-08-10  38.810556  -90.699722  1997         636\n",
            "265 1997-07-12 13:00:00                         trenton             oh      us       disk                          480                     5-8 minutes  Saucer/lights&#44 no sound.  Lasted around 7 m...      2014-02-27  39.480833  -84.457778  1997        6073\n",
            "266 1998-04-01 13:00:00                      providence             ri      us     circle                          240                       4 minutes  Mostly sunny sky very large stayed about 5 min...      2009-04-14  41.823889  -71.413333  1998        4030\n",
            "267 1998-10-02 09:30:00                        el monte             ca      us     circle                          600                   about 10 min.  I noticed three craft flying in a straght line...      1999-02-16  34.068611 -118.026667  1998         136\n",
            "268 1998-03-03 20:00:00                         houston             tx      us     sphere                            7                       7 seconds  Strolling with my wife in the Heights part of ...      2012-07-04  29.763056  -95.363056  1998        5236\n",
            "269 1998-06-04 06:19:00                        ocotillo             ca      us   triangle                          720                      12 minutes  On a morning hike&#44 we settled to rest after...      1999-05-24  32.738611 -115.993333  1998         353\n",
            "270 1998-02-05 00:45:00                         memphis             tn      us   triangle                           10                           00:10  Black triangle near I-55 south of Memphis&#44 ...      2002-01-11  35.149444  -90.048889  1998        1435\n",
            "271 1998-02-06 00:00:00                       worcester             ma      us   fireball                            3                     2-3 seconds  I was driving at midnite and saw a fireball th...      1999-01-28  42.262500  -71.802778  1998         356\n",
            "272 1998-06-07 21:05:00                         phoenix             az      us   fireball                            2                       2 seconds  Bright flickering&#44 lightning like flash&#44...      1999-05-24  33.448333 -112.073333  1998         350\n",
            "273 1998-01-08 22:38:00                       fairbanks             ak      us       oval                            3                          3 secs  A large phlorescent green oval shaped object m...      1999-02-16  64.837778 -147.716389  1998         403\n",
            "274 1998-12-08 20:00:00         vilonia (just south of)             ar      us     circle                          300                  5 min.  aprox.  I was talking to some friends outside. I saw a...      2002-09-28  35.083889  -92.207778  1998        1389\n",
            "275 1998-04-09 21:15:00                colorado springs             co      us      other                          900                         15 mins  Saw object hovering over Co Springs. Couldn&#3...      1999-01-28  38.833889 -104.820833  1998         293\n",
            "276 1998-12-09 01:30:00                         alamosa             co      us       oval                           45                      45 seconds  I am a police officer in alamosa colorado. on ...      1999-01-28  37.469444 -105.869444  1998          49\n",
            "277 1998-04-10 05:45:00                        el cajon             ca      us      cigar                          600                      10 minutes  Observed object&#44 nothing around it.  Pulsin...      1999-01-28  32.794722 -116.961667  1998         292\n",
            "278 1998-07-11 22:43:00           franklin park (60131)             il      us     circle                            1                           00:01    Yellow circle in northeast sky moving northward      1998-11-21  41.935278  -87.865556  1998         132\n",
            "279 1999-06-01 00:00:00                         fremont             mi      us      light                         2700                    45 minutes +  Bounding&#44 glowing neon orbs of light over F...      2012-07-04  43.467500  -85.941944  1999        4782\n",
            "280 1999-07-02 23:54:00                    grand rapids             mi      us      light                           60                40 to 60 seconds  I WAS SITTING ON MY PORCH&#44 I WAS FACING EAS...      2002-07-01  42.963333  -85.668056  1999        1094\n",
            "281 1999-12-05 05:05:00                          dalton             ga      us     circle                           15                     15 seconds?  A bright yellow object traveling from west to ...      1999-12-16  34.769722  -84.970278  1999          10\n",
            "282 1999-07-06 22:00:00          omaha (~ 60 mi. nw of)             ne      us   triangle                          300                       5 minutes                         Triangular object observed      2010-04-13  41.258611  -95.937500  1999        3933\n",
            "283 1999-07-07 16:30:00                         seattle             wa      us      light                         1200                      20 minutes                       Star Wars blows up incoming.      2014-01-10  47.606389 -122.330833  1999        5300\n",
            "284 1999-10-07 23:02:00                     springfield             ma      us  formation                           10                      10 seconds  We saw a v-shaped formation of orangy-yellow r...      1999-10-19  42.101389  -72.590278  1999          11\n",
            "285 1999-07-08 21:45:00                       pottstown             pa      us     sphere                           60                        1 minute  we saw 2 orange spheres appear high over the P...      1999-07-14  40.245278  -75.650000  1999           5\n",
            "286 1999-06-09 21:15:00                       las vegas             nv      us      light                           60                           1 min  4 quickly moving red lights in the NW sky just...      1999-06-23  36.175000 -115.136389  1999          13\n",
            "287 1999-03-10 02:00:00                       johnstown             pa      us      cigar                         3600                       1 hourish                                      My encounter.      2012-01-12  40.326667  -78.922222  1999        4690\n",
            "288 1999-03-11 15:00:00             south san francisco             ca      us       disk                          240                       4 minutes  I was looking up because I  was carring laungr...      2013-04-12  37.654722 -122.406667  1999        5145\n",
            "289 1999-05-12 00:00:00                     bloomington             in      us      light                           15                   10-15 seconds  Light that was in a cloud bank above apartment...      1999-05-24  39.165278  -86.526389  1999          12\n",
            "290 2000-02-01 23:00:00                         babbitt             mn      us      other                          600                    8-10 minutes  Opaque white beams of light that repeatedly  h...      2003-10-31  47.708611  -91.944444  2000        1367\n",
            "291 2000-03-02 22:45:00                        paterson             nj      us      light                          600                      10 minutes  At around 10.45 p.m when I just looked at the ...      2000-03-07  40.916667  -74.172222  2000           4\n",
            "292 2000-05-03 20:00:00                    mt. pleasant             ia      us      light                          300                       5 minutes  One craft crossed in front of an airplane that...      2000-05-11  40.963611  -91.557778  2000           7\n",
            "293 2000-02-04 20:30:00                        prescott             az      us     circle                          120                          2 min.  Bright yellow-orange circular objects flying i...      2000-02-16  34.540000 -112.467778  2000          11\n",
            "294 2000-05-05 20:30:00                  johnson county             ks      us     sphere                         1800                      30 minutes  White light with alternating green and red lights      2000-05-11  37.570556 -101.750556  2000           5\n",
            "295 2000-03-06 19:55:00                   silver spring             md      us      other                          600                           10min  v shape but no lights &#44 very grayand thin t...      2000-03-07  38.990556  -77.026389  2000           0\n",
            "296 2000-12-07 19:30:00             white rock (canada)             bc      ca    unknown                         3600                   approx 1 hour  It was a foggy evening&#44 I was looking out o...      2001-02-18  49.033333 -122.816667  2000          72\n",
            "297 2000-11-08 22:30:00                          eugene             or      us      light                            8                           8sec.  What appeared to be a falling star &#44 change...      2003-02-25  44.052222 -123.085556  2000         838\n",
            "298 2000-12-09 21:00:00                          beaver             pa      us   triangle                           90                             1.3  Like a red traffic light&#44 behind the trees&...      2000-12-20  40.695278  -80.305000  2000          10\n",
            "299 2000-06-10 02:30:00                       polk city             ia      us     circle                          300                       5 minutes  Strange circular object seen moving against th...      2004-08-24  41.771389  -93.712778  2000        1535\n",
            "300 2000-02-11 21:15:00                        rockford             il      us   fireball                          900                   10-15 minutes  While out for a family night we observed five ...      2000-02-23  42.271111  -89.093889  2000          11\n",
            "301 2000-07-12 20:00:00                         gilbert             az      us      light                          900                10 to 15 minutes  The object was south of the phoenix area.  It ...      2000-07-23  33.352778 -111.788333  2000          10\n",
            "302 2001-01-01 01:00:00                      sacramento             ca      us     circle                           10                      10 seconds                                 Big Bouncing Light      2008-10-31  38.581667 -121.493333  2001        2859\n",
            "303 2001-05-02 00:02:00              vancouver (canada)             bc      ca      light                           30                      30 seconds  3 lights travelling very fast with the 2 on th...      2002-07-26  49.250000 -123.133333  2001         449\n",
            "304 2001-03-03 19:00:00                        pontotoc             ms      us      light                         3600                    about 1 hour              Bright light in the sky. UFO or What?      2001-03-16  34.247778  -88.998611  2001          12\n",
            "305 2001-08-04 16:00:00                         wheaton             il      us     circle                          120                        1-2 min.  white/silver circle at first stationary&#44 th...      2001-08-12  41.866111  -88.106944  2001           7\n",
            "306 2001-06-05 00:01:00                          yakima             wa      us      light                          480                       8 minutes                                       Just a light      2001-08-05  46.602222 -120.504722  2001          60\n",
            "307 2001-11-05 21:25:00                        glendale             az      us     circle                            6                     5 to 6 sec.                     UFO Sighting - Glendale&#44 AZ      2001-11-20  33.538611 -112.185278  2001          14\n",
            "308 2001-04-06 21:00:00                    mount carmel             il      us   fireball                         1200                      20 minutes  At an area just west of Mount Carmel Il&#44 my...      2001-04-28  38.410833  -87.761389  2001          21\n",
            "309 2001-02-07 16:00:00         linthicum (bwi airport)             md      us  rectangle                          900                          15 min  This was not any aircraft I have ever seen and...      2001-02-18  39.205000  -76.653056  2001          10\n",
            "310 2001-04-08 20:00:00                         portage             in      us    unknown                         1200                           20:00  unknown blue object that stooped car engine th...      2002-08-16  41.575833  -87.176111  2001         494\n",
            "311 2001-09-09 21:00:00                          groton             nh      us     sphere                          900                          15 min  I went outside that evening with my video came...      2003-03-04  43.701667  -71.836111  2001         540\n",
            "312 2001-06-10 04:00:00                      san carlos             az      us      light                         1800                      30 minutes  Bright Light seen in circular form over the ea...      2001-08-05  33.345278 -110.452500  2001          55\n",
            "313 2001-01-11 21:50:00                       las vegas             nm      us   fireball                            4                     2-4 seconds  Green Fireball&#44 falling from 15 to 20 degre...      2001-02-18  35.593889 -105.223333  2001          37\n",
            "314 2001-12-11 14:03:00                      chesapeake             va      us      cigar                          360                       6 minutes  I saw 5 cigar shaped crafts in a V formation w...      2002-01-11  36.818889  -76.275278  2001          30\n",
            "315 2001-03-12 21:00:00                       beaverton             or      us      light                          600                      10 minutes  3 Red nocturnal &quot;visitors&quot; seen in W...      2001-03-16  45.487222 -122.802500  2001           3\n",
            "316 2001-09-12 00:00:00                     los angeles             ca      us     circle                           60                  1 minute or so                             3 UFO over Los Angeles      2008-08-12  34.052222 -118.242778  2001        2526\n",
            "317 2002-03-01 06:15:00                          naples             fl      us   triangle                          180                       3 minutes  Black Triangle&#44 clearly seen slowly moving ...      2002-03-19  26.141667  -81.795000  2002          17\n",
            "318 2002-08-01 15:25:00                      south bend             in      us       oval                          600                      10 minutes  A red oval-like object flew at constant speed ...      2002-08-16  41.683333  -86.250000  2002          14\n",
            "319 2002-01-02 17:30:00                     osage beach             mo      us      cigar                          600                      10 minutes  Cigar shaped object seen near Lake of the Ozar...      2002-01-11  38.150278  -92.617778  2002           8\n",
            "320 2002-07-03 01:00:00                           akron             oh      us       oval                           20                      20 seconds  white oval object seemed to move out of our si...      2002-08-16  41.081389  -81.519167  2002          43\n",
            "321 2002-07-04 20:23:00                  san bernardino             ca      us    unknown                           15                      15 sec&#44  Flash of halogen-quality light on fast moving ...      2002-07-26  34.108333 -117.288889  2002          21\n",
            "322 2002-09-05 23:00:00                         houston             tx      us       disk                          120                          2 mins  Extreme large&#44 very bright orb gave off no ...      2007-04-27  29.763056  -95.363056  2002        1694\n",
            "323 2002-10-05 23:00:00                         alameda             ca      us      light                            7                       7 seconds                              stationary star moves      2002-10-15  37.765278 -122.240556  2002           9\n",
            "324 2002-05-06 15:50:00            st. louis (kirkwood)             mo      us       disk                          180                  2 or 3 minutes  A saucer that glowed like the moon and was the...      2002-05-14  38.627222  -90.197778  2002           7\n",
            "325 2002-01-07 18:00:00                 fort washington             md      us   teardrop                            2                         seconds  Luminous green&#44 white outlined tear shaped ...      2002-01-11  38.707222  -77.023333  2002           3\n",
            "326 2002-09-08 16:00:00       new york city (manhattan)             ny      us     sphere                         7200                           1-2hr  Eleven objects over Manhatten for nearly 2 hours.      2002-09-13  40.714167  -74.006389  2002           4\n",
            "327 2002-05-09 18:00:00               winnipeg (canada)             mb      ca  formation                         2400                     30to40 mins  they were flashing orbes of light&#44consistin...      2002-05-14  49.883333  -97.166667  2002           4\n",
            "328 2002-05-10 23:30:00                       san diego             ca      us   triangle                          300                       5 minutes  Huge Triangle shaped object with amber lights ...      2002-12-23  32.715278 -117.156389  2002         226\n",
            "329 2002-01-11 18:45:00                   daytona beach             fl      us      light                         3600                more than 1 hour  Bright lights seen over ocean in Daytona Beach...      2002-01-29  29.210556  -81.023056  2002          17\n",
            "330 2002-02-12 20:00:00                          lorain             oh      us       disk                          120                     1-2 minutes    UFO near Cleveland Ohio&#44 evening of 2/12/02.      2002-02-22  41.452778  -82.182500  2002           9\n",
            "331 2003-04-01 01:00:00                         holmdel             nj      us   fireball                            1                        1 second  High speed  blue white streak across the sky t...      2003-06-03  40.345000  -74.184444  2003          62\n",
            "332 2003-10-02 02:45:00                       kerrville             tx      us     circle                           15                      15 seconds  first i saw 8 white lights in a V formation of...      2003-10-07  30.047222  -99.140000  2003           4\n",
            "333 2003-11-04 20:00:00                       belvidere             nc      us      other                          600                      10 minutes  My family saw strange flying object making wil...      2003-11-08  36.268611  -76.536111  2003           3\n",
            "334 2003-01-06 10:10:00                       montclair             ca      us   fireball                           10                         10 sec.  burning or bright object not falling to earth ...      2003-03-11  34.077500 -117.688889  2003          63\n",
            "335 2003-05-07 02:00:00                       jonesboro             ar      us    diamond                           30                      30 seconds  Diamond shaped fuselage with multiple red ligh...      2003-05-09  35.842222  -90.704167  2003           1\n",
            "336 2003-07-08 00:30:00                  grand junction             co      us     sphere                           60                        1 minute                                   orbs in Colorado      2003-07-16  39.063889 -108.550000  2003           7\n",
            "337 2003-04-09 21:00:00                      santa rosa             ca      us      other                           40                          40 sec  STAR LIKE OBJECT FLYING .GENTLEY ACROSS SKY AN...      2003-04-22  38.440556 -122.713333  2003          12\n",
            "338 2003-03-10 20:52:00                  warner springs             ca      us      light                          600                         10 min.  In the eastern sky (over head&#44 not near the...      2003-03-21  33.282222 -116.632778  2003          10\n",
            "339 2003-07-11 20:50:00                          golden             co      us    unknown                          480                     6-8 minutes  3 lights triangular shaped&#44 AAA fire&#44 li...      2003-09-24  39.755556 -105.220556  2003          74\n",
            "340 2004-02-01 01:00:00                      south bend             in      us    unknown                         3600                         >1 hour  We saw some object in the sky move very slowly...      2004-02-12  41.683333  -86.250000  2004          10\n",
            "341 2004-10-02 18:20:00                     west covina             ca      us    unknown                          600                      10 minutes  white&#44 caterpillar contrails over Los Angel...      2004-10-27  34.090000 -117.889444  2004          24\n",
            "342 2004-04-05 20:35:00                           miami             fl      us    unknown                           60                        1 minute  It looked like a star and moved in a circular ...      2004-04-09  25.773889  -80.193889  2004           3\n",
            "343 2004-10-06 23:00:00                     placerville             ca      us       disk                         3600                          1 hour  I saw 5 saucers above Placerville CA.  ((NUFOR...      2004-10-27  38.729722 -120.797500  2004          20\n",
            "344 2004-11-07 20:30:00                   lavina (near)             mt      us       disk                         3600                    over an hour  Many unusual lights on one object.  ((NUFORC N...      2004-11-09  46.294722 -108.937222  2004           1\n",
            "345 2004-12-08 05:30:00               montreal (canada)             qc      ca       oval                           30                about 30 seconds  Bright yellow light at the horizon in the East...      2007-08-07  45.500000  -73.583333  2004         971\n",
            "346 2004-02-10 05:15:00                       mansfield             oh      us      other                            3                       3 seconds         THE OBJECT WAS STREAKING&#44 THEN VANISHED      2004-02-12  40.758333  -82.515556  2004           1\n"
          ],
          "name": "stdout"
        }
      ]
    },
    {
      "cell_type": "markdown",
      "metadata": {
        "id": "ewMKl3kYzDQR",
        "colab_type": "text"
      },
      "source": [
        "Q135. Write a pandas program to generate sequences of fixed- frequency dates and time spans."
      ]
    },
    {
      "cell_type": "code",
      "metadata": {
        "id": "digs3BoazDY-",
        "colab_type": "code",
        "outputId": "4fe8e9e7-4d85-47cf-9af1-aa7da41b5a80",
        "colab": {
          "base_uri": "https://localhost:8080/",
          "height": 462
        }
      },
      "source": [
        "import pandas as pd\n",
        "dtr = pd.date_range('2018-01-01', periods=12, freq='H')\n",
        "print(\"Hourly frequency:\")\n",
        "print(dtr)\n",
        "dtr = pd.date_range('2018-01-01', periods=12, freq='min')\n",
        "print(\"\\nMinutely frequency:\")\n",
        "print(dtr)\n",
        "dtr = pd.date_range('2018-01-01', periods=12, freq='S')\n",
        "print(\"\\nSecondly frequency:\")\n",
        "print(dtr)\n",
        "dtr = pd.date_range('2018-01-01', periods=12, freq='2H')\n",
        "print(\"nMultiple Hourly frequency:\")\n",
        "print(dtr)\n",
        "dtr = pd.date_range('2018-01-01', periods=12, freq='5min')\n",
        "print(\"\\nMultiple Minutely frequency:\")\n",
        "print(dtr)\n",
        "dtr = pd.date_range('2018-01-01', periods=12, freq='BQ')\n",
        "print(\"\\nMultiple Secondly frequency:\")\n",
        "print(dtr)\n",
        "dtr = pd.date_range('2018-01-01', periods=12, freq='w')\n",
        "print(\"\\nWeekly frequency:\")\n",
        "print(dtr)\n",
        "dtr = pd.date_range('2018-01-01', periods=12, freq='2h20min')\n",
        "print(\"\\nCombine together day and intraday offsets-1:\")\n",
        "print(dtr)\n",
        "dtr = pd.date_range('2018-01-01', periods=12, freq='1D10U')\n",
        "print(\"\\nCombine together day and intraday offsets-2:\")\n",
        "print(dtr)"
      ],
      "execution_count": 136,
      "outputs": [
        {
          "output_type": "stream",
          "text": [
            "Hourly frequency:\n",
            "DatetimeIndex(['2018-01-01 00:00:00', '2018-01-01 01:00:00', '2018-01-01 02:00:00', '2018-01-01 03:00:00', '2018-01-01 04:00:00', '2018-01-01 05:00:00', '2018-01-01 06:00:00', '2018-01-01 07:00:00', '2018-01-01 08:00:00', '2018-01-01 09:00:00', '2018-01-01 10:00:00', '2018-01-01 11:00:00'], dtype='datetime64[ns]', freq='H')\n",
            "\n",
            "Minutely frequency:\n",
            "DatetimeIndex(['2018-01-01 00:00:00', '2018-01-01 00:01:00', '2018-01-01 00:02:00', '2018-01-01 00:03:00', '2018-01-01 00:04:00', '2018-01-01 00:05:00', '2018-01-01 00:06:00', '2018-01-01 00:07:00', '2018-01-01 00:08:00', '2018-01-01 00:09:00', '2018-01-01 00:10:00', '2018-01-01 00:11:00'], dtype='datetime64[ns]', freq='T')\n",
            "\n",
            "Secondly frequency:\n",
            "DatetimeIndex(['2018-01-01 00:00:00', '2018-01-01 00:00:01', '2018-01-01 00:00:02', '2018-01-01 00:00:03', '2018-01-01 00:00:04', '2018-01-01 00:00:05', '2018-01-01 00:00:06', '2018-01-01 00:00:07', '2018-01-01 00:00:08', '2018-01-01 00:00:09', '2018-01-01 00:00:10', '2018-01-01 00:00:11'], dtype='datetime64[ns]', freq='S')\n",
            "nMultiple Hourly frequency:\n",
            "DatetimeIndex(['2018-01-01 00:00:00', '2018-01-01 02:00:00', '2018-01-01 04:00:00', '2018-01-01 06:00:00', '2018-01-01 08:00:00', '2018-01-01 10:00:00', '2018-01-01 12:00:00', '2018-01-01 14:00:00', '2018-01-01 16:00:00', '2018-01-01 18:00:00', '2018-01-01 20:00:00', '2018-01-01 22:00:00'], dtype='datetime64[ns]', freq='2H')\n",
            "\n",
            "Multiple Minutely frequency:\n",
            "DatetimeIndex(['2018-01-01 00:00:00', '2018-01-01 00:05:00', '2018-01-01 00:10:00', '2018-01-01 00:15:00', '2018-01-01 00:20:00', '2018-01-01 00:25:00', '2018-01-01 00:30:00', '2018-01-01 00:35:00', '2018-01-01 00:40:00', '2018-01-01 00:45:00', '2018-01-01 00:50:00', '2018-01-01 00:55:00'], dtype='datetime64[ns]', freq='5T')\n",
            "\n",
            "Multiple Secondly frequency:\n",
            "DatetimeIndex(['2018-03-30', '2018-06-29', '2018-09-28', '2018-12-31', '2019-03-29', '2019-06-28', '2019-09-30', '2019-12-31', '2020-03-31', '2020-06-30', '2020-09-30', '2020-12-31'], dtype='datetime64[ns]', freq='BQ-DEC')\n",
            "\n",
            "Weekly frequency:\n",
            "DatetimeIndex(['2018-01-07', '2018-01-14', '2018-01-21', '2018-01-28', '2018-02-04', '2018-02-11', '2018-02-18', '2018-02-25', '2018-03-04', '2018-03-11', '2018-03-18', '2018-03-25'], dtype='datetime64[ns]', freq='W-SUN')\n",
            "\n",
            "Combine together day and intraday offsets-1:\n",
            "DatetimeIndex(['2018-01-01 00:00:00', '2018-01-01 02:20:00', '2018-01-01 04:40:00', '2018-01-01 07:00:00', '2018-01-01 09:20:00', '2018-01-01 11:40:00', '2018-01-01 14:00:00', '2018-01-01 16:20:00', '2018-01-01 18:40:00', '2018-01-01 21:00:00', '2018-01-01 23:20:00', '2018-01-02 01:40:00'], dtype='datetime64[ns]', freq='140T')\n",
            "\n",
            "Combine together day and intraday offsets-2:\n",
            "DatetimeIndex(['2018-01-01 00:00:00', '2018-01-02 00:00:00.000010', '2018-01-03 00:00:00.000020', '2018-01-04 00:00:00.000030', '2018-01-05 00:00:00.000040', '2018-01-06 00:00:00.000050', '2018-01-07 00:00:00.000060', '2018-01-08 00:00:00.000070', '2018-01-09 00:00:00.000080', '2018-01-10 00:00:00.000090', '2018-01-11 00:00:00.000100', '2018-01-12 00:00:00.000110'], dtype='datetime64[ns]', freq='86400000010U')\n"
          ],
          "name": "stdout"
        }
      ]
    },
    {
      "cell_type": "markdown",
      "metadata": {
        "id": "Nhjo1u3vzD0u",
        "colab_type": "text"
      },
      "source": [
        "Q136. Write a pandas program to manipulate and convert date times with timezone information."
      ]
    },
    {
      "cell_type": "code",
      "metadata": {
        "id": "IudYFzzwzEBs",
        "colab_type": "code",
        "outputId": "7d422c97-5317-4169-d93a-8da39752e5c6",
        "colab": {
          "base_uri": "https://localhost:8080/",
          "height": 105
        }
      },
      "source": [
        "dtt = pd.date_range('2018-01-01', periods=3, freq='H')\n",
        "dtt = dtt.tz_localize('UTC')\n",
        "print(dtt)\n",
        "print(\"\\nFrom UTC to America/Los_Angeles:\")\n",
        "dtt = dtt.tz_convert('America/Los_Angeles')\n",
        "print(dtt)"
      ],
      "execution_count": 137,
      "outputs": [
        {
          "output_type": "stream",
          "text": [
            "DatetimeIndex(['2018-01-01 00:00:00+00:00', '2018-01-01 01:00:00+00:00', '2018-01-01 02:00:00+00:00'], dtype='datetime64[ns, UTC]', freq='H')\n",
            "\n",
            "From UTC to America/Los_Angeles:\n",
            "DatetimeIndex(['2017-12-31 16:00:00-08:00', '2017-12-31 17:00:00-08:00', '2017-12-31 18:00:00-08:00'], dtype='datetime64[ns, America/Los_Angeles]', freq='H')\n"
          ],
          "name": "stdout"
        }
      ]
    },
    {
      "cell_type": "markdown",
      "metadata": {
        "id": "H2FoiKTOzEOg",
        "colab_type": "text"
      },
      "source": [
        "Q137. Write a pandas program to create the graphical analysis of UFO (unidentified flying object) Sightings year."
      ]
    },
    {
      "cell_type": "code",
      "metadata": {
        "id": "OU3FshkdzEZ4",
        "colab_type": "code",
        "outputId": "24928386-7086-4a70-dae9-df054aa9906b",
        "colab": {
          "base_uri": "https://localhost:8080/",
          "height": 584
        }
      },
      "source": [
        "\n",
        "dfufo[\"ufo_yr\"] = dfufo.Date_time.dt.year\n",
        "years_data = dfufo.ufo_yr.value_counts()\n",
        "years_index = years_data.index  # x ticks\n",
        "years_values = years_data.get_values()\n",
        "plt.figure(figsize=(15,8))\n",
        "plt.xticks(rotation = 60)\n",
        "plt.title('UFO Sightings by Year')\n",
        "plt.xlabel(\"Year\")\n",
        "plt.ylabel(\"Number of reports\")\n",
        "years_plot = sns.barplot(x=years_index[:60],y=years_values[:60], palette = \"Reds\")"
      ],
      "execution_count": 138,
      "outputs": [
        {
          "output_type": "stream",
          "text": [
            "/usr/local/lib/python3.6/dist-packages/ipykernel_launcher.py:5: FutureWarning: The 'get_values' method is deprecated and will be removed in a future version. Use '.to_numpy()' or '.array' instead.\n",
            "  \"\"\"\n"
          ],
          "name": "stderr"
        },
        {
          "output_type": "display_data",
          "data": {
            "image/png": "[encoded data removed]",
            "text/plain": [
              "<Figure size 1080x576 with 1 Axes>"
            ]
          },
          "metadata": {
            "tags": []
          }
        }
      ]
    },
    {
      "cell_type": "markdown",
      "metadata": {
        "id": "bXgpadKtzEiB",
        "colab_type": "text"
      },
      "source": [
        "Q138. Write a pandas program to create a comparison of the top 10 years in which the (UFO) was sighted VS each Month"
      ]
    },
    {
      "cell_type": "code",
      "metadata": {
        "id": "dp0Gd6DPzEqH",
        "colab_type": "code",
        "outputId": "db264934-3894-4e22-b4eb-cd1ab7dd7f4c",
        "colab": {
          "base_uri": "https://localhost:8080/",
          "height": 275
        }
      },
      "source": [
        "most_sightings_years = dfufo['Date_time'].dt.year.value_counts().head(10)\n",
        "def is_top_years(year):\n",
        "   if year in most_sightings_years.index:\n",
        "       return year\n",
        "hour_v_year = dfufo.pivot_table(columns=dfufo['Date_time'].dt.hour, index=dfufo['Date_time'].dt.year.apply(is_top_years),aggfunc='count',values='city')\n",
        "hour_v_year.columns = hour_v_year.columns.astype(int)\n",
        "#hour_v_year.columns = hour_v_year.columns.astype(str) + \":00\"\n",
        "hour_v_year.index = hour_v_year.index.astype(int)\n",
        "print(\"\\nComparison of the top 10 years in which the UFO was sighted vs the hours of the day:\")\n",
        "print(hour_v_year.head(10))"
      ],
      "execution_count": 139,
      "outputs": [
        {
          "output_type": "stream",
          "text": [
            "\n",
            "Comparison of the top 10 years in which the UFO was sighted vs the hours of the day:\n",
            "Date_time   0    1    2    4    5    6    9    10   11   13   14   15   16   17   18   19   20   21   22   23\n",
            "Date_time                                                                                                    \n",
            "1993       1.0  1.0  1.0  NaN  1.0  NaN  NaN  NaN  NaN  1.0  NaN  1.0  NaN  NaN  NaN  NaN  2.0  NaN  NaN  4.0\n",
            "1994       NaN  NaN  NaN  NaN  NaN  NaN  NaN  NaN  NaN  NaN  NaN  NaN  NaN  1.0  3.0  NaN  NaN  4.0  2.0  1.0\n",
            "1995       NaN  NaN  1.0  1.0  NaN  NaN  NaN  NaN  NaN  1.0  NaN  NaN  2.0  NaN  NaN  NaN  2.0  1.0  1.0  3.0\n",
            "1996       NaN  1.0  NaN  NaN  NaN  NaN  NaN  1.0  1.0  1.0  NaN  1.0  NaN  2.0  1.0  NaN  1.0  NaN  2.0  1.0\n",
            "1997       NaN  1.0  NaN  1.0  NaN  NaN  NaN  1.0  NaN  1.0  NaN  NaN  NaN  1.0  1.0  1.0  NaN  4.0  1.0  2.0\n",
            "1998       2.0  1.0  NaN  NaN  1.0  1.0  1.0  NaN  NaN  1.0  NaN  NaN  NaN  NaN  NaN  NaN  2.0  2.0  2.0  NaN\n",
            "1999       2.0  NaN  1.0  NaN  1.0  NaN  NaN  NaN  NaN  NaN  NaN  1.0  1.0  NaN  NaN  NaN  NaN  2.0  1.0  2.0\n",
            "2000       NaN  NaN  1.0  NaN  NaN  NaN  NaN  NaN  NaN  NaN  NaN  NaN  NaN  NaN  NaN  2.0  4.0  2.0  2.0  1.0\n",
            "2001       3.0  1.0  NaN  1.0  NaN  NaN  NaN  NaN  NaN  NaN  1.0  NaN  2.0  NaN  NaN  1.0  1.0  5.0  NaN  NaN\n",
            "2002       NaN  1.0  NaN  NaN  NaN  1.0  NaN  NaN  NaN  NaN  NaN  2.0  1.0  1.0  3.0  NaN  2.0  NaN  NaN  3.0\n"
          ],
          "name": "stdout"
        }
      ]
    },
    {
      "cell_type": "markdown",
      "metadata": {
        "id": "6ac7MvtjzExJ",
        "colab_type": "text"
      },
      "source": [
        "Q139. Write a pandas program to create a heatmap (rectangular data as a colour-encoded matrix) for comparison of top 10 years in which (UFO ) was sighted VS each Month"
      ]
    },
    {
      "cell_type": "code",
      "metadata": {
        "id": "KWxIhzbxz0Zf",
        "colab_type": "code",
        "outputId": "721fd192-8ed5-4ed4-f943-bac45c2980c1",
        "colab": {
          "base_uri": "https://localhost:8080/",
          "height": 544
        }
      },
      "source": [
        "most_sightings_years = dfufo['Date_time'].dt.year.value_counts().head(10)\n",
        "def is_top_years(year):\n",
        "   if year in most_sightings_years.index:\n",
        "       return year\n",
        "month_vs_year = dfufo.pivot_table(columns=dfufo['Date_time'].dt.month,index=dfufo['Date_time'].dt.year.apply(is_top_years),aggfunc='count',values='city')\n",
        "month_vs_year.columns = month_vs_year.columns.astype(int)\n",
        "print(\"\\nHeatmap for comparison of the top 10 years in which the UFO was sighted vs each month:\")\n",
        "plt.figure(figsize=(10,8))\n",
        "ax = sns.heatmap(month_vs_year, vmin=0, vmax=4)\n",
        "ax.set_xlabel('Month').set_size(20)\n",
        "ax.set_ylabel('Year').set_size(20)"
      ],
      "execution_count": 140,
      "outputs": [
        {
          "output_type": "stream",
          "text": [
            "\n",
            "Heatmap for comparison of the top 10 years in which the UFO was sighted vs each month:\n"
          ],
          "name": "stdout"
        },
        {
          "output_type": "display_data",
          "data": {
            "image/png": "[encoded data removed]",
            "text/plain": [
              "<Figure size 720x576 with 2 Axes>"
            ]
          },
          "metadata": {
            "tags": []
          }
        }
      ]
    },
    {
      "cell_type": "markdown",
      "metadata": {
        "id": "lnUhCTpwz0tq",
        "colab_type": "text"
      },
      "source": [
        "Q140. Write a pandas program to create a Timewheel of Hour VS Year comparison of the top 10 years in which the (UFO) was sighted."
      ]
    },
    {
      "cell_type": "code",
      "metadata": {
        "id": "bNDgKXGYz06Q",
        "colab_type": "code",
        "outputId": "28e6dd9c-ff6a-4688-aedb-a31305123bd8",
        "colab": {
          "base_uri": "https://localhost:8080/",
          "height": 573
        }
      },
      "source": [
        "most_sightings_years = dfufo['Date_time'].dt.year.value_counts().head(10)\n",
        "def is_top_years(year):\n",
        "   if year in most_sightings_years.index:\n",
        "       return year\n",
        "month_vs_year = dfufo.pivot_table(columns=dfufo['Date_time'].dt.month,index=dfufo['Date_time'].dt.year.apply(is_top_years),aggfunc='count',values='city')\n",
        "month_vs_year.index = month_vs_year.index.astype(int)\n",
        "month_vs_year.columns = month_vs_year.columns.astype(int)\n",
        "print(\"\\nComparison of the top 10 years in which the UFO was sighted vs each month:\")\n",
        "def pie_heatmap(table, cmap='coolwarm_r', vmin=None, vmax=None,inner_r=0.25, pie_args={}):\n",
        "   n, m = table.shape\n",
        "   vmin= table.min().min() if vmin is None else vmin\n",
        "   vmax= table.max().max() if vmax is None else vmax\n",
        "\n",
        "   centre_circle = plt.Circle((0,0),inner_r,edgecolor='black',facecolor='white',fill=True,linewidth=0.25)\n",
        "   plt.gcf().gca().add_artist(centre_circle)\n",
        "   norm = mpl.colors.Normalize(vmin=vmin, vmax=vmax)\n",
        "   cmapper = cm.ScalarMappable(norm=norm, cmap=cmap)\n",
        "\n",
        "   for i, (row_name, row) in enumerate(table.iterrows()):\n",
        "       labels = None if i > 0 else table.columns\n",
        "       wedges = plt.pie([1] * m,radius=inner_r+float(n-i)/n, colors=[cmapper.to_rgba(x) for x in row.values],\n",
        "           labels=labels, startangle=90, counterclock=False, wedgeprops={'linewidth':-1}, **pie_args)\n",
        "       plt.setp(wedges[0], edgecolor='grey',linewidth=1.5)\n",
        "       wedges = plt.pie([1], radius=inner_r+float(n-i-1)/n, colors=['w'], labels=[row_name], startangle=-90, wedgeprops={'linewidth':0})\n",
        "       plt.setp(wedges[0], edgecolor='grey',linewidth=1.5)\n",
        "plt.figure(figsize=(8,8))\n",
        "plt.title(\"Timewheel of Hour Vs Year\",y=1.08,fontsize=30)\n",
        "pie_heatmap(month_vs_year, vmin=-20,vmax=80,inner_r=0.2)"
      ],
      "execution_count": 141,
      "outputs": [
        {
          "output_type": "stream",
          "text": [
            "\n",
            "Comparison of the top 10 years in which the UFO was sighted vs each month:\n"
          ],
          "name": "stdout"
        },
        {
          "output_type": "display_data",
          "data": {
            "image/png": "[encoded data removed]",
            "text/plain": [
              "<Figure size 576x576 with 1 Axes>"
            ]
          },
          "metadata": {
            "tags": []
          }
        }
      ]
    },
    {
      "cell_type": "markdown",
      "metadata": {
        "id": "T6PSqYalz1Da",
        "colab_type": "text"
      },
      "source": [
        "Q141. Write a python program to draw the line using given axis values with the suitable label in the x-axis, y-axis, and a title.\n",
        "The code snippet gives the output shown in the screenshot:"
      ]
    },
    {
      "cell_type": "code",
      "metadata": {
        "id": "95IcuO5o0MUE",
        "colab_type": "code",
        "colab": {
          "base_uri": "https://localhost:8080/",
          "height": 279
        },
        "outputId": "46c84033-d411-48c6-8d35-80c39bfe1c95"
      },
      "source": [
        "\n",
        "X = [1,2,3]\n",
        "\n",
        "Y = [2,4,1]\n",
        "plt.plot(X, Y)\n",
        "plt.xlabel('x - axis')\n",
        "plt.ylabel('y - axis')\n",
        "plt.show()"
      ],
      "execution_count": 142,
      "outputs": [
        {
          "output_type": "display_data",
          "data": {
            "image/png": "[encoded data removed]",
            "text/plain": [
              "<Figure size 432x288 with 1 Axes>"
            ]
          },
          "metadata": {
            "tags": []
          }
        }
      ]
    },
    {
      "cell_type": "markdown",
      "metadata": {
        "id": "FYC58fpF0Mfn",
        "colab_type": "text"
      },
      "source": [
        "Q142. Write a python program to draw the line charts of the financial data of the Alphabet Inc., between October.\n",
        "3, 2016 to October 7 2016. Sample Financial data (fdata.csv)- Date,Open,High,Low,Close 10-03-16,774.25,776.065002,769.5,772.559998 10-04-16 , 776.030029, 778.710022,772.890015,776.429993 10-05-16 , 779.309998, 782.070007,775.650024,776.469971 10-06-16 , 779 , 780.47998,775.539978,776.859985 10-07-16,779.659973, 779.659973 , 770.75 , 775.080017 The code snippet gives the output shown in the screenshot:"
      ]
    },
    {
      "cell_type": "code",
      "metadata": {
        "id": "MqEyi7if0Mo4",
        "colab_type": "code",
        "colab": {
          "base_uri": "https://localhost:8080/",
          "height": 303
        },
        "outputId": "5137bd73-f273-4be2-c213-994590881099"
      },
      "source": [
        "df = pd.read_csv('/content/drive/My Drive/Colab Notebooks/dataset/Other/fdata1.csv',\n",
        "                 sep=',', parse_dates=True, index_col=0)\n",
        "df.plot()\n",
        "plt.show()"
      ],
      "execution_count": 162,
      "outputs": [
        {
          "output_type": "display_data",
          "data": {
            "image/png": "[encoded data removed]",
            "text/plain": [
              "<Figure size 432x288 with 1 Axes>"
            ]
          },
          "metadata": {
            "tags": []
          }
        }
      ]
    },
    {
      "cell_type": "markdown",
      "metadata": {
        "id": "gv4Ii6OJ0Mxr",
        "colab_type": "text"
      },
      "source": [
        "Q143. Write a Python program to plot two or more lines on same plot with the suitable legends of each line. The code snippet gives the output shown in the screenshot:"
      ]
    },
    {
      "cell_type": "code",
      "metadata": {
        "id": "sHvxxQ2-0NK1",
        "colab_type": "code",
        "colab": {
          "base_uri": "https://localhost:8080/",
          "height": 295
        },
        "outputId": "06132359-11d9-46e3-d0e4-d2c5a5fadf1b"
      },
      "source": [
        "# line 1 points\n",
        "x1 = [10,20,30]\n",
        "y1 = [20,40,10]\n",
        "# plotting the line 1 points \n",
        "plt.plot(x1, y1, label = \"line 1\")\n",
        "# line 2 points\n",
        "x2 = [10,20,30]\n",
        "y2 = [40,10,30]\n",
        "# plotting the line 2 points \n",
        "plt.plot(x2, y2, label = \"line 2\")\n",
        "plt.xlabel('x - axis')\n",
        "# Set the y axis label of the current axis.\n",
        "plt.ylabel('y - axis')\n",
        "# Set a title of the current axes.\n",
        "plt.title('Two or more lines on same plot with suitable legends ')\n",
        "# show a legend on the plot\n",
        "plt.legend()\n",
        "# Display a figure.\n",
        "plt.show()"
      ],
      "execution_count": 148,
      "outputs": [
        {
          "output_type": "display_data",
          "data": {
            "image/png": "[encoded data removed]",
            "text/plain": [
              "<Figure size 432x288 with 1 Axes>"
            ]
          },
          "metadata": {
            "tags": []
          }
        }
      ]
    },
    {
      "cell_type": "markdown",
      "metadata": {
        "id": "50HJET680uD7",
        "colab_type": "text"
      },
      "source": [
        "Q144. Write a python programming to display a bar chart of the popularity of programming languages.\n",
        "Sample data: programming languages- Java, Python, PHP, JavaScript, C#, C++ Popularity- 22.2, 17.6, 8.8, 8, 7.7 , 6.7 The code snippet gives the output shown in the screenshot:"
      ]
    },
    {
      "cell_type": "code",
      "metadata": {
        "id": "pmN61KK80Nbc",
        "colab_type": "code",
        "colab": {
          "base_uri": "https://localhost:8080/",
          "height": 310
        },
        "outputId": "3a057bd2-9f25-437e-d6ef-4b0dce2e2241"
      },
      "source": [
        "x = ['Java', 'Python', 'PHP', 'JavaScript', 'C#', 'C++']\n",
        "popularity = [22.2, 17.6, 8.8, 8, 7.7, 6.7]\n",
        "x_pos = [i for i, _ in enumerate(x)]\n",
        "\n",
        "plt.bar(x_pos, popularity, color=(0.4, 0.6, 0.8, 1.0), edgecolor='blue')\n",
        "\n",
        "plt.xlabel(\"Languages\")\n",
        "plt.ylabel(\"Popularity\")\n",
        "plt.title(\"PopularitY of Programming Language\\n\" + \"Worldwide, Oct 2017 compared to a year ago\")\n",
        "plt.xticks(x_pos, x)\n",
        "# Turn on the grid\n",
        "plt.minorticks_on()\n",
        "plt.grid(which='major', linestyle='-', linewidth='0.5', color='red')\n",
        "# Customize the minor grid\n",
        "plt.grid(which='minor', linestyle=':', linewidth='0.5', color='black')\n",
        "plt.show()"
      ],
      "execution_count": 149,
      "outputs": [
        {
          "output_type": "display_data",
          "data": {
            "image/png": "[encoded data removed]",
            "text/plain": [
              "<Figure size 432x288 with 1 Axes>"
            ]
          },
          "metadata": {
            "tags": []
          }
        }
      ]
    },
    {
      "cell_type": "markdown",
      "metadata": {
        "id": "89ay5YxE0554",
        "colab_type": "text"
      },
      "source": [
        "Q145. Write a python programming to display a horizontal bar chart of the popularity of programming languages.\n",
        "Sample data: programming languages- Java, Python, PHP, JavaScript, C#, C++ Popularity- 22.2, 17.6, 8.8, 8, 7.7 , 6.7 The code snippet gives the output shown in the screenshot:"
      ]
    },
    {
      "cell_type": "code",
      "metadata": {
        "id": "lY_pYwFj0Nsu",
        "colab_type": "code",
        "colab": {
          "base_uri": "https://localhost:8080/",
          "height": 310
        },
        "outputId": "366002c1-2b82-4189-b3aa-003d67b59474"
      },
      "source": [
        "x = ['Java', 'Python', 'PHP', 'JS', 'C#', 'C++']\n",
        "popularity = [22.2, 17.6, 8.8, 8, 7.7, 6.7]\n",
        "x_pos = [i for i, _ in enumerate(x)]\n",
        "plt.barh(x_pos, popularity, color='green')\n",
        "plt.xlabel(\"Popularity\")\n",
        "plt.ylabel(\"Languages\")\n",
        "plt.title(\"PopularitY of Programming Language\\n\" + \"Worldwide, Oct 2017 compared to a year ago\")\n",
        "plt.yticks(x_pos, x)\n",
        "# Turn on the grid\n",
        "plt.minorticks_on()\n",
        "plt.grid(which='major', linestyle='-', linewidth='0.5', color='red')\n",
        "# Customize the minor grid\n",
        "plt.grid(which='minor', linestyle=':', linewidth='0.5', color='black')\n",
        "plt.show()"
      ],
      "execution_count": 150,
      "outputs": [
        {
          "output_type": "display_data",
          "data": {
            "image/png": "[encoded data removed]",
            "text/plain": [
              "<Figure size 432x288 with 1 Axes>"
            ]
          },
          "metadata": {
            "tags": []
          }
        }
      ]
    },
    {
      "cell_type": "markdown",
      "metadata": {
        "id": "MY9MUvYJ0N2o",
        "colab_type": "text"
      },
      "source": [
        "Q146. Write a python programming to display a bar chart of the Popularity of programming languages. Increase bottom margin.\n",
        "Sample data:\n",
        "P a g e 42 | 44\n",
        "programming languages: Java, Python, PHP, JavaScript, C#, C++ Popularity: 22.2, 17.6, 8.8, 8, 7.7 , 6.7 The code snippet gives the output shown in the screenshot:"
      ]
    },
    {
      "cell_type": "code",
      "metadata": {
        "id": "-DFihqfn1SNy",
        "colab_type": "code",
        "colab": {
          "base_uri": "https://localhost:8080/",
          "height": 310
        },
        "outputId": "d052b48f-39d6-4000-e175-5960f1d850bf"
      },
      "source": [
        "x = ['Java', 'Python', 'PHP', 'JavaScript', 'C#', 'C++']\n",
        "popularity = [22.2, 17.6, 8.8, 8, 7.7, 6.7]\n",
        "x_pos = [i for i, _ in enumerate(x)]\n",
        "\n",
        "plt.bar(x_pos, popularity, color=(0.4, 0.6, 0.8, 1.0))\n",
        "\n",
        "plt.xlabel(\"Languages\")\n",
        "plt.ylabel(\"Popularity\")\n",
        "plt.title(\"PopularitY of Programming Language\\n\" + \"Worldwide, Oct 2017 compared to a year ago\")\n",
        "plt.xticks(x_pos, x)\n",
        "# Turn on the grid\n",
        "plt.minorticks_on()\n",
        "plt.grid(which='major', linestyle='-', linewidth='0.5', color='red')\n",
        "# Customize the minor grid\n",
        "plt.grid(which='minor', linestyle=':', linewidth='0.5', color='black')\n",
        "plt.show()"
      ],
      "execution_count": 151,
      "outputs": [
        {
          "output_type": "display_data",
          "data": {
            "image/png": "[encoded data removed]",
            "text/plain": [
              "<Figure size 432x288 with 1 Axes>"
            ]
          },
          "metadata": {
            "tags": []
          }
        }
      ]
    },
    {
      "cell_type": "markdown",
      "metadata": {
        "id": "mnozd9Pv0Nlc",
        "colab_type": "text"
      },
      "source": [
        "Q147. Write a python program to create the bar plot from a DataFrame.\n",
        "a b c d e 2 4,8,5,7,6 4 2,3,4,2,6 6 4,7,4,7, 8 8 2,6,4,8, 6 10 2,4,3,3, 2 The code snippet gives the output shown in the following screenshot:"
      ]
    },
    {
      "cell_type": "code",
      "metadata": {
        "id": "eGUs5apl1Y3J",
        "colab_type": "code",
        "colab": {
          "base_uri": "https://localhost:8080/",
          "height": 268
        },
        "outputId": "418ebba6-b754-4371-91ef-08f43b0e4d94"
      },
      "source": [
        "a=np.array([[4,8,5,7,6],[2,3,4,2,6],[4,7,4,7,8],[2,6,4,8,6],[2,4,3,3,2]])\n",
        "df=DataFrame(a, columns=['a','b','c','d','e'], index=[2,4,6,8,10])\n",
        "\n",
        "df.plot(kind='bar')\n",
        "# Turn on the grid\n",
        "plt.minorticks_on()\n",
        "plt.grid(which='major', linestyle='-', linewidth='0.5', color='green')\n",
        "plt.grid(which='minor', linestyle=':', linewidth='0.5', color='black')\n",
        "\n",
        "plt.show()"
      ],
      "execution_count": 152,
      "outputs": [
        {
          "output_type": "display_data",
          "data": {
            "image/png": "[encoded data removed]",
            "text/plain": [
              "<Figure size 432x288 with 1 Axes>"
            ]
          },
          "metadata": {
            "tags": []
          }
        }
      ]
    },
    {
      "cell_type": "markdown",
      "metadata": {
        "id": "qhrMgEJS0NUi",
        "colab_type": "text"
      },
      "source": [
        "Q148. Write a python program to draw the scatter plot comparing two subject marks of Mathematics and Science. Use marks of 10 students.\n",
        "Sample data: Test Data- math_marks = [88, 92 , 80, 89, 100, 80, 60, 100, 80, 34] science_marks = [35, 79, 79 , 48, 100, 88, 32, 45, 20, 30] marks_range = [10, 20, 30, 40, 50, 60, 70, 80, 90, 100]"
      ]
    },
    {
      "cell_type": "code",
      "metadata": {
        "id": "GwAWSzi41pPn",
        "colab_type": "code",
        "colab": {
          "base_uri": "https://localhost:8080/",
          "height": 295
        },
        "outputId": "3ccd97eb-6ff6-4a9e-bb25-12d3c593e01e"
      },
      "source": [
        "math_marks = [88, 92, 80, 89, 100, 80, 60, 100, 80, 34]\n",
        "science_marks = [35, 79, 79, 48, 100, 88, 32, 45, 20, 30]\n",
        "marks_range = [10, 20, 30, 40, 50, 60, 70, 80, 90, 100]\n",
        "plt.scatter(marks_range, math_marks, label='Math marks', color='r')\n",
        "plt.scatter(marks_range, science_marks, label='Science marks', color='g')\n",
        "plt.title('Scatter Plot')\n",
        "plt.xlabel('Marks Range')\n",
        "plt.ylabel('Marks Scored')\n",
        "plt.legend()\n",
        "plt.show()"
      ],
      "execution_count": 153,
      "outputs": [
        {
          "output_type": "display_data",
          "data": {
            "image/png": "[encoded data removed]",
            "text/plain": [
              "<Figure size 432x288 with 1 Axes>"
            ]
          },
          "metadata": {
            "tags": []
          }
        }
      ]
    },
    {
      "cell_type": "markdown",
      "metadata": {
        "id": "Y10gDsTJ0NFG",
        "colab_type": "text"
      },
      "source": [
        "Q149. Write a python program to draw the scatter plot for three different groups comparing weights and heights. The output shown in the screenshot:"
      ]
    },
    {
      "cell_type": "code",
      "metadata": {
        "id": "QqzXm8xa0M9N",
        "colab_type": "code",
        "colab": {
          "base_uri": "https://localhost:8080/",
          "height": 305
        },
        "outputId": "f475dd88-a8e2-4b90-f10a-15f2a5a73232"
      },
      "source": [
        "import matplotlib.colors as mcolors\n",
        "weight1=[67,57.2,59.6,59.64,55.8,61.2,60.45,61,56.23,56]\n",
        "height1=[101.7,197.6,98.3,125.1,113.7,157.7,136,148.9,125.3,114.9] \n",
        "weight2=[61.9,64,62.1,64.2,62.3,65.4,62.4,61.4,62.5,63.6]\n",
        "height2=[152.8,155.3,135.1,125.2,151.3,135,182.2,195.9,165.1,125.1] \n",
        "weight3=[68.2,67.2,68.4,68.7,71,71.3,70.8,70,71.1,71.7]\n",
        "height3=[165.8,170.9,192.8,135.4,161.4,136.1,167.1,235.1,181.1,177.3]\n",
        "weight=np.concatenate((weight1,weight2,weight3))\n",
        "height=np.concatenate((height1,height2,height3))\n",
        "#plt.scatter(weight, height,color=['red','green','blue'])\n",
        "#color = np.array(['red','green','blue'])\n",
        "\n",
        "#plt.scatter(weight, height)\n",
        "plt.scatter(weight1, height1, label='Science marks', color='g')\n",
        "plt.scatter(weight2, height2, label='Science marks', color='r')\n",
        "plt.scatter(weight3, height3, label='Science marks', color='b')\n",
        "\n",
        "#colormap = np.array(['r', 'g'])\n",
        "#plt.scatter(weight, height, c=colormap)\n",
        "\n",
        "plt.xlabel('weight', fontsize=16)\n",
        "plt.ylabel('height', fontsize=16)\n",
        "plt.title('Group wise Weight vs Height scatter plot',fontsize=20)\n",
        "plt.show()"
      ],
      "execution_count": 157,
      "outputs": [
        {
          "output_type": "display_data",
          "data": {
            "image/png": "[encoded data removed]",
            "text/plain": [
              "<Figure size 432x288 with 1 Axes>"
            ]
          },
          "metadata": {
            "tags": []
          }
        }
      ]
    },
    {
      "cell_type": "markdown",
      "metadata": {
        "id": "j09-GWNZ1_U2",
        "colab_type": "text"
      },
      "source": [
        "Q150. Write a python program to draw a scatter plot to find sea-level rise in past 100 years. The output shown in the screenshot:"
      ]
    },
    {
      "cell_type": "code",
      "metadata": {
        "id": "4MY6XVZ51_fH",
        "colab_type": "code",
        "colab": {
          "base_uri": "https://localhost:8080/",
          "height": 295
        },
        "outputId": "f1a4939a-74a1-4639-c491-d17ff659f959"
      },
      "source": [
        "data = pd.read_csv('/content/drive/My Drive/Colab Notebooks/dataset/Other/export_dataframe.csv')\n",
        "year = data['year']\n",
        "sea_levels = data['CSIRO_sea_level']\n",
        "plt.scatter(year, sea_levels, edgecolors='b')\n",
        "plt.xlabel('Year')\n",
        "plt.ylabel('Sea Level (inches)')\n",
        "plt.title('Rise in Sealevel')\n",
        "plt.show()\n",
        "\n"
      ],
      "execution_count": 158,
      "outputs": [
        {
          "output_type": "display_data",
          "data": {
            "image/png": "[encoded data removed]",
            "text/plain": [
              "<Figure size 432x288 with 1 Axes>"
            ]
          },
          "metadata": {
            "tags": []
          }
        }
      ]
    }
  ]
}