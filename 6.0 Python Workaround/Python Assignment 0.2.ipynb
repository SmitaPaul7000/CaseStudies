{
 "cells": [
  {
   "cell_type": "markdown",
   "metadata": {},
   "source": [
    "# Task 1 \n",
    "### 1.1\n",
    "Write a Python Program to implement your own myreduce() function which works exactly like\n",
    "Python's built-in function reduce()"
   ]
  },
  {
   "cell_type": "code",
   "execution_count": 1,
   "metadata": {},
   "outputs": [
    {
     "name": "stdout",
     "output_type": "stream",
     "text": [
      "The sum of the list elements is : 17\n",
      "The maximum element of the list is : 6\n"
     ]
    }
   ],
   "source": [
    "'''reduce() in python is apply a particular function passed in its argument to all of the list elements'''\n",
    "# importing functools for reduce() \n",
    "import functools \n",
    "  \n",
    "# initializing list \n",
    "lis = [ 1 , 3, 5, 6, 2, ] \n",
    "  \n",
    "# using reduce to compute sum of list \n",
    "print (\"The sum of the list elements is : \",end=\"\") \n",
    "print (functools.reduce(lambda a,b : a+b,lis)) \n",
    "  \n",
    "# using reduce to compute maximum element from list \n",
    "print (\"The maximum element of the list is : \",end=\"\") \n",
    "print (functools.reduce(lambda a,b : a if a > b else b,lis)) "
   ]
  },
  {
   "cell_type": "code",
   "execution_count": 2,
   "metadata": {},
   "outputs": [
    {
     "name": "stdout",
     "output_type": "stream",
     "text": [
      "The sum of the list elements is :  24\n",
      "The maximum element of the list is :  666\n"
     ]
    }
   ],
   "source": [
    "def myreduce(expression, listData):\n",
    "    lst = listData[0]\n",
    "    for next in listData[1:]:        \n",
    "        lst = expression(lst, next)        \n",
    "    return lst\n",
    "\n",
    "print (\"The sum of the list elements is : \", myreduce( (lambda x, y: x * y), [1, 2, 3, 4])) \n",
    "\n",
    "print (\"The maximum element of the list is : \",myreduce( (lambda x, y: x if x > y else y), [1, 2, 333, 14,666]))"
   ]
  },
  {
   "cell_type": "markdown",
   "metadata": {},
   "source": [
    "### 1.2\n",
    "Write a Python program to implement your own myfilter() function which works exactly like\n",
    "Python's built-in function filter()"
   ]
  },
  {
   "cell_type": "code",
   "execution_count": 3,
   "metadata": {},
   "outputs": [
    {
     "name": "stdout",
     "output_type": "stream",
     "text": [
      "[12, 54, 102, 50, 70]\n"
     ]
    }
   ],
   "source": [
    "'''The filter() function in Python takes in a function and a list as arguments. \n",
    "This offers an elegant way to filter out all the elements of a sequence “sequence”, \n",
    "for which the function returns True.'''\n",
    "\n",
    "# Take a list of numbers.  \n",
    "my_list = [12, 65, 54, 39, 102, 339, 221, 50, 70, ] \n",
    "result = list(filter(lambda x: (x % 2 == 0), my_list))  \n",
    "print(result)  "
   ]
  },
  {
   "cell_type": "code",
   "execution_count": 4,
   "metadata": {},
   "outputs": [
    {
     "name": "stdout",
     "output_type": "stream",
     "text": [
      "[12, 54, 102, 50, 70]\n"
     ]
    }
   ],
   "source": [
    "def myfilter(expression,listData):\n",
    "    lst=[]\n",
    "    for i in listData:\n",
    "        if expression(i):\n",
    "            lst.append(i)\n",
    "    return lst\n",
    "\n",
    "result = myfilter(lambda x : x % 2 == 0, [12, 65, 54, 39, 102, 339, 221, 50, 70, ] )\n",
    "print(result)"
   ]
  },
  {
   "cell_type": "markdown",
   "metadata": {},
   "source": [
    "### 2.\n",
    "Implement List comprehensions to produce the following lists.\n",
    "Write List comprehensions to produce the following Lists\n",
    "['A', 'C', 'A', 'D', 'G', 'I', ’L’, ‘ D’]\n",
    "['x', 'xx', 'xxx', 'xxxx', 'y', 'yy', 'yyy', 'yyyy', 'z', 'zz', 'zzz', 'zzzz']\n",
    "['x', 'y', 'z', 'xx', 'yy', 'zz', 'xx', 'yy', 'zz', 'xxxx', 'yyyy', 'zzzz']\n",
    "[[2], [3], [4], [3], [4], [5], [4], [5], [6]]\n",
    "[[2, 3, 4, 5], [3, 4, 5, 6], [4, 5, 6, 7], [5, 6, 7, 8]]\n",
    "[(1, 1), (2, 1), (3, 1), (1, 2), (2, 2), (3, 2), (1, 3), (2, 3), (3, 3)]"
   ]
  },
  {
   "cell_type": "code",
   "execution_count": 5,
   "metadata": {},
   "outputs": [
    {
     "name": "stdout",
     "output_type": "stream",
     "text": [
      "['A', 'C', 'A', 'D', 'G', 'I', 'L', 'D']\n",
      "['x', 'xx', 'xxx', 'xxxx', 'y', 'yy', 'yyy', 'yyyy', 'z', 'zz', 'zzz', 'zzzz']\n",
      "['x', 'y', 'z', 'xx', 'yy', 'zz', 'xxx', 'yyy', 'zzz', 'xxxx', 'yyyy', 'zzzz']\n",
      "[[2], [3], [4], [3], [4], [5], [4], [5], [6]]\n",
      "[[2, 3, 4, 5], [3, 4, 5, 6], [4, 5, 6, 7], [5, 6, 7, 8]]\n",
      "[(1, 1), (2, 1), (3, 1), (1, 2), (2, 2), (3, 2), (1, 3), (2, 3), (3, 3)]\n"
     ]
    }
   ],
   "source": [
    "#['A', 'C', 'A', 'D', 'G', 'I', ’L’, ‘ D’]\n",
    "word='ACADGILD'\n",
    "lst=[alpha for alpha in word]\n",
    "print(lst)\n",
    "\n",
    "#['x', 'xx', 'xxx', 'xxxx', 'y', 'yy', 'yyy', 'yyyy', 'z', 'zz', 'zzz', 'zzzz']\n",
    "alphaList = ['x','y','z']\n",
    "numList = [1,2,3,4]\n",
    "# for a in alphaList:\n",
    "#\n",
    "#     for n in numList:\n",
    "#         print(a*n)        \n",
    "lst = [a*n for a in alphaList for n in numList]\n",
    "print(lst)\n",
    "\n",
    "#['x', 'y', 'z', 'xx', 'yy', 'zz', 'xx', 'yy', 'zz', 'xxxx', 'yyyy', 'zzzz']\n",
    "alphaList = ['x','y','z']\n",
    "numList = [1,2,3,4]      \n",
    "lst = [a*n for n in numList for a in alphaList]\n",
    "print(lst)\n",
    "\n",
    "#[[2], [3], [4], [3], [4], [5], [4], [5], [6]]\n",
    "numlist = [2,3,4]\n",
    "lst = [[num + numrange] for num in numlist for numrange in range(0,3)]\n",
    "print(lst)\n",
    "\n",
    "#[[2, 3, 4, 5], [3, 4, 5, 6], [4, 5, 6, 7], [5, 6, 7, 8]]\n",
    "numlist = [2,3,4,5]\n",
    "lst = [[num + numrange for num in numlist] for numrange in range(0,4)]\n",
    "print(lst)\n",
    "\n",
    "#[(1, 1), (2, 1), (3, 1), (1, 2), (2, 2), (3, 2), (1, 3), (2, 3), (3, 3)]\n",
    "numlist = [1,2,3]\n",
    "result = [(y, x) for x in numlist for y in numlist]\n",
    "print(result)"
   ]
  },
  {
   "cell_type": "markdown",
   "metadata": {},
   "source": [
    "### 3\n",
    "Implement a function longestWord() that takes a list of words and returns the longest one."
   ]
  },
  {
   "cell_type": "code",
   "execution_count": 6,
   "metadata": {},
   "outputs": [
    {
     "name": "stdout",
     "output_type": "stream",
     "text": [
      "longestttWord()\n"
     ]
    }
   ],
   "source": [
    "def longestWord(lst):\n",
    "    return max([(len(i),i) for i in lst])\n",
    "\n",
    "lst =['Implement','a','function','longestttWord()','that']\n",
    "\n",
    "print(longestWord(lst)[1])\n"
   ]
  },
  {
   "cell_type": "markdown",
   "metadata": {},
   "source": [
    "# Task 2:\n",
    "### 1.1\n",
    "Write a Python Program(with class concepts) to find the area of the triangle using the below\n",
    "formula.\n",
    "area = (s*(s-a)*(s-b)*(s-c)) ** 0.5\n",
    "Function to take the length of the sides of triangle from user should be defined in the parent\n",
    "class and function to calculate the area should be defined in subclass."
   ]
  },
  {
   "cell_type": "code",
   "execution_count": 7,
   "metadata": {},
   "outputs": [
    {
     "name": "stdout",
     "output_type": "stream",
     "text": [
      "Traingle Area is : 1.9515618744994994\n"
     ]
    }
   ],
   "source": [
    "#Prent class\n",
    "class clstrigle():     \n",
    "    def __init__(self, a,b,c):\n",
    "        self.a = a\n",
    "        self.b = b\n",
    "        self.c = c\n",
    "\n",
    "#subclass\n",
    "class triangleArea(clstrigle): \n",
    "    \n",
    "    def __init__(self, a,b,c):\n",
    "        clstrigle.__init__(self, a,b,c)\n",
    "        \n",
    "    def calculate_area(self): \n",
    "        s = (self.a + self.b + self.c) * 0.5\n",
    "        return (s*(s-self.a)*(s-self.b)*(s-self.c)) ** 0.5\n",
    "\n",
    "print(\"Traingle Area is :\",triangleArea(2.5,2,2).calculate_area())\n",
    "\n"
   ]
  },
  {
   "cell_type": "markdown",
   "metadata": {},
   "source": [
    "### 1.2\n",
    "Write a function filter_long_words() that takes a list of words and an integer n and returns the list\n",
    "of words that are longer than n."
   ]
  },
  {
   "cell_type": "code",
   "execution_count": 8,
   "metadata": {},
   "outputs": [
    {
     "name": "stdout",
     "output_type": "stream",
     "text": [
      "['function', 'filter_long_words']\n"
     ]
    }
   ],
   "source": [
    "def filter_long_words(lst, n):\n",
    "    return [wrd for wrd in lst if len(wrd) > n]\n",
    "\n",
    "print (filter_long_words(['Write','a','function','filter_long_words','words','that'], 5))\n"
   ]
  },
  {
   "cell_type": "markdown",
   "metadata": {},
   "source": [
    "### 2.1\n",
    "Write a Python program using function concept that maps list of words into a list of integers\n",
    "representing the lengths of the corresponding words .\n",
    "Hint: If a list [ ab,cde,erty] is passed on to the python function output should come as [2,3,4]\n",
    "Here 2,3 and 4 are the lengths of the words in the list."
   ]
  },
  {
   "cell_type": "code",
   "execution_count": 9,
   "metadata": {},
   "outputs": [
    {
     "name": "stdout",
     "output_type": "stream",
     "text": [
      "[2, 3, 4]\n",
      "[2, 3, 4]\n"
     ]
    }
   ],
   "source": [
    "#Using inbuild map\n",
    "lst = ['ab','cde','erty'] \n",
    "print(list(map(lambda a: len(a), lst)))\n",
    "\n",
    "###OR\n",
    "\n",
    "#python plain code\n",
    "print([len(j) for i,j in enumerate(lst)])"
   ]
  },
  {
   "cell_type": "markdown",
   "metadata": {},
   "source": [
    "### 2.2\n",
    "Write a Python function which takes a character (i.e. a string of length 1) and returns True if it is\n",
    "a vowel, False otherwise.\n",
    "NOTE: The solution shared through Github should contain the source code used and\n",
    "the screenshot of the output."
   ]
  },
  {
   "cell_type": "code",
   "execution_count": 11,
   "metadata": {},
   "outputs": [
    {
     "name": "stdout",
     "output_type": "stream",
     "text": [
      "A\n",
      "True\n"
     ]
    }
   ],
   "source": [
    "def is_vowel(char):   \n",
    "    print(char.lower() in 'aeiou')\n",
    "\n",
    "a = input()\n",
    "if a != 'quit' and len(a) == 1:\n",
    "    vowel = is_vowel(a)\n",
    "else:    \n",
    "    print('invalid input. pls enter a character ')"
   ]
  },
  {
   "cell_type": "code",
   "execution_count": null,
   "metadata": {},
   "outputs": [],
   "source": []
  }
 ],
 "metadata": {
  "kernelspec": {
   "display_name": "Python 3",
   "language": "python",
   "name": "python3"
  },
  "language_info": {
   "codemirror_mode": {
    "name": "ipython",
    "version": 3
   },
   "file_extension": ".py",
   "mimetype": "text/x-python",
   "name": "python",
   "nbconvert_exporter": "python",
   "pygments_lexer": "ipython3",
   "version": "3.7.1"
  }
 },
 "nbformat": 4,
 "nbformat_minor": 2
}
