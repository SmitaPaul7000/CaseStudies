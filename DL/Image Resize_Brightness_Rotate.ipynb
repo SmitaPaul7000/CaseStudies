{
 "cells": [
  {
   "cell_type": "code",
   "execution_count": 1,
   "metadata": {},
   "outputs": [],
   "source": [
    "import cv2\n",
    "import numpy as np"
   ]
  },
  {
   "cell_type": "code",
   "execution_count": 2,
   "metadata": {},
   "outputs": [
    {
     "data": {
      "text/plain": [
       "True"
      ]
     },
     "execution_count": 2,
     "metadata": {},
     "output_type": "execute_result"
    }
   ],
   "source": [
    "#Make brighter image\n",
    "image = cv2.imread('test.jpg')\n",
    "image = cv2.cvtColor(image, cv2.COLOR_BGR2HSV)\n",
    "\n",
    "v = image[:, :, 2]\n",
    "v = np.where(v <= 255 - 30, v + 30, 255)\n",
    "image[:, :, 2] = v\n",
    "\n",
    "image = cv2.cvtColor(image, cv2.COLOR_HSV2BGR)\n",
    "cv2.imwrite(\"testbrighter.jpg\", image)\n"
   ]
  },
  {
   "cell_type": "code",
   "execution_count": 3,
   "metadata": {},
   "outputs": [],
   "source": [
    "#resize image\n",
    "from PIL import Image\n",
    "\n",
    "img = Image.open('test.jpg') # image extension *.png,*.jpg\n",
    "new_width  = 200\n",
    "new_height = 300\n",
    "img = img.resize((new_width, new_height), Image.ANTIALIAS)\n",
    "img.save('test Resized.jpg') # form"
   ]
  },
  {
   "cell_type": "code",
   "execution_count": 4,
   "metadata": {},
   "outputs": [
    {
     "data": {
      "text/plain": [
       "True"
      ]
     },
     "execution_count": 4,
     "metadata": {},
     "output_type": "execute_result"
    }
   ],
   "source": [
    "# rotate Image 45 degree angle\n",
    "img = cv2.imread('test.jpg')\n",
    "row,col , t = img.shape\n",
    "center=tuple(np.array([row,col])/2)\n",
    "rot_mat = cv2.getRotationMatrix2D(center,45,1.0)\n",
    "new_image = cv2.warpAffine(image, rot_mat, (col,row))\n",
    "cv2.imwrite(\"test45.jpg\", new_image)"
   ]
  }
 ],
 "metadata": {
  "kernelspec": {
   "display_name": "Python 3",
   "language": "python",
   "name": "python3"
  },
  "language_info": {
   "codemirror_mode": {
    "name": "ipython",
    "version": 3
   },
   "file_extension": ".py",
   "mimetype": "text/x-python",
   "name": "python",
   "nbconvert_exporter": "python",
   "pygments_lexer": "ipython3",
   "version": "3.6.5"
  }
 },
 "nbformat": 4,
 "nbformat_minor": 2
}
